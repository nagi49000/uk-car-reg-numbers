{
 "cells": [
  {
   "cell_type": "markdown",
   "metadata": {},
   "source": [
    "# Building a simple autoencoder\n",
    "\n",
    "Based on the ability to generate UK car registration numbers, one can build a dataset of training and test data. With a suitable vectorizer, one can go ahead and make an autoencoder.\n",
    "\n",
    "### References\n",
    "\n",
    "https://blog.keras.io/building-autoencoders-in-keras.html"
   ]
  },
  {
   "cell_type": "code",
   "execution_count": 1,
   "metadata": {
    "scrolled": true
   },
   "outputs": [],
   "source": [
    "import sys\n",
    "import numpy as np\n",
    "import keras\n",
    "from keras import regularizers\n",
    "from keras import layers\n",
    "import random\n",
    "\n",
    "if '..' not in sys.path:\n",
    "    sys.path.append('..')\n",
    "from car_reg_generator.car_reg_generator.uk_reg import UkRegGenerator\n",
    "from car_reg_generator.car_reg_generator.uk_reg import UkRegBowVectorizer"
   ]
  },
  {
   "cell_type": "markdown",
   "metadata": {},
   "source": [
    "### Data generation"
   ]
  },
  {
   "cell_type": "code",
   "execution_count": 2,
   "metadata": {},
   "outputs": [
    {
     "name": "stdout",
     "output_type": "stream",
     "text": [
      "input vector length = 252\n",
      "actual number of test samples = 1000\n"
     ]
    }
   ],
   "source": [
    "n_train = 10000\n",
    "n_test = 1000\n",
    "\n",
    "random.seed(0)\n",
    "g = UkRegGenerator()\n",
    "v = UkRegBowVectorizer()\n",
    "\n",
    "train_strs = [g.get_reg() for _ in range(n_train)]\n",
    "train_vecs = np.array([v.vectorize(x) for x in train_strs])\n",
    "test_strs = [g.get_reg() for _ in range(n_test)]\n",
    "test_strs = [x for x in test_strs if x not in set(train_strs)]  # sanity check\n",
    "test_vecs = np.array([v.vectorize(x) for x in test_strs])\n",
    "\n",
    "vec_length = len(train_vecs[0])\n",
    "print('input vector length = ' + str(vec_length))\n",
    "print('actual number of test samples = ' + str(len(test_strs)))"
   ]
  },
  {
   "cell_type": "markdown",
   "metadata": {},
   "source": [
    "### Standard autoencoder\n",
    "\n",
    "Design the network. A single dense layer for the encoder and decoder needs an encoding dimension of around 100. Having more layers allows a smaller encoding dimension, although convergence during learning starts to become unstable."
   ]
  },
  {
   "cell_type": "code",
   "execution_count": 3,
   "metadata": {},
   "outputs": [],
   "source": [
    "encoding_dim = 30\n",
    "input_reg = keras.Input(shape=(vec_length,))\n",
    "# encoded = layers.Dense(encoding_dim, activation='relu', activity_regularizer=regularizers.l1(10e-5))(input_reg)\n",
    "encoded = layers.Dense(vec_length, activation='relu')(input_reg)\n",
    "encoded = layers.Dense(encoding_dim, activation='relu')(encoded)\n",
    "encoded = layers.Dense(encoding_dim, activation='relu')(encoded)\n",
    "encoder = keras.Model(input_reg, encoded)\n",
    "\n",
    "encoded_input = keras.Input(shape=(encoding_dim,))\n",
    "decoded = layers.Dense(encoding_dim, activation='relu')(encoded_input)\n",
    "decoded = layers.Dense(vec_length, activation='relu')(decoded)\n",
    "decoded = layers.Dense(vec_length, activation='sigmoid')(decoded)\n",
    "decoder = keras.Model(encoded_input, decoded)\n",
    "\n",
    "autoencoder = keras.Model(input_reg, decoder(encoder(input_reg)))"
   ]
  },
  {
   "cell_type": "markdown",
   "metadata": {},
   "source": [
    "Do some learning. For shallow networks, almost any optimizer and loss work. For deeper networks, poor choices almost certainly yield failed convergence on the loss function. Even good choices yield convergence on the loss function only on some runs."
   ]
  },
  {
   "cell_type": "code",
   "execution_count": 4,
   "metadata": {
    "scrolled": true
   },
   "outputs": [
    {
     "name": "stdout",
     "output_type": "stream",
     "text": [
      "Epoch 1/100\n",
      "40/40 [==============================] - 1s 25ms/step - loss: 36.3656 - val_loss: 34.4921\n",
      "Epoch 2/100\n",
      "40/40 [==============================] - 1s 21ms/step - loss: 34.2818 - val_loss: 34.0305\n",
      "Epoch 3/100\n",
      "40/40 [==============================] - 1s 19ms/step - loss: 33.2773 - val_loss: 32.4146\n",
      "Epoch 4/100\n",
      "40/40 [==============================] - 1s 22ms/step - loss: 31.7591 - val_loss: 31.3422\n",
      "Epoch 5/100\n",
      "40/40 [==============================] - 1s 19ms/step - loss: 30.9186 - val_loss: 30.6825\n",
      "Epoch 6/100\n",
      "40/40 [==============================] - 1s 19ms/step - loss: 30.2745 - val_loss: 30.2219\n",
      "Epoch 7/100\n",
      "40/40 [==============================] - 1s 21ms/step - loss: 29.7318 - val_loss: 29.7818\n",
      "Epoch 8/100\n",
      "40/40 [==============================] - 1s 19ms/step - loss: 29.2281 - val_loss: 29.2920\n",
      "Epoch 9/100\n",
      "40/40 [==============================] - 1s 24ms/step - loss: 28.6255 - val_loss: 28.7015\n",
      "Epoch 10/100\n",
      "40/40 [==============================] - 1s 19ms/step - loss: 27.7816 - val_loss: 27.7975\n",
      "Epoch 11/100\n",
      "40/40 [==============================] - 1s 29ms/step - loss: 26.9915 - val_loss: 27.1405\n",
      "Epoch 12/100\n",
      "40/40 [==============================] - 1s 24ms/step - loss: 26.3071 - val_loss: 26.5153\n",
      "Epoch 13/100\n",
      "40/40 [==============================] - 1s 22ms/step - loss: 25.6491 - val_loss: 25.9718\n",
      "Epoch 14/100\n",
      "40/40 [==============================] - 1s 24ms/step - loss: 25.0538 - val_loss: 25.2738\n",
      "Epoch 15/100\n",
      "40/40 [==============================] - 1s 28ms/step - loss: 24.3345 - val_loss: 24.5917\n",
      "Epoch 16/100\n",
      "40/40 [==============================] - 1s 25ms/step - loss: 23.6865 - val_loss: 24.0297\n",
      "Epoch 17/100\n",
      "40/40 [==============================] - 1s 22ms/step - loss: 23.1795 - val_loss: 23.6141\n",
      "Epoch 18/100\n",
      "40/40 [==============================] - 1s 22ms/step - loss: 22.7152 - val_loss: 23.2183\n",
      "Epoch 19/100\n",
      "40/40 [==============================] - 1s 23ms/step - loss: 22.2483 - val_loss: 22.7248\n",
      "Epoch 20/100\n",
      "40/40 [==============================] - 1s 26ms/step - loss: 21.8400 - val_loss: 22.3580\n",
      "Epoch 21/100\n",
      "40/40 [==============================] - 1s 26ms/step - loss: 21.4035 - val_loss: 22.0298\n",
      "Epoch 22/100\n",
      "40/40 [==============================] - 1s 25ms/step - loss: 21.0411 - val_loss: 21.6490\n",
      "Epoch 23/100\n",
      "40/40 [==============================] - 1s 22ms/step - loss: 20.6901 - val_loss: 21.3377\n",
      "Epoch 24/100\n",
      "40/40 [==============================] - 1s 22ms/step - loss: 20.3188 - val_loss: 20.6799\n",
      "Epoch 25/100\n",
      "40/40 [==============================] - 1s 23ms/step - loss: 19.8399 - val_loss: 20.2851\n",
      "Epoch 26/100\n",
      "40/40 [==============================] - 1s 23ms/step - loss: 19.4575 - val_loss: 19.9641\n",
      "Epoch 27/100\n",
      "40/40 [==============================] - 1s 20ms/step - loss: 19.1187 - val_loss: 19.7090\n",
      "Epoch 28/100\n",
      "40/40 [==============================] - 1s 23ms/step - loss: 18.7716 - val_loss: 19.2387\n",
      "Epoch 29/100\n",
      "40/40 [==============================] - 1s 25ms/step - loss: 18.4188 - val_loss: 18.7251\n",
      "Epoch 30/100\n",
      "40/40 [==============================] - 1s 25ms/step - loss: 18.0149 - val_loss: 18.4514\n",
      "Epoch 31/100\n",
      "40/40 [==============================] - 1s 24ms/step - loss: 17.7693 - val_loss: 18.0968\n",
      "Epoch 32/100\n",
      "40/40 [==============================] - 1s 25ms/step - loss: 17.4744 - val_loss: 17.8182\n",
      "Epoch 33/100\n",
      "40/40 [==============================] - 1s 26ms/step - loss: 17.1637 - val_loss: 17.4685\n",
      "Epoch 34/100\n",
      "40/40 [==============================] - 1s 22ms/step - loss: 16.8211 - val_loss: 17.1591\n",
      "Epoch 35/100\n",
      "40/40 [==============================] - 1s 23ms/step - loss: 16.5497 - val_loss: 16.8909\n",
      "Epoch 36/100\n",
      "40/40 [==============================] - 1s 22ms/step - loss: 16.3236 - val_loss: 16.5905\n",
      "Epoch 37/100\n",
      "40/40 [==============================] - 1s 20ms/step - loss: 16.0347 - val_loss: 16.2734\n",
      "Epoch 38/100\n",
      "40/40 [==============================] - 1s 24ms/step - loss: 15.8346 - val_loss: 16.1704\n",
      "Epoch 39/100\n",
      "40/40 [==============================] - 1s 28ms/step - loss: 15.7511 - val_loss: 16.0991\n",
      "Epoch 40/100\n",
      "40/40 [==============================] - 1s 31ms/step - loss: 15.5343 - val_loss: 15.8556\n",
      "Epoch 41/100\n",
      "40/40 [==============================] - 1s 26ms/step - loss: 15.3963 - val_loss: 15.5891\n",
      "Epoch 42/100\n",
      "40/40 [==============================] - 1s 27ms/step - loss: 15.1999 - val_loss: 15.4110\n",
      "Epoch 43/100\n",
      "40/40 [==============================] - 1s 25ms/step - loss: 15.0852 - val_loss: 15.2813\n",
      "Epoch 44/100\n",
      "40/40 [==============================] - 1s 25ms/step - loss: 14.9942 - val_loss: 15.2661\n",
      "Epoch 45/100\n",
      "40/40 [==============================] - 1s 24ms/step - loss: 14.9185 - val_loss: 15.2935\n",
      "Epoch 46/100\n",
      "40/40 [==============================] - 1s 26ms/step - loss: 14.8085 - val_loss: 15.0178\n",
      "Epoch 47/100\n",
      "40/40 [==============================] - 1s 24ms/step - loss: 14.6505 - val_loss: 15.1685\n",
      "Epoch 48/100\n",
      "40/40 [==============================] - 1s 27ms/step - loss: 14.6259 - val_loss: 14.8869\n",
      "Epoch 49/100\n",
      "40/40 [==============================] - 1s 24ms/step - loss: 14.5445 - val_loss: 14.7363\n",
      "Epoch 50/100\n",
      "40/40 [==============================] - 1s 23ms/step - loss: 14.4492 - val_loss: 14.6804\n",
      "Epoch 51/100\n",
      "40/40 [==============================] - 1s 22ms/step - loss: 14.3969 - val_loss: 14.5915\n",
      "Epoch 52/100\n",
      "40/40 [==============================] - 1s 24ms/step - loss: 14.3267 - val_loss: 14.4606\n",
      "Epoch 53/100\n",
      "40/40 [==============================] - 1s 21ms/step - loss: 14.2472 - val_loss: 14.4797\n",
      "Epoch 54/100\n",
      "40/40 [==============================] - 1s 25ms/step - loss: 14.2439 - val_loss: 14.4031\n",
      "Epoch 55/100\n",
      "40/40 [==============================] - 1s 22ms/step - loss: 14.1521 - val_loss: 14.2988\n",
      "Epoch 56/100\n",
      "40/40 [==============================] - 1s 33ms/step - loss: 14.1322 - val_loss: 14.4291\n",
      "Epoch 57/100\n",
      "40/40 [==============================] - 1s 29ms/step - loss: 14.1612 - val_loss: 14.3594\n",
      "Epoch 58/100\n",
      "40/40 [==============================] - 1s 26ms/step - loss: 14.0726 - val_loss: 14.2813\n",
      "Epoch 59/100\n",
      "40/40 [==============================] - 1s 23ms/step - loss: 14.0789 - val_loss: 14.1525\n",
      "Epoch 60/100\n",
      "40/40 [==============================] - 1s 30ms/step - loss: 14.0100 - val_loss: 14.1870\n",
      "Epoch 61/100\n",
      "40/40 [==============================] - 1s 21ms/step - loss: 13.9763 - val_loss: 14.0869\n",
      "Epoch 62/100\n",
      "40/40 [==============================] - 1s 26ms/step - loss: 13.9204 - val_loss: 14.0664\n",
      "Epoch 63/100\n",
      "40/40 [==============================] - 1s 22ms/step - loss: 13.8902 - val_loss: 14.0096\n",
      "Epoch 64/100\n",
      "40/40 [==============================] - 1s 26ms/step - loss: 13.8900 - val_loss: 13.9985\n",
      "Epoch 65/100\n",
      "40/40 [==============================] - 1s 22ms/step - loss: 13.8581 - val_loss: 14.0692\n",
      "Epoch 66/100\n",
      "40/40 [==============================] - 2s 41ms/step - loss: 13.8752 - val_loss: 14.0216\n",
      "Epoch 67/100\n",
      "40/40 [==============================] - 1s 32ms/step - loss: 13.8407 - val_loss: 13.9690\n",
      "Epoch 68/100\n",
      "40/40 [==============================] - 1s 25ms/step - loss: 14.1868 - val_loss: 14.1594\n",
      "Epoch 69/100\n",
      "40/40 [==============================] - 1s 26ms/step - loss: 14.1282 - val_loss: 14.2470\n",
      "Epoch 70/100\n",
      "40/40 [==============================] - 1s 25ms/step - loss: 13.9412 - val_loss: 13.9670\n",
      "Epoch 71/100\n",
      "40/40 [==============================] - 1s 34ms/step - loss: 13.8118 - val_loss: 13.8567\n",
      "Epoch 72/100\n",
      "40/40 [==============================] - 1s 26ms/step - loss: 13.7677 - val_loss: 13.8531\n",
      "Epoch 73/100\n",
      "40/40 [==============================] - 1s 24ms/step - loss: 13.7640 - val_loss: 13.8188\n",
      "Epoch 74/100\n",
      "40/40 [==============================] - 1s 25ms/step - loss: 13.7387 - val_loss: 13.8326\n",
      "Epoch 75/100\n",
      "40/40 [==============================] - 1s 22ms/step - loss: 13.7415 - val_loss: 13.7820\n",
      "Epoch 76/100\n",
      "40/40 [==============================] - 1s 23ms/step - loss: 13.7200 - val_loss: 13.7990\n",
      "Epoch 77/100\n",
      "40/40 [==============================] - 1s 25ms/step - loss: 13.7186 - val_loss: 13.7776\n",
      "Epoch 78/100\n",
      "40/40 [==============================] - 1s 23ms/step - loss: 13.7083 - val_loss: 13.7728\n",
      "Epoch 79/100\n",
      "40/40 [==============================] - 1s 29ms/step - loss: 13.7100 - val_loss: 13.8264\n",
      "Epoch 80/100\n"
     ]
    },
    {
     "name": "stdout",
     "output_type": "stream",
     "text": [
      "40/40 [==============================] - 1s 22ms/step - loss: 13.7223 - val_loss: 13.7566\n",
      "Epoch 81/100\n",
      "40/40 [==============================] - 1s 21ms/step - loss: 13.7063 - val_loss: 13.7515\n",
      "Epoch 82/100\n",
      "40/40 [==============================] - 1s 21ms/step - loss: 13.6994 - val_loss: 13.7431\n",
      "Epoch 83/100\n",
      "40/40 [==============================] - 1s 26ms/step - loss: 13.6883 - val_loss: 13.7459\n",
      "Epoch 84/100\n",
      "40/40 [==============================] - 1s 23ms/step - loss: 13.6818 - val_loss: 13.7391\n",
      "Epoch 85/100\n",
      "40/40 [==============================] - 1s 24ms/step - loss: 13.6769 - val_loss: 13.7221\n",
      "Epoch 86/100\n",
      "40/40 [==============================] - 1s 19ms/step - loss: 13.6806 - val_loss: 13.7330\n",
      "Epoch 87/100\n",
      "40/40 [==============================] - 1s 25ms/step - loss: 13.6710 - val_loss: 13.7159\n",
      "Epoch 88/100\n",
      "40/40 [==============================] - 1s 20ms/step - loss: 13.6676 - val_loss: 13.7121\n",
      "Epoch 89/100\n",
      "40/40 [==============================] - 1s 27ms/step - loss: 13.6667 - val_loss: 13.7156\n",
      "Epoch 90/100\n",
      "40/40 [==============================] - 1s 22ms/step - loss: 13.6675 - val_loss: 13.7066\n",
      "Epoch 91/100\n",
      "40/40 [==============================] - 1s 26ms/step - loss: 13.6630 - val_loss: 13.7162\n",
      "Epoch 92/100\n",
      "40/40 [==============================] - 1s 26ms/step - loss: 13.6615 - val_loss: 13.7040\n",
      "Epoch 93/100\n",
      "40/40 [==============================] - 1s 22ms/step - loss: 13.6579 - val_loss: 13.6985\n",
      "Epoch 94/100\n",
      "40/40 [==============================] - 1s 23ms/step - loss: 13.6573 - val_loss: 13.7075\n",
      "Epoch 95/100\n",
      "40/40 [==============================] - 1s 21ms/step - loss: 13.6636 - val_loss: 13.6949\n",
      "Epoch 96/100\n",
      "40/40 [==============================] - 1s 18ms/step - loss: 13.6548 - val_loss: 13.6928\n",
      "Epoch 97/100\n",
      "40/40 [==============================] - 1s 20ms/step - loss: 13.6602 - val_loss: 13.6907\n",
      "Epoch 98/100\n",
      "40/40 [==============================] - 1s 21ms/step - loss: 13.6542 - val_loss: 13.6864\n",
      "Epoch 99/100\n",
      "40/40 [==============================] - 1s 23ms/step - loss: 13.6524 - val_loss: 13.6906\n",
      "Epoch 100/100\n",
      "40/40 [==============================] - 1s 17ms/step - loss: 13.6501 - val_loss: 13.6830\n"
     ]
    },
    {
     "data": {
      "text/plain": [
       "<tensorflow.python.keras.callbacks.History at 0x7f902c1e5a60>"
      ]
     },
     "execution_count": 4,
     "metadata": {},
     "output_type": "execute_result"
    }
   ],
   "source": [
    "autoencoder.compile(optimizer='adam', loss='categorical_crossentropy')\n",
    "autoencoder.fit(train_vecs, train_vecs,\n",
    "                epochs=100,\n",
    "                batch_size=256,\n",
    "                shuffle=True,\n",
    "                validation_data=(test_vecs, test_vecs))"
   ]
  },
  {
   "cell_type": "markdown",
   "metadata": {},
   "source": [
    "Evaluation"
   ]
  },
  {
   "cell_type": "code",
   "execution_count": 5,
   "metadata": {
    "scrolled": true
   },
   "outputs": [
    {
     "name": "stdout",
     "output_type": "stream",
     "text": [
      "['AN45FVI', 'LE23DCR', 'HA99JWO', 'EQ58XKI', 'RP49FNK', 'DJ61XIM', 'WO62NON', 'EA42JCE', 'DV47KTZ', 'HM70DFU']\n",
      "['AN45FVI', 'LE23DCR', 'HA99JWO', 'EQ58XKI', 'RP49FNK', 'DJ61XIM', 'WO62NON', 'EA42JCE', 'DV47KTZ', 'HM70DFU']\n",
      "accuracy = 1.0\n"
     ]
    }
   ],
   "source": [
    "decoded_regs = autoencoder.predict(test_vecs)\n",
    "print(test_strs[:10])\n",
    "print([v.recover(x) for x in decoded_regs[:10]])\n",
    "acc = np.sum([v.recover(x) == y for x, y in zip(decoded_regs, test_strs)]) / len(test_strs)\n",
    "print('accuracy = ' + str(acc))"
   ]
  }
 ],
 "metadata": {
  "kernelspec": {
   "display_name": "Python 3",
   "language": "python",
   "name": "python3"
  },
  "language_info": {
   "codemirror_mode": {
    "name": "ipython",
    "version": 3
   },
   "file_extension": ".py",
   "mimetype": "text/x-python",
   "name": "python",
   "nbconvert_exporter": "python",
   "pygments_lexer": "ipython3",
   "version": "3.8.6"
  }
 },
 "nbformat": 4,
 "nbformat_minor": 4
}
