{
 "cells": [
  {
   "cell_type": "markdown",
   "metadata": {},
   "source": [
    "# Building a simple autoencoder\n",
    "\n",
    "Based on the ability to generate UK car registration numbers, one can build a dataset of training and test data. With a suitable vectorizer, one can go ahead and make an autoencoder.\n",
    "\n",
    "### References\n",
    "\n",
    "https://blog.keras.io/building-autoencoders-in-keras.html"
   ]
  },
  {
   "cell_type": "code",
   "execution_count": 1,
   "metadata": {
    "scrolled": true
   },
   "outputs": [],
   "source": [
    "import sys\n",
    "import numpy as np\n",
    "import keras\n",
    "from keras import regularizers\n",
    "from keras import layers\n",
    "from keras import optimizers\n",
    "import random\n",
    "\n",
    "if '..' not in sys.path:\n",
    "    sys.path.append('..')\n",
    "from car_reg_generator.car_reg_generator.uk_reg import UkRegGenerator\n",
    "from car_reg_generator.car_reg_generator.uk_reg import UkRegDvlaVectorizer"
   ]
  },
  {
   "cell_type": "markdown",
   "metadata": {},
   "source": [
    "### Data generation"
   ]
  },
  {
   "cell_type": "code",
   "execution_count": 2,
   "metadata": {},
   "outputs": [
    {
     "name": "stdout",
     "output_type": "stream",
     "text": [
      "input vector length = 150\n",
      "actual number of validation samples = 1000\n",
      "actual number of test samples = 1000\n"
     ]
    }
   ],
   "source": [
    "n_train = 10000\n",
    "n_val = 1000\n",
    "n_test = 1000\n",
    "\n",
    "random.seed(0)\n",
    "g = UkRegGenerator()\n",
    "v = UkRegDvlaVectorizer()\n",
    "\n",
    "train_strs = [g.get_reg() for _ in range(n_train)]\n",
    "train_vecs = np.array([v.vectorize(x) for x in train_strs])\n",
    "val_strs = [g.get_reg() for _ in range(n_val)]\n",
    "val_strs = [x for x in val_strs if x not in set(train_strs)]  # sanity check\n",
    "val_vecs = np.array([v.vectorize(x) for x in val_strs])\n",
    "test_strs = [g.get_reg() for _ in range(n_test)]\n",
    "test_strs = [x for x in test_strs if x not in set(train_strs) | set(val_strs)]  # sanity check\n",
    "test_vecs = np.array([v.vectorize(x) for x in test_strs])\n",
    "\n",
    "vec_length = len(train_vecs[0])\n",
    "print('input vector length = ' + str(vec_length))\n",
    "print('actual number of validation samples = ' + str(len(val_strs)))\n",
    "print('actual number of test samples = ' + str(len(test_strs)))"
   ]
  },
  {
   "cell_type": "markdown",
   "metadata": {},
   "source": [
    "### Standard autoencoder\n",
    "\n",
    "Design the network. A single dense layer for the encoder and decoder needs an encoding dimension of around 100. Having more layers allows a smaller encoding dimension, although convergence during learning starts to become unstable."
   ]
  },
  {
   "cell_type": "code",
   "execution_count": 3,
   "metadata": {},
   "outputs": [],
   "source": [
    "encoding_dim = 20\n",
    "input_reg = keras.Input(shape=(vec_length,))\n",
    "encoded = layers.Dense(vec_length, activation='relu')(input_reg)\n",
    "encoded = layers.Dense(75, activation='relu')(encoded)\n",
    "encoded = layers.Dense(40, activation='relu')(encoded)\n",
    "encoded = layers.Dense(encoding_dim, activation='relu')(encoded)\n",
    "encoder = keras.Model(input_reg, encoded)\n",
    "\n",
    "encoded_input = keras.Input(shape=(encoding_dim,))\n",
    "decoded = encoded_input\n",
    "decoded = layers.Dense(40, activation='relu')(decoded)\n",
    "decoded = layers.Dense(75, activation='relu')(decoded)\n",
    "decoded = layers.Dense(vec_length, activation='sigmoid')(decoded)\n",
    "decoder = keras.Model(encoded_input, decoded)\n",
    "\n",
    "autoencoder = keras.Model(input_reg, decoder(encoder(input_reg)))"
   ]
  },
  {
   "cell_type": "markdown",
   "metadata": {},
   "source": [
    "Do some learning. For shallow networks, almost any optimizer and loss work. For deeper networks, poor choices almost certainly yield failed convergence on the loss function. Even good choices yield convergence on the loss function only on some runs."
   ]
  },
  {
   "cell_type": "code",
   "execution_count": 4,
   "metadata": {
    "scrolled": true
   },
   "outputs": [
    {
     "name": "stdout",
     "output_type": "stream",
     "text": [
      "Epoch 1/100\n",
      "625/625 [==============================] - 1s 966us/step - loss: 0.1935 - val_loss: 0.1711\n",
      "Epoch 2/100\n",
      "625/625 [==============================] - 1s 819us/step - loss: 0.1620 - val_loss: 0.1534\n",
      "Epoch 3/100\n",
      "625/625 [==============================] - 1s 825us/step - loss: 0.1455 - val_loss: 0.1432\n",
      "Epoch 4/100\n",
      "625/625 [==============================] - 1s 841us/step - loss: 0.1367 - val_loss: 0.1357\n",
      "Epoch 5/100\n",
      "625/625 [==============================] - 1s 844us/step - loss: 0.1288 - val_loss: 0.1282\n",
      "Epoch 6/100\n",
      "625/625 [==============================] - 1s 824us/step - loss: 0.1215 - val_loss: 0.1215\n",
      "Epoch 7/100\n",
      "625/625 [==============================] - 1s 841us/step - loss: 0.1136 - val_loss: 0.1155\n",
      "Epoch 8/100\n",
      "625/625 [==============================] - 1s 846us/step - loss: 0.1081 - val_loss: 0.1117\n",
      "Epoch 9/100\n",
      "625/625 [==============================] - 1s 836us/step - loss: 0.1046 - val_loss: 0.1083\n",
      "Epoch 10/100\n",
      "625/625 [==============================] - 1s 851us/step - loss: 0.1014 - val_loss: 0.1049\n",
      "Epoch 11/100\n",
      "625/625 [==============================] - 1s 871us/step - loss: 0.0982 - val_loss: 0.1022\n",
      "Epoch 12/100\n",
      "625/625 [==============================] - 1s 845us/step - loss: 0.0951 - val_loss: 0.0989\n",
      "Epoch 13/100\n",
      "625/625 [==============================] - 1s 824us/step - loss: 0.0921 - val_loss: 0.0961\n",
      "Epoch 14/100\n",
      "625/625 [==============================] - 1s 853us/step - loss: 0.0893 - val_loss: 0.0930\n",
      "Epoch 15/100\n",
      "625/625 [==============================] - 1s 847us/step - loss: 0.0866 - val_loss: 0.0907\n",
      "Epoch 16/100\n",
      "625/625 [==============================] - 1s 862us/step - loss: 0.0838 - val_loss: 0.0886\n",
      "Epoch 17/100\n",
      "625/625 [==============================] - 1s 850us/step - loss: 0.0814 - val_loss: 0.0848\n",
      "Epoch 18/100\n",
      "625/625 [==============================] - 1s 853us/step - loss: 0.0793 - val_loss: 0.0840\n",
      "Epoch 19/100\n",
      "625/625 [==============================] - 1s 867us/step - loss: 0.0773 - val_loss: 0.0827\n",
      "Epoch 20/100\n",
      "625/625 [==============================] - 1s 889us/step - loss: 0.0757 - val_loss: 0.0805\n",
      "Epoch 21/100\n",
      "625/625 [==============================] - 1s 845us/step - loss: 0.0741 - val_loss: 0.0795\n",
      "Epoch 22/100\n",
      "625/625 [==============================] - 1s 849us/step - loss: 0.0727 - val_loss: 0.0780\n",
      "Epoch 23/100\n",
      "625/625 [==============================] - 1s 857us/step - loss: 0.0710 - val_loss: 0.0762\n",
      "Epoch 24/100\n",
      "625/625 [==============================] - 1s 860us/step - loss: 0.0691 - val_loss: 0.0736\n",
      "Epoch 25/100\n",
      "625/625 [==============================] - 1s 886us/step - loss: 0.0667 - val_loss: 0.0718\n",
      "Epoch 26/100\n",
      "625/625 [==============================] - 1s 846us/step - loss: 0.0652 - val_loss: 0.0707\n",
      "Epoch 27/100\n",
      "625/625 [==============================] - 1s 860us/step - loss: 0.0638 - val_loss: 0.0683\n",
      "Epoch 28/100\n",
      "625/625 [==============================] - 1s 862us/step - loss: 0.0625 - val_loss: 0.0681\n",
      "Epoch 29/100\n",
      "625/625 [==============================] - 1s 861us/step - loss: 0.0611 - val_loss: 0.0661\n",
      "Epoch 30/100\n",
      "625/625 [==============================] - 1s 888us/step - loss: 0.0594 - val_loss: 0.0644\n",
      "Epoch 31/100\n",
      "625/625 [==============================] - 1s 845us/step - loss: 0.0575 - val_loss: 0.0619\n",
      "Epoch 32/100\n",
      "625/625 [==============================] - 1s 854us/step - loss: 0.0558 - val_loss: 0.0608\n",
      "Epoch 33/100\n",
      "625/625 [==============================] - 1s 847us/step - loss: 0.0539 - val_loss: 0.0575\n",
      "Epoch 34/100\n",
      "625/625 [==============================] - 1s 863us/step - loss: 0.0520 - val_loss: 0.0574\n",
      "Epoch 35/100\n",
      "625/625 [==============================] - 1s 858us/step - loss: 0.0503 - val_loss: 0.0546\n",
      "Epoch 36/100\n",
      "625/625 [==============================] - 1s 861us/step - loss: 0.0489 - val_loss: 0.0522\n",
      "Epoch 37/100\n",
      "625/625 [==============================] - 1s 862us/step - loss: 0.0473 - val_loss: 0.0526\n",
      "Epoch 38/100\n",
      "625/625 [==============================] - 1s 855us/step - loss: 0.0462 - val_loss: 0.0508\n",
      "Epoch 39/100\n",
      "625/625 [==============================] - 1s 845us/step - loss: 0.0449 - val_loss: 0.0502\n",
      "Epoch 40/100\n",
      "625/625 [==============================] - 1s 857us/step - loss: 0.0437 - val_loss: 0.0479\n",
      "Epoch 41/100\n",
      "625/625 [==============================] - 1s 864us/step - loss: 0.0426 - val_loss: 0.0460\n",
      "Epoch 42/100\n",
      "625/625 [==============================] - 1s 856us/step - loss: 0.0417 - val_loss: 0.0462\n",
      "Epoch 43/100\n",
      "625/625 [==============================] - 1s 876us/step - loss: 0.0403 - val_loss: 0.0458\n",
      "Epoch 44/100\n",
      "625/625 [==============================] - 1s 901us/step - loss: 0.0394 - val_loss: 0.0427\n",
      "Epoch 45/100\n",
      "625/625 [==============================] - 1s 847us/step - loss: 0.0386 - val_loss: 0.0430\n",
      "Epoch 46/100\n",
      "625/625 [==============================] - 1s 857us/step - loss: 0.0375 - val_loss: 0.0399\n",
      "Epoch 47/100\n",
      "625/625 [==============================] - 1s 868us/step - loss: 0.0365 - val_loss: 0.0408\n",
      "Epoch 48/100\n",
      "625/625 [==============================] - 1s 866us/step - loss: 0.0356 - val_loss: 0.0379\n",
      "Epoch 49/100\n",
      "625/625 [==============================] - 1s 872us/step - loss: 0.0349 - val_loss: 0.0391\n",
      "Epoch 50/100\n",
      "625/625 [==============================] - 1s 886us/step - loss: 0.0342 - val_loss: 0.0378\n",
      "Epoch 51/100\n",
      "625/625 [==============================] - 1s 854us/step - loss: 0.0330 - val_loss: 0.0363\n",
      "Epoch 52/100\n",
      "625/625 [==============================] - 1s 888us/step - loss: 0.0325 - val_loss: 0.0360\n",
      "Epoch 53/100\n",
      "625/625 [==============================] - 1s 865us/step - loss: 0.0318 - val_loss: 0.0356\n",
      "Epoch 54/100\n",
      "625/625 [==============================] - 1s 883us/step - loss: 0.0314 - val_loss: 0.0347\n",
      "Epoch 55/100\n",
      "625/625 [==============================] - 1s 865us/step - loss: 0.0309 - val_loss: 0.0338\n",
      "Epoch 56/100\n",
      "625/625 [==============================] - 1s 859us/step - loss: 0.0300 - val_loss: 0.0329\n",
      "Epoch 57/100\n",
      "625/625 [==============================] - 1s 862us/step - loss: 0.0298 - val_loss: 0.0339\n",
      "Epoch 58/100\n",
      "625/625 [==============================] - 1s 864us/step - loss: 0.0288 - val_loss: 0.0321\n",
      "Epoch 59/100\n",
      "625/625 [==============================] - 1s 848us/step - loss: 0.0283 - val_loss: 0.0313\n",
      "Epoch 60/100\n",
      "625/625 [==============================] - 1s 850us/step - loss: 0.0277 - val_loss: 0.0320\n",
      "Epoch 61/100\n",
      "625/625 [==============================] - 1s 856us/step - loss: 0.0276 - val_loss: 0.0318\n",
      "Epoch 62/100\n",
      "625/625 [==============================] - 1s 855us/step - loss: 0.0266 - val_loss: 0.0307\n",
      "Epoch 63/100\n",
      "625/625 [==============================] - 1s 874us/step - loss: 0.0266 - val_loss: 0.0295\n",
      "Epoch 64/100\n",
      "625/625 [==============================] - 1s 858us/step - loss: 0.0259 - val_loss: 0.0299\n",
      "Epoch 65/100\n",
      "625/625 [==============================] - 1s 865us/step - loss: 0.0251 - val_loss: 0.0294\n",
      "Epoch 66/100\n",
      "625/625 [==============================] - 1s 873us/step - loss: 0.0247 - val_loss: 0.0277\n",
      "Epoch 67/100\n",
      "625/625 [==============================] - 1s 856us/step - loss: 0.0242 - val_loss: 0.0267\n",
      "Epoch 68/100\n",
      "625/625 [==============================] - 1s 859us/step - loss: 0.0241 - val_loss: 0.0282\n",
      "Epoch 69/100\n",
      "625/625 [==============================] - 1s 877us/step - loss: 0.0229 - val_loss: 0.0277\n",
      "Epoch 70/100\n",
      "625/625 [==============================] - 1s 869us/step - loss: 0.0226 - val_loss: 0.0261\n",
      "Epoch 71/100\n",
      "625/625 [==============================] - 1s 868us/step - loss: 0.0221 - val_loss: 0.0290\n",
      "Epoch 72/100\n",
      "625/625 [==============================] - 1s 869us/step - loss: 0.0217 - val_loss: 0.0246\n",
      "Epoch 73/100\n",
      "625/625 [==============================] - 1s 880us/step - loss: 0.0209 - val_loss: 0.0269\n",
      "Epoch 74/100\n",
      "625/625 [==============================] - 1s 864us/step - loss: 0.0200 - val_loss: 0.0244\n",
      "Epoch 75/100\n",
      "625/625 [==============================] - 1s 886us/step - loss: 0.0198 - val_loss: 0.0224\n",
      "Epoch 76/100\n",
      "625/625 [==============================] - 1s 862us/step - loss: 0.0189 - val_loss: 0.0224\n",
      "Epoch 77/100\n",
      "625/625 [==============================] - 1s 859us/step - loss: 0.0184 - val_loss: 0.0220\n",
      "Epoch 78/100\n",
      "625/625 [==============================] - 1s 871us/step - loss: 0.0179 - val_loss: 0.0241\n",
      "Epoch 79/100\n",
      "625/625 [==============================] - 1s 863us/step - loss: 0.0169 - val_loss: 0.0223\n"
     ]
    },
    {
     "name": "stdout",
     "output_type": "stream",
     "text": [
      "Epoch 80/100\n",
      "625/625 [==============================] - 0s 796us/step - loss: 0.0162 - val_loss: 0.0210\n",
      "Epoch 81/100\n",
      "625/625 [==============================] - 0s 793us/step - loss: 0.0162 - val_loss: 0.0170\n",
      "Epoch 82/100\n",
      "625/625 [==============================] - 0s 791us/step - loss: 0.0148 - val_loss: 0.0186\n",
      "Epoch 83/100\n",
      "625/625 [==============================] - 0s 791us/step - loss: 0.0151 - val_loss: 0.0161\n",
      "Epoch 84/100\n",
      "625/625 [==============================] - 0s 784us/step - loss: 0.0142 - val_loss: 0.0160\n",
      "Epoch 85/100\n",
      "625/625 [==============================] - 0s 787us/step - loss: 0.0137 - val_loss: 0.0181\n",
      "Epoch 86/100\n",
      "625/625 [==============================] - 0s 787us/step - loss: 0.0134 - val_loss: 0.0180\n",
      "Epoch 87/100\n",
      "625/625 [==============================] - 0s 781us/step - loss: 0.0125 - val_loss: 0.0145\n",
      "Epoch 88/100\n",
      "625/625 [==============================] - 0s 785us/step - loss: 0.0119 - val_loss: 0.0163\n",
      "Epoch 89/100\n",
      "625/625 [==============================] - 0s 788us/step - loss: 0.0119 - val_loss: 0.0152\n",
      "Epoch 90/100\n",
      "625/625 [==============================] - 0s 786us/step - loss: 0.0114 - val_loss: 0.0144\n",
      "Epoch 91/100\n",
      "625/625 [==============================] - 0s 792us/step - loss: 0.0112 - val_loss: 0.0130\n",
      "Epoch 92/100\n",
      "625/625 [==============================] - 0s 782us/step - loss: 0.0103 - val_loss: 0.0159\n",
      "Epoch 93/100\n",
      "625/625 [==============================] - 1s 815us/step - loss: 0.0105 - val_loss: 0.0139\n",
      "Epoch 94/100\n",
      "625/625 [==============================] - 1s 848us/step - loss: 0.0102 - val_loss: 0.0152\n",
      "Epoch 95/100\n",
      "625/625 [==============================] - 1s 829us/step - loss: 0.0098 - val_loss: 0.0123\n",
      "Epoch 96/100\n",
      "625/625 [==============================] - 1s 833us/step - loss: 0.0096 - val_loss: 0.0124\n",
      "Epoch 97/100\n",
      "625/625 [==============================] - 1s 846us/step - loss: 0.0093 - val_loss: 0.0133\n",
      "Epoch 98/100\n",
      "625/625 [==============================] - 1s 803us/step - loss: 0.0083 - val_loss: 0.0120\n",
      "Epoch 99/100\n",
      "625/625 [==============================] - 1s 869us/step - loss: 0.0091 - val_loss: 0.0105\n",
      "Epoch 100/100\n",
      "625/625 [==============================] - 1s 886us/step - loss: 0.0080 - val_loss: 0.0105\n"
     ]
    },
    {
     "data": {
      "text/plain": [
       "<tensorflow.python.keras.callbacks.History at 0x7fac40106e50>"
      ]
     },
     "execution_count": 4,
     "metadata": {},
     "output_type": "execute_result"
    }
   ],
   "source": [
    "opt = optimizers.Adamax(learning_rate=0.003)\n",
    "autoencoder.compile(optimizer=opt, loss='binary_crossentropy')\n",
    "autoencoder.fit(train_vecs, train_vecs,\n",
    "                epochs=100,\n",
    "                batch_size=16,\n",
    "                shuffle=True,\n",
    "                validation_data=(val_vecs, val_vecs))"
   ]
  },
  {
   "cell_type": "markdown",
   "metadata": {},
   "source": [
    "Evaluation"
   ]
  },
  {
   "cell_type": "code",
   "execution_count": 5,
   "metadata": {
    "scrolled": true
   },
   "outputs": [
    {
     "name": "stdout",
     "output_type": "stream",
     "text": [
      "['MY33WSZ', 'WE83GXF', 'LU19JLV', 'KX41GVE', 'WP91NCV', 'SG47LFF', 'HB17WIY', 'CA89AXN', 'GT57AKA', 'CD77SJT']\n",
      "['MY33WSZ', 'WE83GXF', 'LU19JLV', 'KX41GVE', 'WP91NCV', 'SG47LFF', 'HB17WIY', 'CA89AXN', 'GT57AKA', 'CD71SJT']\n",
      "overall accuracy = 0.899\n",
      "by digit accuracy:\n",
      "    1.0\n",
      "    0.998\n",
      "    0.997\n",
      "    0.997\n",
      "    0.985\n",
      "    0.92\n",
      "    0.999\n"
     ]
    }
   ],
   "source": [
    "decoded_regs = autoencoder.predict(test_vecs)\n",
    "print(test_strs[:10])\n",
    "recovered = [v.recover(x) for x in decoded_regs]\n",
    "print(recovered[:10])\n",
    "acc = np.sum([x == y for x, y in zip(recovered, test_strs)]) / len(test_strs)\n",
    "print('overall accuracy = ' + str(acc))\n",
    "print('by digit accuracy:')\n",
    "for i_digit in range(len(test_strs[0])):\n",
    "    acc = np.sum([x[i_digit] == y[i_digit] for x, y in zip(recovered, test_strs)]) / len(test_strs)\n",
    "    print('    ' + str(acc))"
   ]
  }
 ],
 "metadata": {
  "kernelspec": {
   "display_name": "Python 3",
   "language": "python",
   "name": "python3"
  },
  "language_info": {
   "codemirror_mode": {
    "name": "ipython",
    "version": 3
   },
   "file_extension": ".py",
   "mimetype": "text/x-python",
   "name": "python",
   "nbconvert_exporter": "python",
   "pygments_lexer": "ipython3",
   "version": "3.7.9"
  }
 },
 "nbformat": 4,
 "nbformat_minor": 4
}
