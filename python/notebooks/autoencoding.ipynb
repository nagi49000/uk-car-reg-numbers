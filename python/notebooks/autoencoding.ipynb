{
 "cells": [
  {
   "cell_type": "markdown",
   "metadata": {},
   "source": [
    "# Building a simple autoencoder\n",
    "\n",
    "Based on the ability to generate UK car registration numbers, one can build a dataset of training and test data. With a suitable vectorizer, one can go ahead and make an autoencoder.\n",
    "\n",
    "### References\n",
    "\n",
    "https://blog.keras.io/building-autoencoders-in-keras.html"
   ]
  },
  {
   "cell_type": "code",
   "execution_count": 1,
   "metadata": {
    "scrolled": true
   },
   "outputs": [],
   "source": [
    "import sys\n",
    "import numpy as np\n",
    "import keras\n",
    "from keras import regularizers\n",
    "from keras import layers\n",
    "import random\n",
    "\n",
    "if '..' not in sys.path:\n",
    "    sys.path.append('..')\n",
    "from car_reg_generator.car_reg_generator.uk_reg import UkRegGenerator\n",
    "from car_reg_generator.car_reg_generator.uk_reg import UkRegDvlaVectorizer"
   ]
  },
  {
   "cell_type": "markdown",
   "metadata": {},
   "source": [
    "### Data generation"
   ]
  },
  {
   "cell_type": "code",
   "execution_count": 2,
   "metadata": {},
   "outputs": [
    {
     "name": "stdout",
     "output_type": "stream",
     "text": [
      "input vector length = 150\n",
      "actual number of validation samples = 1000\n",
      "actual number of test samples = 1000\n"
     ]
    }
   ],
   "source": [
    "n_train = 10000\n",
    "n_val = 1000\n",
    "n_test = 1000\n",
    "\n",
    "random.seed(0)\n",
    "g = UkRegGenerator()\n",
    "v = UkRegDvlaVectorizer()\n",
    "\n",
    "train_strs = [g.get_reg() for _ in range(n_train)]\n",
    "train_vecs = np.array([v.vectorize(x) for x in train_strs])\n",
    "val_strs = [g.get_reg() for _ in range(n_val)]\n",
    "val_strs = [x for x in val_strs if x not in set(train_strs)]  # sanity check\n",
    "val_vecs = np.array([v.vectorize(x) for x in val_strs])\n",
    "test_strs = [g.get_reg() for _ in range(n_test)]\n",
    "test_strs = [x for x in test_strs if x not in set(train_strs) | set(val_strs)]  # sanity check\n",
    "test_vecs = np.array([v.vectorize(x) for x in test_strs])\n",
    "\n",
    "vec_length = len(train_vecs[0])\n",
    "print('input vector length = ' + str(vec_length))\n",
    "print('actual number of validation samples = ' + str(len(val_strs)))\n",
    "print('actual number of test samples = ' + str(len(test_strs)))"
   ]
  },
  {
   "cell_type": "markdown",
   "metadata": {},
   "source": [
    "### Standard autoencoder\n",
    "\n",
    "Design the network. A single dense layer for the encoder and decoder needs an encoding dimension of around 100. Having more layers allows a smaller encoding dimension, although convergence during learning starts to become unstable."
   ]
  },
  {
   "cell_type": "code",
   "execution_count": 3,
   "metadata": {},
   "outputs": [],
   "source": [
    "encoding_dim = 25\n",
    "input_reg = keras.Input(shape=(vec_length,))\n",
    "encoded = layers.Dense(vec_length, activation='relu')(input_reg)\n",
    "encoded = layers.Dense(75, activation='relu')(encoded)\n",
    "encoded = layers.Dense(40, activation='relu')(encoded)\n",
    "encoded = layers.Dense(encoding_dim, activation='relu')(encoded)\n",
    "encoder = keras.Model(input_reg, encoded)\n",
    "\n",
    "encoded_input = keras.Input(shape=(encoding_dim,))\n",
    "decoded = encoded_input\n",
    "decoded = layers.Dense(40, activation='relu')(decoded)\n",
    "decoded = layers.Dense(75, activation='relu')(decoded)\n",
    "decoded = layers.Dense(vec_length, activation='sigmoid')(decoded)\n",
    "decoder = keras.Model(encoded_input, decoded)\n",
    "\n",
    "autoencoder = keras.Model(input_reg, decoder(encoder(input_reg)))"
   ]
  },
  {
   "cell_type": "markdown",
   "metadata": {},
   "source": [
    "Do some learning. For shallow networks, almost any optimizer and loss work. For deeper networks, poor choices almost certainly yield failed convergence on the loss function. Even good choices yield convergence on the loss function only on some runs."
   ]
  },
  {
   "cell_type": "code",
   "execution_count": 4,
   "metadata": {
    "scrolled": true
   },
   "outputs": [
    {
     "name": "stdout",
     "output_type": "stream",
     "text": [
      "Epoch 1/100\n",
      "1250/1250 [==============================] - 7s 6ms/step - loss: 0.2026 - val_loss: 0.1811\n",
      "Epoch 2/100\n",
      "1250/1250 [==============================] - 7s 5ms/step - loss: 0.1714 - val_loss: 0.1646\n",
      "Epoch 3/100\n",
      "1250/1250 [==============================] - 14s 11ms/step - loss: 0.1568 - val_loss: 0.1492\n",
      "Epoch 4/100\n",
      "1250/1250 [==============================] - 9s 7ms/step - loss: 0.1452 - val_loss: 0.1430\n",
      "Epoch 5/100\n",
      "1250/1250 [==============================] - 12s 10ms/step - loss: 0.1377 - val_loss: 0.1343\n",
      "Epoch 6/100\n",
      "1250/1250 [==============================] - 7s 6ms/step - loss: 0.1306 - val_loss: 0.1303\n",
      "Epoch 7/100\n",
      "1250/1250 [==============================] - 7s 6ms/step - loss: 0.1261 - val_loss: 0.1270\n",
      "Epoch 8/100\n",
      "1250/1250 [==============================] - 7s 6ms/step - loss: 0.1223 - val_loss: 0.1233\n",
      "Epoch 9/100\n",
      "1250/1250 [==============================] - 7s 5ms/step - loss: 0.1170 - val_loss: 0.1181\n",
      "Epoch 10/100\n",
      "1250/1250 [==============================] - 7s 6ms/step - loss: 0.1133 - val_loss: 0.1156\n",
      "Epoch 11/100\n",
      "1250/1250 [==============================] - 9s 7ms/step - loss: 0.1096 - val_loss: 0.1121\n",
      "Epoch 12/100\n",
      "1250/1250 [==============================] - 8s 6ms/step - loss: 0.1070 - val_loss: 0.1108\n",
      "Epoch 13/100\n",
      "1250/1250 [==============================] - 8s 6ms/step - loss: 0.1051 - val_loss: 0.1088\n",
      "Epoch 14/100\n",
      "1250/1250 [==============================] - 8s 6ms/step - loss: 0.1032 - val_loss: 0.1073\n",
      "Epoch 15/100\n",
      "1250/1250 [==============================] - 8s 6ms/step - loss: 0.1015 - val_loss: 0.1057\n",
      "Epoch 16/100\n",
      "1250/1250 [==============================] - 7s 6ms/step - loss: 0.0997 - val_loss: 0.1044\n",
      "Epoch 17/100\n",
      "1250/1250 [==============================] - 7s 6ms/step - loss: 0.0983 - val_loss: 0.1031\n",
      "Epoch 18/100\n",
      "1250/1250 [==============================] - 8s 6ms/step - loss: 0.0971 - val_loss: 0.1024\n",
      "Epoch 19/100\n",
      "1250/1250 [==============================] - 7s 6ms/step - loss: 0.0961 - val_loss: 0.1016\n",
      "Epoch 20/100\n",
      "1250/1250 [==============================] - 7s 5ms/step - loss: 0.0950 - val_loss: 0.1005\n",
      "Epoch 21/100\n",
      "1250/1250 [==============================] - 7s 6ms/step - loss: 0.0940 - val_loss: 0.0995\n",
      "Epoch 22/100\n",
      "1250/1250 [==============================] - 7s 6ms/step - loss: 0.0922 - val_loss: 0.0980\n",
      "Epoch 23/100\n",
      "1250/1250 [==============================] - 7s 6ms/step - loss: 0.0899 - val_loss: 0.0965\n",
      "Epoch 24/100\n",
      "1250/1250 [==============================] - 8s 6ms/step - loss: 0.0886 - val_loss: 0.0953\n",
      "Epoch 25/100\n",
      "1250/1250 [==============================] - 8s 6ms/step - loss: 0.0875 - val_loss: 0.0940\n",
      "Epoch 26/100\n",
      "1250/1250 [==============================] - 7s 6ms/step - loss: 0.0866 - val_loss: 0.0939\n",
      "Epoch 27/100\n",
      "1250/1250 [==============================] - 8s 6ms/step - loss: 0.0854 - val_loss: 0.0923\n",
      "Epoch 28/100\n",
      "1250/1250 [==============================] - 7s 6ms/step - loss: 0.0844 - val_loss: 0.0920\n",
      "Epoch 29/100\n",
      "1250/1250 [==============================] - 7s 6ms/step - loss: 0.0834 - val_loss: 0.0904\n",
      "Epoch 30/100\n",
      "1250/1250 [==============================] - 8s 6ms/step - loss: 0.0824 - val_loss: 0.0896\n",
      "Epoch 31/100\n",
      "1250/1250 [==============================] - 7s 6ms/step - loss: 0.0815 - val_loss: 0.0886\n",
      "Epoch 32/100\n",
      "1250/1250 [==============================] - 7s 6ms/step - loss: 0.0806 - val_loss: 0.0882\n",
      "Epoch 33/100\n",
      "1250/1250 [==============================] - 6s 5ms/step - loss: 0.0798 - val_loss: 0.0878\n",
      "Epoch 34/100\n",
      "1250/1250 [==============================] - 7s 5ms/step - loss: 0.0792 - val_loss: 0.0867\n",
      "Epoch 35/100\n",
      "1250/1250 [==============================] - 9s 7ms/step - loss: 0.0785 - val_loss: 0.0862\n",
      "Epoch 36/100\n",
      "1250/1250 [==============================] - 8s 7ms/step - loss: 0.0779 - val_loss: 0.0861\n",
      "Epoch 37/100\n",
      "1250/1250 [==============================] - 8s 7ms/step - loss: 0.0772 - val_loss: 0.0857\n",
      "Epoch 38/100\n",
      "1250/1250 [==============================] - 7s 6ms/step - loss: 0.0765 - val_loss: 0.0846\n",
      "Epoch 39/100\n",
      "1250/1250 [==============================] - 8s 7ms/step - loss: 0.0758 - val_loss: 0.0839\n",
      "Epoch 40/100\n",
      "1250/1250 [==============================] - 7s 6ms/step - loss: 0.0751 - val_loss: 0.0832\n",
      "Epoch 41/100\n",
      "1250/1250 [==============================] - 7s 6ms/step - loss: 0.0744 - val_loss: 0.0829\n",
      "Epoch 42/100\n",
      "1250/1250 [==============================] - 7s 6ms/step - loss: 0.0735 - val_loss: 0.0824\n",
      "Epoch 43/100\n",
      "1250/1250 [==============================] - 7s 6ms/step - loss: 0.0726 - val_loss: 0.0812\n",
      "Epoch 44/100\n",
      "1250/1250 [==============================] - 8s 6ms/step - loss: 0.0717 - val_loss: 0.0801\n",
      "Epoch 45/100\n",
      "1250/1250 [==============================] - 8s 6ms/step - loss: 0.0707 - val_loss: 0.0794\n",
      "Epoch 46/100\n",
      "1250/1250 [==============================] - 8s 7ms/step - loss: 0.0696 - val_loss: 0.0782\n",
      "Epoch 47/100\n",
      "1250/1250 [==============================] - 7s 5ms/step - loss: 0.0686 - val_loss: 0.0767\n",
      "Epoch 48/100\n",
      "1250/1250 [==============================] - 8s 7ms/step - loss: 0.0672 - val_loss: 0.0750\n",
      "Epoch 49/100\n",
      "1250/1250 [==============================] - 8s 6ms/step - loss: 0.0659 - val_loss: 0.0742\n",
      "Epoch 50/100\n",
      "1250/1250 [==============================] - 7s 6ms/step - loss: 0.0645 - val_loss: 0.0724\n",
      "Epoch 51/100\n",
      "1250/1250 [==============================] - 8s 6ms/step - loss: 0.0630 - val_loss: 0.0708\n",
      "Epoch 52/100\n",
      "1250/1250 [==============================] - 8s 7ms/step - loss: 0.0616 - val_loss: 0.0693\n",
      "Epoch 53/100\n",
      "1250/1250 [==============================] - 7s 6ms/step - loss: 0.0602 - val_loss: 0.0673\n",
      "Epoch 54/100\n",
      "1250/1250 [==============================] - 8s 6ms/step - loss: 0.0587 - val_loss: 0.0654\n",
      "Epoch 55/100\n",
      "1250/1250 [==============================] - 8s 6ms/step - loss: 0.0572 - val_loss: 0.0638\n",
      "Epoch 56/100\n",
      "1250/1250 [==============================] - 8s 6ms/step - loss: 0.0558 - val_loss: 0.0624\n",
      "Epoch 57/100\n",
      "1250/1250 [==============================] - 8s 7ms/step - loss: 0.0542 - val_loss: 0.0604\n",
      "Epoch 58/100\n",
      "1250/1250 [==============================] - 7s 6ms/step - loss: 0.0527 - val_loss: 0.0580\n",
      "Epoch 59/100\n",
      "1250/1250 [==============================] - 8s 6ms/step - loss: 0.0509 - val_loss: 0.0563\n",
      "Epoch 60/100\n",
      "1250/1250 [==============================] - 8s 6ms/step - loss: 0.0490 - val_loss: 0.0544\n",
      "Epoch 61/100\n",
      "1250/1250 [==============================] - 8s 6ms/step - loss: 0.0469 - val_loss: 0.0519\n",
      "Epoch 62/100\n",
      "1250/1250 [==============================] - 8s 6ms/step - loss: 0.0451 - val_loss: 0.0497\n",
      "Epoch 63/100\n",
      "1250/1250 [==============================] - 8s 6ms/step - loss: 0.0433 - val_loss: 0.0496\n",
      "Epoch 64/100\n",
      "1250/1250 [==============================] - 8s 6ms/step - loss: 0.0418 - val_loss: 0.0462\n",
      "Epoch 65/100\n",
      "1250/1250 [==============================] - 7s 6ms/step - loss: 0.0403 - val_loss: 0.0455\n",
      "Epoch 66/100\n",
      "1250/1250 [==============================] - 9s 7ms/step - loss: 0.0387 - val_loss: 0.0431\n",
      "Epoch 67/100\n",
      "1250/1250 [==============================] - 7s 5ms/step - loss: 0.0375 - val_loss: 0.0424\n",
      "Epoch 68/100\n",
      "1250/1250 [==============================] - 8s 6ms/step - loss: 0.0361 - val_loss: 0.0408\n",
      "Epoch 69/100\n",
      "1250/1250 [==============================] - 8s 7ms/step - loss: 0.0349 - val_loss: 0.0398\n",
      "Epoch 70/100\n",
      "1250/1250 [==============================] - 9s 7ms/step - loss: 0.0339 - val_loss: 0.0380\n",
      "Epoch 71/100\n",
      "1250/1250 [==============================] - 8s 6ms/step - loss: 0.0327 - val_loss: 0.0375\n",
      "Epoch 72/100\n",
      "1250/1250 [==============================] - 7s 6ms/step - loss: 0.0318 - val_loss: 0.0366\n",
      "Epoch 73/100\n",
      "1250/1250 [==============================] - 9s 7ms/step - loss: 0.0308 - val_loss: 0.0347\n",
      "Epoch 74/100\n",
      "1250/1250 [==============================] - 8s 7ms/step - loss: 0.0297 - val_loss: 0.0347\n",
      "Epoch 75/100\n",
      "1250/1250 [==============================] - 9s 7ms/step - loss: 0.0290 - val_loss: 0.0335\n",
      "Epoch 76/100\n",
      "1250/1250 [==============================] - 8s 7ms/step - loss: 0.0279 - val_loss: 0.0311\n",
      "Epoch 77/100\n",
      "1250/1250 [==============================] - 8s 6ms/step - loss: 0.0270 - val_loss: 0.0320\n",
      "Epoch 78/100\n",
      "1250/1250 [==============================] - 9s 7ms/step - loss: 0.0261 - val_loss: 0.0295\n",
      "Epoch 79/100\n",
      "1250/1250 [==============================] - 8s 6ms/step - loss: 0.0252 - val_loss: 0.0291\n"
     ]
    },
    {
     "name": "stdout",
     "output_type": "stream",
     "text": [
      "Epoch 80/100\n",
      "1250/1250 [==============================] - 6s 4ms/step - loss: 0.0244 - val_loss: 0.0279\n",
      "Epoch 81/100\n",
      "1250/1250 [==============================] - 5s 4ms/step - loss: 0.0233 - val_loss: 0.0273\n",
      "Epoch 82/100\n",
      "1250/1250 [==============================] - 6s 4ms/step - loss: 0.0222 - val_loss: 0.0255\n",
      "Epoch 83/100\n",
      "1250/1250 [==============================] - 5s 4ms/step - loss: 0.0212 - val_loss: 0.0234\n",
      "Epoch 84/100\n",
      "1250/1250 [==============================] - 5s 4ms/step - loss: 0.0201 - val_loss: 0.0230\n",
      "Epoch 85/100\n",
      "1250/1250 [==============================] - 5s 4ms/step - loss: 0.0192 - val_loss: 0.0217\n",
      "Epoch 86/100\n",
      "1250/1250 [==============================] - 5s 4ms/step - loss: 0.0181 - val_loss: 0.0206\n",
      "Epoch 87/100\n",
      "1250/1250 [==============================] - 6s 4ms/step - loss: 0.0172 - val_loss: 0.0189\n",
      "Epoch 88/100\n",
      "1250/1250 [==============================] - 6s 5ms/step - loss: 0.0162 - val_loss: 0.0193\n",
      "Epoch 89/100\n",
      "1250/1250 [==============================] - 6s 4ms/step - loss: 0.0155 - val_loss: 0.0177\n",
      "Epoch 90/100\n",
      "1250/1250 [==============================] - 6s 5ms/step - loss: 0.0146 - val_loss: 0.0176\n",
      "Epoch 91/100\n",
      "1250/1250 [==============================] - 6s 5ms/step - loss: 0.0138 - val_loss: 0.0156\n",
      "Epoch 92/100\n",
      "1250/1250 [==============================] - 5s 4ms/step - loss: 0.0131 - val_loss: 0.0160\n",
      "Epoch 93/100\n",
      "1250/1250 [==============================] - 5s 4ms/step - loss: 0.0123 - val_loss: 0.0139\n",
      "Epoch 94/100\n",
      "1250/1250 [==============================] - 5s 4ms/step - loss: 0.0115 - val_loss: 0.0139\n",
      "Epoch 95/100\n",
      "1250/1250 [==============================] - 6s 5ms/step - loss: 0.0110 - val_loss: 0.0126\n",
      "Epoch 96/100\n",
      "1250/1250 [==============================] - 6s 5ms/step - loss: 0.0099 - val_loss: 0.0117\n",
      "Epoch 97/100\n",
      "1250/1250 [==============================] - 6s 5ms/step - loss: 0.0093 - val_loss: 0.0116\n",
      "Epoch 98/100\n",
      "1250/1250 [==============================] - 5s 4ms/step - loss: 0.0086 - val_loss: 0.0120\n",
      "Epoch 99/100\n",
      "1250/1250 [==============================] - 6s 4ms/step - loss: 0.0079 - val_loss: 0.0100\n",
      "Epoch 100/100\n",
      "1250/1250 [==============================] - 6s 5ms/step - loss: 0.0072 - val_loss: 0.0074\n"
     ]
    },
    {
     "data": {
      "text/plain": [
       "<tensorflow.python.keras.callbacks.History at 0x7f460c547b80>"
      ]
     },
     "execution_count": 4,
     "metadata": {},
     "output_type": "execute_result"
    }
   ],
   "source": [
    "autoencoder.compile(optimizer='adamax', loss='binary_crossentropy')\n",
    "autoencoder.fit(train_vecs, train_vecs,\n",
    "                epochs=100,\n",
    "                batch_size=8,\n",
    "                shuffle=True,\n",
    "                validation_data=(val_vecs, val_vecs))"
   ]
  },
  {
   "cell_type": "markdown",
   "metadata": {},
   "source": [
    "Evaluation"
   ]
  },
  {
   "cell_type": "code",
   "execution_count": 5,
   "metadata": {
    "scrolled": true
   },
   "outputs": [
    {
     "name": "stdout",
     "output_type": "stream",
     "text": [
      "['MY33WSZ', 'WE83GXF', 'LU19JLV', 'KX41GVE', 'WP91NCV', 'SG47LFF', 'HB17WIY', 'CA89AXN', 'GT57AKA', 'CD77SJT']\n",
      "['MY33WHZ', 'WE83GXF', 'LU19JLV', 'KX41GVE', 'WP91NCV', 'SG47LFF', 'HB17WIY', 'CA89AXN', 'GT57AKA', 'CD77SJT']\n",
      "accuracy = 0.919\n"
     ]
    }
   ],
   "source": [
    "decoded_regs = autoencoder.predict(test_vecs)\n",
    "print(test_strs[:10])\n",
    "print([v.recover(x) for x in decoded_regs[:10]])\n",
    "acc = np.sum([v.recover(x) == y for x, y in zip(decoded_regs, test_strs)]) / len(test_strs)\n",
    "print('accuracy = ' + str(acc))"
   ]
  }
 ],
 "metadata": {
  "kernelspec": {
   "display_name": "Python 3",
   "language": "python",
   "name": "python3"
  },
  "language_info": {
   "codemirror_mode": {
    "name": "ipython",
    "version": 3
   },
   "file_extension": ".py",
   "mimetype": "text/x-python",
   "name": "python",
   "nbconvert_exporter": "python",
   "pygments_lexer": "ipython3",
   "version": "3.8.6"
  }
 },
 "nbformat": 4,
 "nbformat_minor": 4
}
