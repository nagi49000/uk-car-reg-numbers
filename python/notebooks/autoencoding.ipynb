{
 "cells": [
  {
   "cell_type": "markdown",
   "metadata": {},
   "source": [
    "# Building a simple autoencoder\n",
    "\n",
    "Based on the ability to generate UK car registration numbers, one can build a dataset of training and test data. With a suitable vectorizer, one can go ahead and make an autoencoder.\n",
    "\n",
    "### References\n",
    "\n",
    "https://blog.keras.io/building-autoencoders-in-keras.html"
   ]
  },
  {
   "cell_type": "code",
   "execution_count": 1,
   "metadata": {
    "scrolled": true
   },
   "outputs": [],
   "source": [
    "import sys\n",
    "import numpy as np\n",
    "import keras\n",
    "from keras import regularizers\n",
    "from keras import layers\n",
    "import random\n",
    "\n",
    "if '..' not in sys.path:\n",
    "    sys.path.append('..')\n",
    "from car_reg_generator.car_reg_generator.uk_reg import UkRegGenerator\n",
    "from car_reg_generator.car_reg_generator.uk_reg import UkRegBowVectorizer"
   ]
  },
  {
   "cell_type": "markdown",
   "metadata": {},
   "source": [
    "### Data generation"
   ]
  },
  {
   "cell_type": "code",
   "execution_count": 2,
   "metadata": {},
   "outputs": [
    {
     "name": "stdout",
     "output_type": "stream",
     "text": [
      "input vector length = 252\n",
      "actual number of validation samples = 1000\n",
      "actual number of test samples = 1000\n"
     ]
    }
   ],
   "source": [
    "n_train = 10000\n",
    "n_val = 1000\n",
    "n_test = 1000\n",
    "\n",
    "random.seed(0)\n",
    "g = UkRegGenerator()\n",
    "v = UkRegBowVectorizer()\n",
    "\n",
    "train_strs = [g.get_reg() for _ in range(n_train)]\n",
    "train_vecs = np.array([v.vectorize(x) for x in train_strs])\n",
    "val_strs = [g.get_reg() for _ in range(n_val)]\n",
    "val_strs = [x for x in val_strs if x not in set(train_strs)]  # sanity check\n",
    "val_vecs = np.array([v.vectorize(x) for x in val_strs])\n",
    "test_strs = [g.get_reg() for _ in range(n_test)]\n",
    "test_strs = [x for x in test_strs if x not in set(train_strs) | set(val_strs)]  # sanity check\n",
    "test_vecs = np.array([v.vectorize(x) for x in test_strs])\n",
    "\n",
    "vec_length = len(train_vecs[0])\n",
    "print('input vector length = ' + str(vec_length))\n",
    "print('actual number of validation samples = ' + str(len(val_strs)))\n",
    "print('actual number of test samples = ' + str(len(test_strs)))"
   ]
  },
  {
   "cell_type": "markdown",
   "metadata": {},
   "source": [
    "### Standard autoencoder\n",
    "\n",
    "Design the network. A single dense layer for the encoder and decoder needs an encoding dimension of around 100. Having more layers allows a smaller encoding dimension, although convergence during learning starts to become unstable."
   ]
  },
  {
   "cell_type": "code",
   "execution_count": 3,
   "metadata": {},
   "outputs": [],
   "source": [
    "encoding_dim = 30\n",
    "input_reg = keras.Input(shape=(vec_length,))\n",
    "# encoded = layers.Dense(encoding_dim, activation='relu', activity_regularizer=regularizers.l1(10e-5))(input_reg)\n",
    "encoded = layers.Dense(vec_length, activation='relu')(input_reg)\n",
    "encoded = layers.Dense(encoding_dim, activation='relu')(encoded)\n",
    "encoded = layers.Dense(encoding_dim, activation='relu')(encoded)\n",
    "encoder = keras.Model(input_reg, encoded)\n",
    "\n",
    "encoded_input = keras.Input(shape=(encoding_dim,))\n",
    "decoded = layers.Dense(encoding_dim, activation='relu')(encoded_input)\n",
    "decoded = layers.Dense(vec_length, activation='relu')(decoded)\n",
    "decoded = layers.Dense(vec_length, activation='sigmoid')(decoded)\n",
    "decoder = keras.Model(encoded_input, decoded)\n",
    "\n",
    "autoencoder = keras.Model(input_reg, decoder(encoder(input_reg)))"
   ]
  },
  {
   "cell_type": "markdown",
   "metadata": {},
   "source": [
    "Do some learning. For shallow networks, almost any optimizer and loss work. For deeper networks, poor choices almost certainly yield failed convergence on the loss function. Even good choices yield convergence on the loss function only on some runs."
   ]
  },
  {
   "cell_type": "code",
   "execution_count": 4,
   "metadata": {
    "scrolled": true
   },
   "outputs": [
    {
     "name": "stdout",
     "output_type": "stream",
     "text": [
      "Epoch 1/70\n",
      "40/40 [==============================] - 1s 24ms/step - loss: 36.4166 - val_loss: 34.4567\n",
      "Epoch 2/70\n",
      "40/40 [==============================] - 1s 20ms/step - loss: 34.2345 - val_loss: 33.8965\n",
      "Epoch 3/70\n",
      "40/40 [==============================] - 1s 23ms/step - loss: 33.1213 - val_loss: 32.3815\n",
      "Epoch 4/70\n",
      "40/40 [==============================] - 1s 24ms/step - loss: 31.7734 - val_loss: 31.4186\n",
      "Epoch 5/70\n",
      "40/40 [==============================] - 1s 23ms/step - loss: 30.9189 - val_loss: 30.6846\n",
      "Epoch 6/70\n",
      "40/40 [==============================] - 1s 22ms/step - loss: 30.2002 - val_loss: 30.1389\n",
      "Epoch 7/70\n",
      "40/40 [==============================] - 1s 21ms/step - loss: 29.6775 - val_loss: 29.7219\n",
      "Epoch 8/70\n",
      "40/40 [==============================] - 1s 24ms/step - loss: 29.2640 - val_loss: 29.3271\n",
      "Epoch 9/70\n",
      "40/40 [==============================] - 1s 22ms/step - loss: 28.8387 - val_loss: 28.9637\n",
      "Epoch 10/70\n",
      "40/40 [==============================] - 1s 23ms/step - loss: 28.5153 - val_loss: 28.7334\n",
      "Epoch 11/70\n",
      "40/40 [==============================] - 1s 26ms/step - loss: 28.1780 - val_loss: 28.4065\n",
      "Epoch 12/70\n",
      "40/40 [==============================] - 1s 20ms/step - loss: 27.7321 - val_loss: 28.0091\n",
      "Epoch 13/70\n",
      "40/40 [==============================] - 1s 25ms/step - loss: 27.1154 - val_loss: 27.2710\n",
      "Epoch 14/70\n",
      "40/40 [==============================] - 1s 24ms/step - loss: 26.4422 - val_loss: 26.6221\n",
      "Epoch 15/70\n",
      "40/40 [==============================] - 1s 22ms/step - loss: 25.8668 - val_loss: 26.1047\n",
      "Epoch 16/70\n",
      "40/40 [==============================] - 1s 24ms/step - loss: 25.3418 - val_loss: 25.7003\n",
      "Epoch 17/70\n",
      "40/40 [==============================] - 1s 28ms/step - loss: 24.8890 - val_loss: 25.1466\n",
      "Epoch 18/70\n",
      "40/40 [==============================] - 1s 20ms/step - loss: 24.2673 - val_loss: 24.5976\n",
      "Epoch 19/70\n",
      "40/40 [==============================] - 1s 21ms/step - loss: 23.7180 - val_loss: 24.2178\n",
      "Epoch 20/70\n",
      "40/40 [==============================] - 1s 23ms/step - loss: 23.2974 - val_loss: 23.8308\n",
      "Epoch 21/70\n",
      "40/40 [==============================] - 1s 23ms/step - loss: 22.9386 - val_loss: 23.5572\n",
      "Epoch 22/70\n",
      "40/40 [==============================] - 1s 23ms/step - loss: 22.6150 - val_loss: 23.1712\n",
      "Epoch 23/70\n",
      "40/40 [==============================] - 1s 23ms/step - loss: 22.2550 - val_loss: 22.8489\n",
      "Epoch 24/70\n",
      "40/40 [==============================] - 1s 23ms/step - loss: 21.8726 - val_loss: 22.6923\n",
      "Epoch 25/70\n",
      "40/40 [==============================] - 1s 24ms/step - loss: 21.5761 - val_loss: 22.1257\n",
      "Epoch 26/70\n",
      "40/40 [==============================] - 1s 22ms/step - loss: 21.1569 - val_loss: 21.8159\n",
      "Epoch 27/70\n",
      "40/40 [==============================] - 1s 23ms/step - loss: 20.8814 - val_loss: 21.5517\n",
      "Epoch 28/70\n",
      "40/40 [==============================] - 1s 26ms/step - loss: 20.5965 - val_loss: 21.4244\n",
      "Epoch 29/70\n",
      "40/40 [==============================] - 1s 26ms/step - loss: 20.3838 - val_loss: 20.9350\n",
      "Epoch 30/70\n",
      "40/40 [==============================] - 1s 26ms/step - loss: 20.1140 - val_loss: 20.8381\n",
      "Epoch 31/70\n",
      "40/40 [==============================] - 1s 26ms/step - loss: 19.8854 - val_loss: 20.8046\n",
      "Epoch 32/70\n",
      "40/40 [==============================] - 1s 24ms/step - loss: 19.6929 - val_loss: 20.3723\n",
      "Epoch 33/70\n",
      "40/40 [==============================] - 1s 19ms/step - loss: 19.4138 - val_loss: 20.1596\n",
      "Epoch 34/70\n",
      "40/40 [==============================] - 1s 25ms/step - loss: 19.1477 - val_loss: 19.8278\n",
      "Epoch 35/70\n",
      "40/40 [==============================] - 1s 22ms/step - loss: 18.9817 - val_loss: 19.5834\n",
      "Epoch 36/70\n",
      "40/40 [==============================] - 1s 25ms/step - loss: 18.7447 - val_loss: 19.3477\n",
      "Epoch 37/70\n",
      "40/40 [==============================] - 1s 23ms/step - loss: 18.5471 - val_loss: 19.2564\n",
      "Epoch 38/70\n",
      "40/40 [==============================] - 1s 25ms/step - loss: 18.4386 - val_loss: 19.1671\n",
      "Epoch 39/70\n",
      "40/40 [==============================] - 1s 25ms/step - loss: 18.2778 - val_loss: 18.9046\n",
      "Epoch 40/70\n",
      "40/40 [==============================] - 1s 25ms/step - loss: 18.0522 - val_loss: 18.7849\n",
      "Epoch 41/70\n",
      "40/40 [==============================] - 1s 25ms/step - loss: 17.9303 - val_loss: 18.6819\n",
      "Epoch 42/70\n",
      "40/40 [==============================] - 1s 26ms/step - loss: 17.8117 - val_loss: 18.3425\n",
      "Epoch 43/70\n",
      "40/40 [==============================] - 1s 27ms/step - loss: 17.5799 - val_loss: 18.0837\n",
      "Epoch 44/70\n",
      "40/40 [==============================] - 1s 26ms/step - loss: 17.4209 - val_loss: 18.1419\n",
      "Epoch 45/70\n",
      "40/40 [==============================] - 1s 21ms/step - loss: 17.3035 - val_loss: 17.7744\n",
      "Epoch 46/70\n",
      "40/40 [==============================] - 1s 23ms/step - loss: 17.1109 - val_loss: 17.7816\n",
      "Epoch 47/70\n",
      "40/40 [==============================] - 1s 31ms/step - loss: 16.9442 - val_loss: 17.3993\n",
      "Epoch 48/70\n",
      "40/40 [==============================] - 1s 26ms/step - loss: 16.7337 - val_loss: 17.2554\n",
      "Epoch 49/70\n",
      "40/40 [==============================] - 1s 30ms/step - loss: 16.6640 - val_loss: 17.3202\n",
      "Epoch 50/70\n",
      "40/40 [==============================] - 1s 27ms/step - loss: 16.5263 - val_loss: 16.9715\n",
      "Epoch 51/70\n",
      "40/40 [==============================] - 1s 27ms/step - loss: 16.3364 - val_loss: 16.7765\n",
      "Epoch 52/70\n",
      "40/40 [==============================] - 1s 23ms/step - loss: 16.2019 - val_loss: 16.6368\n",
      "Epoch 53/70\n",
      "40/40 [==============================] - 1s 37ms/step - loss: 16.0807 - val_loss: 16.6818\n",
      "Epoch 54/70\n",
      "40/40 [==============================] - 1s 32ms/step - loss: 15.9858 - val_loss: 16.4827\n",
      "Epoch 55/70\n",
      "40/40 [==============================] - 1s 25ms/step - loss: 15.8468 - val_loss: 16.1874\n",
      "Epoch 56/70\n",
      "40/40 [==============================] - 1s 27ms/step - loss: 15.6908 - val_loss: 16.1522\n",
      "Epoch 57/70\n",
      "40/40 [==============================] - 1s 28ms/step - loss: 15.6190 - val_loss: 16.2445\n",
      "Epoch 58/70\n",
      "40/40 [==============================] - 1s 24ms/step - loss: 15.6238 - val_loss: 15.9261\n",
      "Epoch 59/70\n",
      "40/40 [==============================] - 1s 26ms/step - loss: 15.3988 - val_loss: 15.8097\n",
      "Epoch 60/70\n",
      "40/40 [==============================] - 1s 23ms/step - loss: 15.3451 - val_loss: 15.6086\n",
      "Epoch 61/70\n",
      "40/40 [==============================] - 1s 26ms/step - loss: 15.1962 - val_loss: 15.5726\n",
      "Epoch 62/70\n",
      "40/40 [==============================] - 1s 24ms/step - loss: 15.1395 - val_loss: 15.4028\n",
      "Epoch 63/70\n",
      "40/40 [==============================] - 1s 23ms/step - loss: 15.0064 - val_loss: 15.7200\n",
      "Epoch 64/70\n",
      "40/40 [==============================] - 1s 26ms/step - loss: 15.0065 - val_loss: 15.3229\n",
      "Epoch 65/70\n",
      "40/40 [==============================] - 1s 28ms/step - loss: 14.8714 - val_loss: 15.1862\n",
      "Epoch 66/70\n",
      "40/40 [==============================] - 1s 24ms/step - loss: 14.7786 - val_loss: 15.1564\n",
      "Epoch 67/70\n",
      "40/40 [==============================] - 1s 31ms/step - loss: 14.7591 - val_loss: 15.3126\n",
      "Epoch 68/70\n",
      "40/40 [==============================] - 1s 29ms/step - loss: 14.7332 - val_loss: 14.9193\n",
      "Epoch 69/70\n",
      "40/40 [==============================] - 1s 27ms/step - loss: 14.6088 - val_loss: 14.9675\n",
      "Epoch 70/70\n",
      "40/40 [==============================] - 1s 31ms/step - loss: 14.5757 - val_loss: 14.9208\n"
     ]
    },
    {
     "data": {
      "text/plain": [
       "<tensorflow.python.keras.callbacks.History at 0x7f60682f4a60>"
      ]
     },
     "execution_count": 4,
     "metadata": {},
     "output_type": "execute_result"
    }
   ],
   "source": [
    "autoencoder.compile(optimizer='adam', loss='categorical_crossentropy')\n",
    "autoencoder.fit(train_vecs, train_vecs,\n",
    "                epochs=70,\n",
    "                batch_size=256,\n",
    "                shuffle=True,\n",
    "                validation_data=(val_vecs, val_vecs))"
   ]
  },
  {
   "cell_type": "markdown",
   "metadata": {},
   "source": [
    "Evaluation"
   ]
  },
  {
   "cell_type": "code",
   "execution_count": 5,
   "metadata": {
    "scrolled": true
   },
   "outputs": [
    {
     "name": "stdout",
     "output_type": "stream",
     "text": [
      "['MY33WSZ', 'WE83GXF', 'LU19JLV', 'KX41GVE', 'WP91NCV', 'SG47LFF', 'HB17WIY', 'CA89AXN', 'GT57AKA', 'CD77SJT']\n",
      "['MY33WSZ', 'WE83GXF', 'LU19JLV', 'KX41GVE', 'WP91NCV', 'SG47LFF', 'HB17WIY', 'CA89AXN', 'GT57ABA', 'CD77SJT']\n",
      "accuracy = 0.857\n"
     ]
    }
   ],
   "source": [
    "decoded_regs = autoencoder.predict(test_vecs)\n",
    "print(test_strs[:10])\n",
    "print([v.recover(x) for x in decoded_regs[:10]])\n",
    "acc = np.sum([v.recover(x) == y for x, y in zip(decoded_regs, test_strs)]) / len(test_strs)\n",
    "print('accuracy = ' + str(acc))"
   ]
  }
 ],
 "metadata": {
  "kernelspec": {
   "display_name": "Python 3",
   "language": "python",
   "name": "python3"
  },
  "language_info": {
   "codemirror_mode": {
    "name": "ipython",
    "version": 3
   },
   "file_extension": ".py",
   "mimetype": "text/x-python",
   "name": "python",
   "nbconvert_exporter": "python",
   "pygments_lexer": "ipython3",
   "version": "3.8.6"
  }
 },
 "nbformat": 4,
 "nbformat_minor": 4
}
