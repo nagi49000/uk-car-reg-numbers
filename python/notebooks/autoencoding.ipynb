{
 "cells": [
  {
   "cell_type": "markdown",
   "metadata": {},
   "source": [
    "# Building a simple autoencoder\n",
    "\n",
    "Based on the ability to generate UK car registration numbers, one can build a dataset of training and test data. With a suitable vectorizer, one can go ahead and make an autoencoder.\n",
    "\n",
    "### References\n",
    "\n",
    "https://blog.keras.io/building-autoencoders-in-keras.html"
   ]
  },
  {
   "cell_type": "code",
   "execution_count": 1,
   "metadata": {
    "scrolled": true
   },
   "outputs": [],
   "source": [
    "import sys\n",
    "import numpy as np\n",
    "import keras\n",
    "from keras import regularizers\n",
    "from keras import layers\n",
    "import random\n",
    "\n",
    "if '..' not in sys.path:\n",
    "    sys.path.append('..')\n",
    "from car_reg_generator.car_reg_generator.uk_reg import UkRegGenerator\n",
    "from car_reg_generator.car_reg_generator.uk_reg import UkRegBowVectorizer"
   ]
  },
  {
   "cell_type": "markdown",
   "metadata": {},
   "source": [
    "### Data generation"
   ]
  },
  {
   "cell_type": "code",
   "execution_count": 2,
   "metadata": {},
   "outputs": [
    {
     "name": "stdout",
     "output_type": "stream",
     "text": [
      "input vector length = 252\n",
      "actual number of validation samples = 1000\n",
      "actual number of test samples = 1000\n"
     ]
    }
   ],
   "source": [
    "n_train = 10000\n",
    "n_val = 1000\n",
    "n_test = 1000\n",
    "\n",
    "random.seed(0)\n",
    "g = UkRegGenerator()\n",
    "v = UkRegBowVectorizer()\n",
    "\n",
    "train_strs = [g.get_reg() for _ in range(n_train)]\n",
    "train_vecs = np.array([v.vectorize(x) for x in train_strs])\n",
    "val_strs = [g.get_reg() for _ in range(n_val)]\n",
    "val_strs = [x for x in val_strs if x not in set(train_strs)]  # sanity check\n",
    "val_vecs = np.array([v.vectorize(x) for x in val_strs])\n",
    "test_strs = [g.get_reg() for _ in range(n_test)]\n",
    "test_strs = [x for x in test_strs if x not in set(train_strs) | set(val_strs)]  # sanity check\n",
    "test_vecs = np.array([v.vectorize(x) for x in test_strs])\n",
    "\n",
    "vec_length = len(train_vecs[0])\n",
    "print('input vector length = ' + str(vec_length))\n",
    "print('actual number of validation samples = ' + str(len(val_strs)))\n",
    "print('actual number of test samples = ' + str(len(test_strs)))"
   ]
  },
  {
   "cell_type": "markdown",
   "metadata": {},
   "source": [
    "### Standard autoencoder\n",
    "\n",
    "Design the network. A single dense layer for the encoder and decoder needs an encoding dimension of around 100. Having more layers allows a smaller encoding dimension, although convergence during learning starts to become unstable."
   ]
  },
  {
   "cell_type": "code",
   "execution_count": 3,
   "metadata": {},
   "outputs": [],
   "source": [
    "encoding_dim = 30\n",
    "input_reg = keras.Input(shape=(vec_length,))\n",
    "# encoded = layers.Dense(encoding_dim, activation='relu', activity_regularizer=regularizers.l1(10e-5))(input_reg)\n",
    "encoded = layers.Dense(vec_length, activation='relu')(input_reg)\n",
    "encoded = layers.Dense(encoding_dim, activation='relu')(encoded)\n",
    "encoded = layers.Dense(encoding_dim, activation='relu')(encoded)\n",
    "encoder = keras.Model(input_reg, encoded)\n",
    "\n",
    "encoded_input = keras.Input(shape=(encoding_dim,))\n",
    "decoded = layers.Dense(encoding_dim, activation='relu')(encoded_input)\n",
    "decoded = layers.Dense(vec_length, activation='relu')(decoded)\n",
    "decoded = layers.Dense(vec_length, activation='sigmoid')(decoded)\n",
    "decoder = keras.Model(encoded_input, decoded)\n",
    "\n",
    "autoencoder = keras.Model(input_reg, decoder(encoder(input_reg)))"
   ]
  },
  {
   "cell_type": "markdown",
   "metadata": {},
   "source": [
    "Do some learning. For shallow networks, almost any optimizer and loss work. For deeper networks, poor choices almost certainly yield failed convergence on the loss function. Even good choices yield convergence on the loss function only on some runs."
   ]
  },
  {
   "cell_type": "code",
   "execution_count": 4,
   "metadata": {
    "scrolled": true
   },
   "outputs": [
    {
     "name": "stdout",
     "output_type": "stream",
     "text": [
      "Epoch 1/70\n",
      "40/40 [==============================] - 1s 24ms/step - loss: 36.1972 - val_loss: 34.4679\n",
      "Epoch 2/70\n",
      "40/40 [==============================] - 1s 20ms/step - loss: 34.2503 - val_loss: 33.9550\n",
      "Epoch 3/70\n",
      "40/40 [==============================] - 1s 27ms/step - loss: 33.1556 - val_loss: 32.3690\n",
      "Epoch 4/70\n",
      "40/40 [==============================] - 1s 24ms/step - loss: 31.7408 - val_loss: 31.3259\n",
      "Epoch 5/70\n",
      "40/40 [==============================] - 1s 21ms/step - loss: 30.8302 - val_loss: 30.7887\n",
      "Epoch 6/70\n",
      "40/40 [==============================] - 1s 22ms/step - loss: 30.2024 - val_loss: 30.1322\n",
      "Epoch 7/70\n",
      "40/40 [==============================] - 1s 22ms/step - loss: 29.3289 - val_loss: 29.1037\n",
      "Epoch 8/70\n",
      "40/40 [==============================] - 1s 22ms/step - loss: 28.2004 - val_loss: 28.2217\n",
      "Epoch 9/70\n",
      "40/40 [==============================] - 1s 22ms/step - loss: 27.4915 - val_loss: 27.6355\n",
      "Epoch 10/70\n",
      "40/40 [==============================] - 1s 21ms/step - loss: 26.7790 - val_loss: 27.0661\n",
      "Epoch 11/70\n",
      "40/40 [==============================] - 1s 19ms/step - loss: 26.1597 - val_loss: 26.6157\n",
      "Epoch 12/70\n",
      "40/40 [==============================] - 1s 27ms/step - loss: 25.6566 - val_loss: 26.0382\n",
      "Epoch 13/70\n",
      "40/40 [==============================] - 1s 21ms/step - loss: 24.9837 - val_loss: 25.3701\n",
      "Epoch 14/70\n",
      "40/40 [==============================] - 1s 29ms/step - loss: 24.3433 - val_loss: 24.7953\n",
      "Epoch 15/70\n",
      "40/40 [==============================] - 1s 25ms/step - loss: 23.7812 - val_loss: 24.2264\n",
      "Epoch 16/70\n",
      "40/40 [==============================] - 1s 31ms/step - loss: 23.2929 - val_loss: 23.9455\n",
      "Epoch 17/70\n",
      "40/40 [==============================] - 1s 24ms/step - loss: 22.9320 - val_loss: 23.5318\n",
      "Epoch 18/70\n",
      "40/40 [==============================] - 1s 27ms/step - loss: 22.5623 - val_loss: 23.1763\n",
      "Epoch 19/70\n",
      "40/40 [==============================] - 1s 25ms/step - loss: 22.2370 - val_loss: 22.8693\n",
      "Epoch 20/70\n",
      "40/40 [==============================] - 1s 22ms/step - loss: 21.9070 - val_loss: 22.6638\n",
      "Epoch 21/70\n",
      "40/40 [==============================] - 1s 22ms/step - loss: 21.5063 - val_loss: 22.0530\n",
      "Epoch 22/70\n",
      "40/40 [==============================] - 1s 28ms/step - loss: 21.1033 - val_loss: 21.7394\n",
      "Epoch 23/70\n",
      "40/40 [==============================] - 1s 22ms/step - loss: 20.7768 - val_loss: 21.3821\n",
      "Epoch 24/70\n",
      "40/40 [==============================] - 1s 26ms/step - loss: 20.4363 - val_loss: 20.9929\n",
      "Epoch 25/70\n",
      "40/40 [==============================] - 1s 23ms/step - loss: 20.1326 - val_loss: 20.6630\n",
      "Epoch 26/70\n",
      "40/40 [==============================] - 1s 22ms/step - loss: 19.7684 - val_loss: 20.2123\n",
      "Epoch 27/70\n",
      "40/40 [==============================] - 1s 23ms/step - loss: 19.4722 - val_loss: 20.1806\n",
      "Epoch 28/70\n",
      "40/40 [==============================] - 1s 26ms/step - loss: 19.2231 - val_loss: 20.0165\n",
      "Epoch 29/70\n",
      "40/40 [==============================] - 1s 25ms/step - loss: 18.9952 - val_loss: 19.5123\n",
      "Epoch 30/70\n",
      "40/40 [==============================] - 1s 27ms/step - loss: 18.7281 - val_loss: 19.2512\n",
      "Epoch 31/70\n",
      "40/40 [==============================] - 1s 29ms/step - loss: 18.4319 - val_loss: 18.9875\n",
      "Epoch 32/70\n",
      "40/40 [==============================] - 1s 27ms/step - loss: 18.1295 - val_loss: 18.6164\n",
      "Epoch 33/70\n",
      "40/40 [==============================] - 1s 24ms/step - loss: 17.8472 - val_loss: 18.4480\n",
      "Epoch 34/70\n",
      "40/40 [==============================] - 1s 28ms/step - loss: 17.6232 - val_loss: 18.1419\n",
      "Epoch 35/70\n",
      "40/40 [==============================] - 1s 25ms/step - loss: 17.3573 - val_loss: 18.0654\n",
      "Epoch 36/70\n",
      "40/40 [==============================] - 1s 26ms/step - loss: 17.1453 - val_loss: 17.4557\n",
      "Epoch 37/70\n",
      "40/40 [==============================] - 1s 22ms/step - loss: 16.8318 - val_loss: 17.2841\n",
      "Epoch 38/70\n",
      "40/40 [==============================] - 1s 27ms/step - loss: 16.5964 - val_loss: 17.1200\n",
      "Epoch 39/70\n",
      "40/40 [==============================] - 1s 28ms/step - loss: 16.3989 - val_loss: 16.7455\n",
      "Epoch 40/70\n",
      "40/40 [==============================] - 1s 22ms/step - loss: 16.1188 - val_loss: 16.5950\n",
      "Epoch 41/70\n",
      "40/40 [==============================] - 1s 23ms/step - loss: 15.9756 - val_loss: 16.5203\n",
      "Epoch 42/70\n",
      "40/40 [==============================] - 1s 26ms/step - loss: 15.7712 - val_loss: 16.0950\n",
      "Epoch 43/70\n",
      "40/40 [==============================] - 1s 23ms/step - loss: 15.5110 - val_loss: 15.8997\n",
      "Epoch 44/70\n",
      "40/40 [==============================] - 1s 30ms/step - loss: 15.3111 - val_loss: 15.6085\n",
      "Epoch 45/70\n",
      "40/40 [==============================] - 1s 32ms/step - loss: 15.1776 - val_loss: 15.6771\n",
      "Epoch 46/70\n",
      "40/40 [==============================] - 1s 29ms/step - loss: 15.1042 - val_loss: 15.5022\n",
      "Epoch 47/70\n",
      "40/40 [==============================] - 1s 23ms/step - loss: 15.0164 - val_loss: 15.1270\n",
      "Epoch 48/70\n",
      "40/40 [==============================] - 1s 26ms/step - loss: 14.7258 - val_loss: 15.1033\n",
      "Epoch 49/70\n",
      "40/40 [==============================] - 1s 25ms/step - loss: 14.6178 - val_loss: 14.9327\n",
      "Epoch 50/70\n",
      "40/40 [==============================] - 1s 22ms/step - loss: 14.5471 - val_loss: 14.8996\n",
      "Epoch 51/70\n",
      "40/40 [==============================] - 1s 22ms/step - loss: 14.5350 - val_loss: 14.7790\n",
      "Epoch 52/70\n",
      "40/40 [==============================] - 1s 21ms/step - loss: 14.4091 - val_loss: 14.6586\n",
      "Epoch 53/70\n",
      "40/40 [==============================] - 1s 18ms/step - loss: 14.3262 - val_loss: 14.6234\n",
      "Epoch 54/70\n",
      "40/40 [==============================] - 1s 20ms/step - loss: 14.2718 - val_loss: 14.5172\n",
      "Epoch 55/70\n",
      "40/40 [==============================] - 1s 23ms/step - loss: 14.2293 - val_loss: 14.3528\n",
      "Epoch 56/70\n",
      "40/40 [==============================] - 1s 24ms/step - loss: 14.1571 - val_loss: 14.3333\n",
      "Epoch 57/70\n",
      "40/40 [==============================] - 1s 24ms/step - loss: 14.0816 - val_loss: 14.3181\n",
      "Epoch 58/70\n",
      "40/40 [==============================] - 1s 21ms/step - loss: 14.0895 - val_loss: 14.2557\n",
      "Epoch 59/70\n",
      "40/40 [==============================] - 1s 23ms/step - loss: 14.0350 - val_loss: 14.2438\n",
      "Epoch 60/70\n",
      "40/40 [==============================] - 1s 25ms/step - loss: 14.0122 - val_loss: 14.1918\n",
      "Epoch 61/70\n",
      "40/40 [==============================] - 1s 26ms/step - loss: 13.9616 - val_loss: 14.0675\n",
      "Epoch 62/70\n",
      "40/40 [==============================] - 1s 25ms/step - loss: 13.9086 - val_loss: 14.1228\n",
      "Epoch 63/70\n",
      "40/40 [==============================] - 1s 22ms/step - loss: 13.9192 - val_loss: 13.9951\n",
      "Epoch 64/70\n",
      "40/40 [==============================] - 1s 22ms/step - loss: 13.8593 - val_loss: 14.0502\n",
      "Epoch 65/70\n",
      "40/40 [==============================] - 1s 22ms/step - loss: 13.8658 - val_loss: 13.9812\n",
      "Epoch 66/70\n",
      "40/40 [==============================] - 1s 30ms/step - loss: 13.8888 - val_loss: 14.0230\n",
      "Epoch 67/70\n",
      "40/40 [==============================] - 1s 28ms/step - loss: 13.8514 - val_loss: 13.9101\n",
      "Epoch 68/70\n",
      "40/40 [==============================] - 1s 30ms/step - loss: 13.8007 - val_loss: 13.8609\n",
      "Epoch 69/70\n",
      "40/40 [==============================] - 1s 26ms/step - loss: 13.7760 - val_loss: 13.8189\n",
      "Epoch 70/70\n",
      "40/40 [==============================] - 1s 22ms/step - loss: 13.7483 - val_loss: 13.8271\n"
     ]
    },
    {
     "data": {
      "text/plain": [
       "<tensorflow.python.keras.callbacks.History at 0x7f4960023a60>"
      ]
     },
     "execution_count": 4,
     "metadata": {},
     "output_type": "execute_result"
    }
   ],
   "source": [
    "autoencoder.compile(optimizer='adam', loss='categorical_crossentropy')\n",
    "autoencoder.fit(train_vecs, train_vecs,\n",
    "                epochs=70,\n",
    "                batch_size=256,\n",
    "                shuffle=True,\n",
    "                validation_data=(val_vecs, val_vecs))"
   ]
  },
  {
   "cell_type": "markdown",
   "metadata": {},
   "source": [
    "Evaluation"
   ]
  },
  {
   "cell_type": "code",
   "execution_count": 5,
   "metadata": {
    "scrolled": true
   },
   "outputs": [
    {
     "name": "stdout",
     "output_type": "stream",
     "text": [
      "['MY33WSZ', 'WE83GXF', 'LU19JLV', 'KX41GVE', 'WP91NCV', 'SG47LFF', 'HB17WIY', 'CA89AXN', 'GT57AKA', 'CD77SJT']\n",
      "['MY33WSZ', 'WE83GXF', 'LU19JLV', 'KX41GVE', 'WP91NCV', 'SG47LFF', 'HB17WIY', 'CA89AXN', 'GT57AKA', 'CD77SJT']\n",
      "accuracy = 0.996\n"
     ]
    }
   ],
   "source": [
    "decoded_regs = autoencoder.predict(test_vecs)\n",
    "print(test_strs[:10])\n",
    "print([v.recover(x) for x in decoded_regs[:10]])\n",
    "acc = np.sum([v.recover(x) == y for x, y in zip(decoded_regs, test_strs)]) / len(test_strs)\n",
    "print('accuracy = ' + str(acc))"
   ]
  }
 ],
 "metadata": {
  "kernelspec": {
   "display_name": "Python 3",
   "language": "python",
   "name": "python3"
  },
  "language_info": {
   "codemirror_mode": {
    "name": "ipython",
    "version": 3
   },
   "file_extension": ".py",
   "mimetype": "text/x-python",
   "name": "python",
   "nbconvert_exporter": "python",
   "pygments_lexer": "ipython3",
   "version": "3.8.6"
  }
 },
 "nbformat": 4,
 "nbformat_minor": 4
}
