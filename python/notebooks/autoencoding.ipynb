{
 "cells": [
  {
   "cell_type": "code",
   "execution_count": 60,
   "metadata": {
    "scrolled": true
   },
   "outputs": [],
   "source": [
    "import sys\n",
    "import numpy as np\n",
    "import keras\n",
    "from keras import regularizers\n",
    "from keras import layers\n",
    "import random\n",
    "\n",
    "if '..' not in sys.path:\n",
    "    sys.path.append('..')\n",
    "from car_reg_generator.car_reg_generator.uk_reg import UkRegGenerator\n",
    "from car_reg_generator.car_reg_generator.uk_reg import UkRegBowVectorizer"
   ]
  },
  {
   "cell_type": "markdown",
   "metadata": {},
   "source": [
    "### Data generation"
   ]
  },
  {
   "cell_type": "code",
   "execution_count": 55,
   "metadata": {},
   "outputs": [
    {
     "name": "stdout",
     "output_type": "stream",
     "text": [
      "252\n"
     ]
    }
   ],
   "source": [
    "n_train = 10000\n",
    "n_test = 1000\n",
    "\n",
    "random.seed(0)\n",
    "g = UkRegGenerator()\n",
    "v = UkRegBowVectorizer()\n",
    "\n",
    "train_strs = [g.get_reg() for _ in range(n_train)]\n",
    "train_vecs = np.array([v.vectorize(x) for x in train_strs])\n",
    "test_strs = [g.get_reg() for _ in range(n_test)]\n",
    "test_vecs = np.array([v.vectorize(x) for x in test_strs])\n",
    "\n",
    "vec_length = len(train_vecs[0])\n",
    "print(vec_length)"
   ]
  },
  {
   "cell_type": "markdown",
   "metadata": {},
   "source": [
    "### Standard autoencoder\n",
    "\n",
    "Design the network"
   ]
  },
  {
   "cell_type": "code",
   "execution_count": 114,
   "metadata": {},
   "outputs": [],
   "source": [
    "encoding_dim = 50\n",
    "input_reg = keras.Input(shape=(vec_length,))\n",
    "# encoded = layers.Dense(encoding_dim, activation='relu', activity_regularizer=regularizers.l1(10e-5))(input_reg)\n",
    "encoded = layers.Dense(vec_length, activation='relu')(input_reg)\n",
    "encoded = layers.Dense(encoding_dim, activation='relu')(encoded)\n",
    "encoded = layers.Dense(encoding_dim, activation='relu')(encoded)\n",
    "decoded = layers.Dense(encoding_dim, activation='relu')(encoded)\n",
    "decoded = layers.Dense(vec_length, activation='relu')(decoded)\n",
    "decoded = layers.Dense(vec_length, activation='sigmoid')(decoded)\n",
    "\n",
    "autoencoder = keras.Model(input_reg, decoded)\n",
    "encoder = keras.Model(input_reg, encoded)\n",
    "\n",
    "encoded_input = keras.Input(shape=(encoding_dim,))\n",
    "decoder_layer = autoencoder.layers[-3](encoded_input)\n",
    "decoder_layer = autoencoder.layers[-2](decoder_layer)\n",
    "decoder_layer = autoencoder.layers[-1](decoder_layer)\n",
    "decoder = keras.Model(encoded_input, decoder_layer)"
   ]
  },
  {
   "cell_type": "markdown",
   "metadata": {},
   "source": [
    "Do some learning"
   ]
  },
  {
   "cell_type": "code",
   "execution_count": 115,
   "metadata": {
    "scrolled": true
   },
   "outputs": [
    {
     "name": "stdout",
     "output_type": "stream",
     "text": [
      "Epoch 1/50\n",
      "40/40 [==============================] - 1s 26ms/step - loss: 36.0875 - val_loss: 34.4730\n",
      "Epoch 2/50\n",
      "40/40 [==============================] - 1s 19ms/step - loss: 34.2329 - val_loss: 33.7668\n",
      "Epoch 3/50\n",
      "40/40 [==============================] - 1s 24ms/step - loss: 32.8164 - val_loss: 31.6981\n",
      "Epoch 4/50\n",
      "40/40 [==============================] - 1s 30ms/step - loss: 30.6505 - val_loss: 29.9031\n",
      "Epoch 5/50\n",
      "40/40 [==============================] - 1s 21ms/step - loss: 29.3841 - val_loss: 29.2426\n",
      "Epoch 6/50\n",
      "40/40 [==============================] - 1s 23ms/step - loss: 28.6721 - val_loss: 28.5643\n",
      "Epoch 7/50\n",
      "40/40 [==============================] - 1s 20ms/step - loss: 27.9728 - val_loss: 27.9607\n",
      "Epoch 8/50\n",
      "40/40 [==============================] - 1s 26ms/step - loss: 27.0705 - val_loss: 26.7962\n",
      "Epoch 9/50\n",
      "40/40 [==============================] - 1s 24ms/step - loss: 25.7012 - val_loss: 25.6405\n",
      "Epoch 10/50\n",
      "40/40 [==============================] - 1s 23ms/step - loss: 24.7501 - val_loss: 24.8981\n",
      "Epoch 11/50\n",
      "40/40 [==============================] - 1s 23ms/step - loss: 23.9317 - val_loss: 24.2280\n",
      "Epoch 12/50\n",
      "40/40 [==============================] - 1s 27ms/step - loss: 23.1192 - val_loss: 23.4471\n",
      "Epoch 13/50\n",
      "40/40 [==============================] - 1s 28ms/step - loss: 22.4087 - val_loss: 22.7487\n",
      "Epoch 14/50\n",
      "40/40 [==============================] - 1s 23ms/step - loss: 21.7169 - val_loss: 22.0634\n",
      "Epoch 15/50\n",
      "40/40 [==============================] - 1s 24ms/step - loss: 21.0919 - val_loss: 21.4909\n",
      "Epoch 16/50\n",
      "40/40 [==============================] - 1s 20ms/step - loss: 20.5059 - val_loss: 20.9533\n",
      "Epoch 17/50\n",
      "40/40 [==============================] - 1s 26ms/step - loss: 19.9281 - val_loss: 20.3851\n",
      "Epoch 18/50\n",
      "40/40 [==============================] - 1s 21ms/step - loss: 19.4244 - val_loss: 19.9866\n",
      "Epoch 19/50\n",
      "40/40 [==============================] - 1s 25ms/step - loss: 18.9839 - val_loss: 19.4658\n",
      "Epoch 20/50\n",
      "40/40 [==============================] - 1s 23ms/step - loss: 18.4631 - val_loss: 19.0498\n",
      "Epoch 21/50\n",
      "40/40 [==============================] - 1s 26ms/step - loss: 18.0125 - val_loss: 18.7621\n",
      "Epoch 22/50\n",
      "40/40 [==============================] - 1s 26ms/step - loss: 17.5857 - val_loss: 17.8257\n",
      "Epoch 23/50\n",
      "40/40 [==============================] - 1s 28ms/step - loss: 17.0506 - val_loss: 17.4257\n",
      "Epoch 24/50\n",
      "40/40 [==============================] - 1s 26ms/step - loss: 16.6464 - val_loss: 17.0626\n",
      "Epoch 25/50\n",
      "40/40 [==============================] - 1s 26ms/step - loss: 16.3178 - val_loss: 16.7718\n",
      "Epoch 26/50\n",
      "40/40 [==============================] - 1s 30ms/step - loss: 15.9842 - val_loss: 16.3597\n",
      "Epoch 27/50\n",
      "40/40 [==============================] - 1s 25ms/step - loss: 15.6724 - val_loss: 15.8669\n",
      "Epoch 28/50\n",
      "40/40 [==============================] - 1s 23ms/step - loss: 15.3762 - val_loss: 15.5630\n",
      "Epoch 29/50\n",
      "40/40 [==============================] - 1s 24ms/step - loss: 15.1113 - val_loss: 15.3763\n",
      "Epoch 30/50\n",
      "40/40 [==============================] - 1s 25ms/step - loss: 14.9274 - val_loss: 15.2434\n",
      "Epoch 31/50\n",
      "40/40 [==============================] - 1s 24ms/step - loss: 14.7101 - val_loss: 14.9177\n",
      "Epoch 32/50\n",
      "40/40 [==============================] - 1s 20ms/step - loss: 14.5323 - val_loss: 14.7097\n",
      "Epoch 33/50\n",
      "40/40 [==============================] - 1s 25ms/step - loss: 14.3778 - val_loss: 14.4987\n",
      "Epoch 34/50\n",
      "40/40 [==============================] - 1s 24ms/step - loss: 14.2401 - val_loss: 14.5865\n",
      "Epoch 35/50\n",
      "40/40 [==============================] - 1s 25ms/step - loss: 14.2180 - val_loss: 14.4069\n",
      "Epoch 36/50\n",
      "40/40 [==============================] - 1s 29ms/step - loss: 14.0860 - val_loss: 14.1756\n",
      "Epoch 37/50\n",
      "40/40 [==============================] - 1s 25ms/step - loss: 13.9863 - val_loss: 14.0951\n",
      "Epoch 38/50\n",
      "40/40 [==============================] - 1s 26ms/step - loss: 13.9274 - val_loss: 14.0659\n",
      "Epoch 39/50\n",
      "40/40 [==============================] - 1s 27ms/step - loss: 13.8936 - val_loss: 14.0032\n",
      "Epoch 40/50\n",
      "40/40 [==============================] - 1s 29ms/step - loss: 13.8527 - val_loss: 13.9371\n",
      "Epoch 41/50\n",
      "40/40 [==============================] - 1s 27ms/step - loss: 13.8062 - val_loss: 13.9103\n",
      "Epoch 42/50\n",
      "40/40 [==============================] - 1s 25ms/step - loss: 13.8188 - val_loss: 13.8598\n",
      "Epoch 43/50\n",
      "40/40 [==============================] - 1s 30ms/step - loss: 13.7651 - val_loss: 13.8149\n",
      "Epoch 44/50\n",
      "40/40 [==============================] - 1s 24ms/step - loss: 13.7423 - val_loss: 13.7981\n",
      "Epoch 45/50\n",
      "40/40 [==============================] - 1s 23ms/step - loss: 13.7272 - val_loss: 13.7945\n",
      "Epoch 46/50\n",
      "40/40 [==============================] - 1s 25ms/step - loss: 13.7261 - val_loss: 13.7613\n",
      "Epoch 47/50\n",
      "40/40 [==============================] - 1s 21ms/step - loss: 13.7029 - val_loss: 13.7484\n",
      "Epoch 48/50\n",
      "40/40 [==============================] - 1s 23ms/step - loss: 13.6940 - val_loss: 13.7322\n",
      "Epoch 49/50\n",
      "40/40 [==============================] - 1s 27ms/step - loss: 13.6842 - val_loss: 13.7193\n",
      "Epoch 50/50\n",
      "40/40 [==============================] - 1s 28ms/step - loss: 13.6776 - val_loss: 13.7231\n"
     ]
    },
    {
     "data": {
      "text/plain": [
       "<tensorflow.python.keras.callbacks.History at 0x7fdf2c25cca0>"
      ]
     },
     "execution_count": 115,
     "metadata": {},
     "output_type": "execute_result"
    }
   ],
   "source": [
    "autoencoder.compile(optimizer='adam', loss='categorical_crossentropy')\n",
    "autoencoder.fit(train_vecs, train_vecs,\n",
    "                epochs=50,\n",
    "                batch_size=256,\n",
    "                shuffle=True,\n",
    "                validation_data=(test_vecs, test_vecs))"
   ]
  },
  {
   "cell_type": "code",
   "execution_count": 116,
   "metadata": {
    "scrolled": true
   },
   "outputs": [
    {
     "name": "stdout",
     "output_type": "stream",
     "text": [
      "['AN45FVI', 'LE23DCR', 'HA99JWO', 'EQ58XKI', 'RP49FNK', 'DJ61XIM', 'WO62NON', 'EA42JCE', 'DV47KTZ', 'HM70DFU']\n",
      "['AN45FVI', 'LE23DCR', 'HA99JWO', 'EQ58XKI', 'RP49FNK', 'DJ61XIM', 'WO62NON', 'EA42JCE', 'DV47KTZ', 'HM70DFU']\n",
      "accuracy = 0.999\n"
     ]
    }
   ],
   "source": [
    "encoded_regs = encoder.predict(test_vecs)\n",
    "decoded_regs = decoder.predict(encoded_regs)\n",
    "print(test_strs[:10])\n",
    "print([v.recover(x) for x in decoded_regs[:10]])\n",
    "acc = np.sum([v.recover(x) == y for x, y in zip(decoded_regs, test_strs)]) / len(test_strs)\n",
    "print('accuracy = ' + str(acc))"
   ]
  }
 ],
 "metadata": {
  "kernelspec": {
   "display_name": "Python 3",
   "language": "python",
   "name": "python3"
  },
  "language_info": {
   "codemirror_mode": {
    "name": "ipython",
    "version": 3
   },
   "file_extension": ".py",
   "mimetype": "text/x-python",
   "name": "python",
   "nbconvert_exporter": "python",
   "pygments_lexer": "ipython3",
   "version": "3.8.6"
  }
 },
 "nbformat": 4,
 "nbformat_minor": 4
}
