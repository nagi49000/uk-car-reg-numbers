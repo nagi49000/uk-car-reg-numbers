{
 "cells": [
  {
   "cell_type": "markdown",
   "metadata": {},
   "source": [
    "# Building a simple autoencoder\n",
    "\n",
    "Based on the ability to generate UK car registration numbers, one can build a dataset of training and test data. With a suitable vectorizer, one can go ahead and make an autoencoder.\n",
    "\n",
    "### References\n",
    "\n",
    "https://blog.keras.io/building-autoencoders-in-keras.html"
   ]
  },
  {
   "cell_type": "code",
   "execution_count": 1,
   "metadata": {
    "scrolled": true
   },
   "outputs": [],
   "source": [
    "import sys\n",
    "import numpy as np\n",
    "import keras\n",
    "from keras import regularizers\n",
    "from keras import layers\n",
    "import random\n",
    "\n",
    "if '..' not in sys.path:\n",
    "    sys.path.append('..')\n",
    "from car_reg_generator.car_reg_generator.uk_reg import UkRegGenerator\n",
    "from car_reg_generator.car_reg_generator.uk_reg import UkRegBowVectorizer"
   ]
  },
  {
   "cell_type": "markdown",
   "metadata": {},
   "source": [
    "### Data generation"
   ]
  },
  {
   "cell_type": "code",
   "execution_count": 2,
   "metadata": {},
   "outputs": [
    {
     "name": "stdout",
     "output_type": "stream",
     "text": [
      "252\n"
     ]
    }
   ],
   "source": [
    "n_train = 10000\n",
    "n_test = 1000\n",
    "\n",
    "random.seed(0)\n",
    "g = UkRegGenerator()\n",
    "v = UkRegBowVectorizer()\n",
    "\n",
    "train_strs = [g.get_reg() for _ in range(n_train)]\n",
    "train_vecs = np.array([v.vectorize(x) for x in train_strs])\n",
    "test_strs = [g.get_reg() for _ in range(n_test)]\n",
    "test_vecs = np.array([v.vectorize(x) for x in test_strs])\n",
    "\n",
    "vec_length = len(train_vecs[0])\n",
    "print(vec_length)"
   ]
  },
  {
   "cell_type": "markdown",
   "metadata": {},
   "source": [
    "### Standard autoencoder\n",
    "\n",
    "Design the network. A single dense layer for the encoder and decoder needs an encoding dimension of around 100. Having more layers allows a smaller encoding dimension, although convergence during learning starts to become unstable."
   ]
  },
  {
   "cell_type": "code",
   "execution_count": 21,
   "metadata": {},
   "outputs": [],
   "source": [
    "encoding_dim = 30\n",
    "input_reg = keras.Input(shape=(vec_length,))\n",
    "# encoded = layers.Dense(encoding_dim, activation='relu', activity_regularizer=regularizers.l1(10e-5))(input_reg)\n",
    "encoded = layers.Dense(vec_length, activation='relu')(input_reg)\n",
    "encoded = layers.Dense(encoding_dim, activation='relu')(encoded)\n",
    "encoded = layers.Dense(encoding_dim, activation='relu')(encoded)\n",
    "encoder = keras.Model(input_reg, encoded)\n",
    "\n",
    "encoded_input = keras.Input(shape=(encoding_dim,))\n",
    "decoded = layers.Dense(encoding_dim, activation='relu')(encoded_input)\n",
    "decoded = layers.Dense(vec_length, activation='relu')(decoded)\n",
    "decoded = layers.Dense(vec_length, activation='sigmoid')(decoded)\n",
    "decoder = keras.Model(encoded_input, decoded)\n",
    "\n",
    "autoencoder = keras.Model(input_reg, decoder(encoder(input_reg)))"
   ]
  },
  {
   "cell_type": "markdown",
   "metadata": {},
   "source": [
    "Do some learning. For shallow networks, almost any optimizer and loss work. For deeper networks, poor choices almost certainly yield failed convergence on the loss function. Even good choices yield convergence on the loss function only on some runs."
   ]
  },
  {
   "cell_type": "code",
   "execution_count": 24,
   "metadata": {
    "scrolled": true
   },
   "outputs": [
    {
     "name": "stdout",
     "output_type": "stream",
     "text": [
      "Epoch 1/100\n",
      "40/40 [==============================] - 1s 25ms/step - loss: 15.8011 - val_loss: 14.8478\n",
      "Epoch 2/100\n",
      "40/40 [==============================] - 1s 20ms/step - loss: 14.5325 - val_loss: 14.6482\n",
      "Epoch 3/100\n",
      "40/40 [==============================] - 1s 21ms/step - loss: 14.4347 - val_loss: 14.5909\n",
      "Epoch 4/100\n",
      "40/40 [==============================] - 1s 19ms/step - loss: 14.3694 - val_loss: 14.5452\n",
      "Epoch 5/100\n",
      "40/40 [==============================] - 1s 20ms/step - loss: 14.3373 - val_loss: 14.5309\n",
      "Epoch 6/100\n",
      "40/40 [==============================] - 1s 19ms/step - loss: 14.2630 - val_loss: 14.3441\n",
      "Epoch 7/100\n",
      "40/40 [==============================] - 1s 19ms/step - loss: 14.1798 - val_loss: 14.3392\n",
      "Epoch 8/100\n",
      "40/40 [==============================] - 1s 18ms/step - loss: 14.1578 - val_loss: 14.2691\n",
      "Epoch 9/100\n",
      "40/40 [==============================] - 1s 21ms/step - loss: 14.1093 - val_loss: 14.2734\n",
      "Epoch 10/100\n",
      "40/40 [==============================] - 1s 23ms/step - loss: 14.0591 - val_loss: 14.1645\n",
      "Epoch 11/100\n",
      "40/40 [==============================] - 1s 21ms/step - loss: 14.0134 - val_loss: 14.1191\n",
      "Epoch 12/100\n",
      "40/40 [==============================] - 1s 22ms/step - loss: 13.9836 - val_loss: 14.1462\n",
      "Epoch 13/100\n",
      "40/40 [==============================] - 1s 22ms/step - loss: 13.9695 - val_loss: 14.0048\n",
      "Epoch 14/100\n",
      "40/40 [==============================] - 1s 24ms/step - loss: 13.8917 - val_loss: 13.9964\n",
      "Epoch 15/100\n",
      "40/40 [==============================] - 1s 28ms/step - loss: 13.8772 - val_loss: 13.9891\n",
      "Epoch 16/100\n",
      "40/40 [==============================] - 1s 21ms/step - loss: 13.8695 - val_loss: 13.9253\n",
      "Epoch 17/100\n",
      "40/40 [==============================] - 1s 25ms/step - loss: 13.8236 - val_loss: 13.9156\n",
      "Epoch 18/100\n",
      "40/40 [==============================] - 1s 20ms/step - loss: 13.8344 - val_loss: 13.8885\n",
      "Epoch 19/100\n",
      "40/40 [==============================] - 1s 21ms/step - loss: 13.7835 - val_loss: 13.8180\n",
      "Epoch 20/100\n",
      "40/40 [==============================] - 1s 25ms/step - loss: 13.7606 - val_loss: 13.9210\n",
      "Epoch 21/100\n",
      "40/40 [==============================] - 1s 22ms/step - loss: 13.8203 - val_loss: 13.8708\n",
      "Epoch 22/100\n",
      "40/40 [==============================] - 1s 21ms/step - loss: 13.7626 - val_loss: 13.8033\n",
      "Epoch 23/100\n",
      "40/40 [==============================] - 1s 20ms/step - loss: 13.7357 - val_loss: 13.7814\n",
      "Epoch 24/100\n",
      "40/40 [==============================] - 1s 27ms/step - loss: 13.7280 - val_loss: 13.7882\n",
      "Epoch 25/100\n",
      "40/40 [==============================] - 1s 26ms/step - loss: 13.7233 - val_loss: 13.7589\n",
      "Epoch 26/100\n",
      "40/40 [==============================] - 1s 28ms/step - loss: 13.7042 - val_loss: 13.7694\n",
      "Epoch 27/100\n",
      "40/40 [==============================] - 1s 26ms/step - loss: 14.2868 - val_loss: 14.9164\n",
      "Epoch 28/100\n",
      "40/40 [==============================] - 1s 27ms/step - loss: 14.0233 - val_loss: 13.7982\n",
      "Epoch 29/100\n",
      "40/40 [==============================] - 1s 23ms/step - loss: 13.7340 - val_loss: 13.7540\n",
      "Epoch 30/100\n",
      "40/40 [==============================] - 1s 26ms/step - loss: 13.6956 - val_loss: 13.7478\n",
      "Epoch 31/100\n",
      "40/40 [==============================] - 1s 24ms/step - loss: 13.6960 - val_loss: 13.7255\n",
      "Epoch 32/100\n",
      "40/40 [==============================] - 1s 26ms/step - loss: 13.6806 - val_loss: 13.7212\n",
      "Epoch 33/100\n",
      "40/40 [==============================] - 1s 24ms/step - loss: 13.6790 - val_loss: 13.7102\n",
      "Epoch 34/100\n",
      "40/40 [==============================] - 1s 20ms/step - loss: 13.6741 - val_loss: 13.7135\n",
      "Epoch 35/100\n",
      "40/40 [==============================] - 1s 23ms/step - loss: 13.6733 - val_loss: 13.7158\n",
      "Epoch 36/100\n",
      "40/40 [==============================] - 1s 25ms/step - loss: 13.6870 - val_loss: 13.7048\n",
      "Epoch 37/100\n",
      "40/40 [==============================] - 1s 25ms/step - loss: 13.6646 - val_loss: 13.6969\n",
      "Epoch 38/100\n",
      "40/40 [==============================] - 1s 20ms/step - loss: 13.6650 - val_loss: 13.6915\n",
      "Epoch 39/100\n",
      "40/40 [==============================] - 1s 24ms/step - loss: 13.6612 - val_loss: 13.6859\n",
      "Epoch 40/100\n",
      "40/40 [==============================] - 1s 25ms/step - loss: 13.6553 - val_loss: 13.6853\n",
      "Epoch 41/100\n",
      "40/40 [==============================] - 1s 28ms/step - loss: 13.6580 - val_loss: 13.6814\n",
      "Epoch 42/100\n",
      "40/40 [==============================] - 1s 23ms/step - loss: 13.6524 - val_loss: 13.6785\n",
      "Epoch 43/100\n",
      "40/40 [==============================] - 1s 21ms/step - loss: 13.6494 - val_loss: 13.6724\n",
      "Epoch 44/100\n",
      "40/40 [==============================] - 1s 25ms/step - loss: 13.6469 - val_loss: 13.6713\n",
      "Epoch 45/100\n",
      "40/40 [==============================] - 1s 22ms/step - loss: 13.6460 - val_loss: 13.6685\n",
      "Epoch 46/100\n",
      "40/40 [==============================] - 1s 22ms/step - loss: 13.6454 - val_loss: 13.6686\n",
      "Epoch 47/100\n",
      "40/40 [==============================] - 1s 27ms/step - loss: 13.6438 - val_loss: 13.6656\n",
      "Epoch 48/100\n",
      "40/40 [==============================] - 1s 25ms/step - loss: 13.6423 - val_loss: 13.6644\n",
      "Epoch 49/100\n",
      "40/40 [==============================] - 1s 23ms/step - loss: 13.6422 - val_loss: 13.6648\n",
      "Epoch 50/100\n",
      "40/40 [==============================] - 1s 30ms/step - loss: 13.6409 - val_loss: 13.6625\n",
      "Epoch 51/100\n",
      "40/40 [==============================] - 1s 28ms/step - loss: 13.6407 - val_loss: 13.6598\n",
      "Epoch 52/100\n",
      "40/40 [==============================] - 1s 25ms/step - loss: 13.6415 - val_loss: 13.6598\n",
      "Epoch 53/100\n",
      "40/40 [==============================] - 1s 30ms/step - loss: 13.6402 - val_loss: 13.6588\n",
      "Epoch 54/100\n",
      "40/40 [==============================] - 1s 31ms/step - loss: 13.6383 - val_loss: 13.6552\n",
      "Epoch 55/100\n",
      "40/40 [==============================] - 1s 27ms/step - loss: 13.6372 - val_loss: 13.6554\n",
      "Epoch 56/100\n",
      "40/40 [==============================] - 1s 21ms/step - loss: 13.6369 - val_loss: 13.6545\n",
      "Epoch 57/100\n",
      "40/40 [==============================] - 1s 29ms/step - loss: 13.6358 - val_loss: 13.6591\n",
      "Epoch 58/100\n",
      "40/40 [==============================] - 1s 29ms/step - loss: 13.6467 - val_loss: 13.7326\n",
      "Epoch 59/100\n",
      "40/40 [==============================] - 1s 29ms/step - loss: 16.0134 - val_loss: 16.8366\n",
      "Epoch 60/100\n",
      "40/40 [==============================] - 1s 26ms/step - loss: 14.9915 - val_loss: 14.2850\n",
      "Epoch 61/100\n",
      "40/40 [==============================] - 1s 29ms/step - loss: 14.0147 - val_loss: 14.1373\n",
      "Epoch 62/100\n",
      "40/40 [==============================] - 1s 31ms/step - loss: 13.8191 - val_loss: 13.7676\n",
      "Epoch 63/100\n",
      "40/40 [==============================] - 1s 22ms/step - loss: 13.6926 - val_loss: 13.7016\n",
      "Epoch 64/100\n",
      "40/40 [==============================] - 1s 29ms/step - loss: 13.6714 - val_loss: 13.6913\n",
      "Epoch 65/100\n",
      "40/40 [==============================] - 1s 26ms/step - loss: 13.6651 - val_loss: 13.6843\n",
      "Epoch 66/100\n",
      "40/40 [==============================] - 1s 26ms/step - loss: 13.6640 - val_loss: 13.6800\n",
      "Epoch 67/100\n",
      "40/40 [==============================] - 1s 22ms/step - loss: 13.6617 - val_loss: 13.6806\n",
      "Epoch 68/100\n",
      "40/40 [==============================] - 1s 24ms/step - loss: 13.6605 - val_loss: 13.6782\n",
      "Epoch 69/100\n",
      "40/40 [==============================] - 1s 26ms/step - loss: 13.6597 - val_loss: 13.6776\n",
      "Epoch 70/100\n",
      "40/40 [==============================] - 1s 24ms/step - loss: 13.6591 - val_loss: 13.6763\n",
      "Epoch 71/100\n",
      "40/40 [==============================] - 1s 25ms/step - loss: 13.6585 - val_loss: 13.6739\n",
      "Epoch 72/100\n",
      "40/40 [==============================] - 1s 26ms/step - loss: 13.6576 - val_loss: 13.6741\n",
      "Epoch 73/100\n",
      "40/40 [==============================] - 1s 24ms/step - loss: 13.6576 - val_loss: 13.6735\n",
      "Epoch 74/100\n",
      "40/40 [==============================] - 1s 29ms/step - loss: 13.6568 - val_loss: 13.6722\n",
      "Epoch 75/100\n",
      "40/40 [==============================] - 1s 25ms/step - loss: 13.6563 - val_loss: 13.6716\n",
      "Epoch 76/100\n",
      "40/40 [==============================] - 1s 23ms/step - loss: 13.6561 - val_loss: 13.6708\n",
      "Epoch 77/100\n",
      "40/40 [==============================] - 1s 31ms/step - loss: 13.6559 - val_loss: 13.6684\n",
      "Epoch 78/100\n",
      "40/40 [==============================] - 1s 28ms/step - loss: 13.6554 - val_loss: 13.6705\n",
      "Epoch 79/100\n",
      "40/40 [==============================] - 1s 27ms/step - loss: 13.6550 - val_loss: 13.6685\n",
      "Epoch 80/100\n",
      "40/40 [==============================] - 1s 26ms/step - loss: 13.6547 - val_loss: 13.6670\n",
      "Epoch 81/100\n",
      "40/40 [==============================] - 1s 27ms/step - loss: 13.6550 - val_loss: 13.6682\n",
      "Epoch 82/100\n",
      "40/40 [==============================] - 1s 22ms/step - loss: 13.6543 - val_loss: 13.6671\n",
      "Epoch 83/100\n",
      "40/40 [==============================] - 1s 27ms/step - loss: 13.6547 - val_loss: 13.6664\n",
      "Epoch 84/100\n",
      "40/40 [==============================] - 1s 21ms/step - loss: 13.6539 - val_loss: 13.6660\n",
      "Epoch 85/100\n",
      "40/40 [==============================] - 1s 23ms/step - loss: 13.6536 - val_loss: 13.6659\n",
      "Epoch 86/100\n",
      "40/40 [==============================] - 1s 25ms/step - loss: 13.6535 - val_loss: 13.6661\n",
      "Epoch 87/100\n",
      "40/40 [==============================] - 1s 23ms/step - loss: 13.6533 - val_loss: 13.6643\n",
      "Epoch 88/100\n",
      "40/40 [==============================] - 1s 25ms/step - loss: 13.6531 - val_loss: 13.6640\n",
      "Epoch 89/100\n",
      "40/40 [==============================] - 1s 28ms/step - loss: 13.6529 - val_loss: 13.6650\n",
      "Epoch 90/100\n",
      "40/40 [==============================] - 1s 28ms/step - loss: 13.6528 - val_loss: 13.6635\n",
      "Epoch 91/100\n",
      "40/40 [==============================] - 1s 20ms/step - loss: 13.6528 - val_loss: 13.6633\n",
      "Epoch 92/100\n",
      "40/40 [==============================] - 1s 25ms/step - loss: 13.6525 - val_loss: 13.6631\n",
      "Epoch 93/100\n",
      "40/40 [==============================] - 1s 26ms/step - loss: 13.6528 - val_loss: 13.6619\n",
      "Epoch 94/100\n",
      "40/40 [==============================] - 1s 21ms/step - loss: 13.6524 - val_loss: 13.6631\n",
      "Epoch 95/100\n",
      "40/40 [==============================] - 1s 23ms/step - loss: 13.6499 - val_loss: 13.6562\n",
      "Epoch 96/100\n",
      "40/40 [==============================] - 1s 26ms/step - loss: 13.6653 - val_loss: 14.0615\n",
      "Epoch 97/100\n",
      "40/40 [==============================] - 1s 27ms/step - loss: 14.3089 - val_loss: 15.4376\n",
      "Epoch 98/100\n",
      "40/40 [==============================] - 1s 26ms/step - loss: 15.7020 - val_loss: 15.2842\n",
      "Epoch 99/100\n",
      "40/40 [==============================] - 1s 26ms/step - loss: 14.6806 - val_loss: 14.4363\n",
      "Epoch 100/100\n",
      "40/40 [==============================] - 1s 22ms/step - loss: 13.8780 - val_loss: 13.7718\n"
     ]
    },
    {
     "data": {
      "text/plain": [
       "<tensorflow.python.keras.callbacks.History at 0x7fdaec203280>"
      ]
     },
     "execution_count": 24,
     "metadata": {},
     "output_type": "execute_result"
    }
   ],
   "source": [
    "autoencoder.compile(optimizer='adam', loss='categorical_crossentropy')\n",
    "autoencoder.fit(train_vecs, train_vecs,\n",
    "                epochs=100,\n",
    "                batch_size=256,\n",
    "                shuffle=True,\n",
    "                validation_data=(test_vecs, test_vecs))"
   ]
  },
  {
   "cell_type": "markdown",
   "metadata": {},
   "source": [
    "Evaluation"
   ]
  },
  {
   "cell_type": "code",
   "execution_count": 25,
   "metadata": {
    "scrolled": true
   },
   "outputs": [
    {
     "name": "stdout",
     "output_type": "stream",
     "text": [
      "['AN45FVI', 'LE23DCR', 'HA99JWO', 'EQ58XKI', 'RP49FNK', 'DJ61XIM', 'WO62NON', 'EA42JCE', 'DV47KTZ', 'HM70DFU']\n",
      "['AN45FVI', 'LE23DCR', 'HA99JWO', 'EM58XKI', 'RP49FNK', 'DJ61XIM', 'WO62NON', 'EA42JCE', 'DV47KTZ', 'HM70DFU']\n",
      "accuracy = 0.993\n"
     ]
    }
   ],
   "source": [
    "encoded_regs = encoder.predict(test_vecs)\n",
    "decoded_regs = decoder.predict(encoded_regs)\n",
    "print(test_strs[:10])\n",
    "print([v.recover(x) for x in decoded_regs[:10]])\n",
    "acc = np.sum([v.recover(x) == y for x, y in zip(decoded_regs, test_strs)]) / len(test_strs)\n",
    "print('accuracy = ' + str(acc))"
   ]
  }
 ],
 "metadata": {
  "kernelspec": {
   "display_name": "Python 3",
   "language": "python",
   "name": "python3"
  },
  "language_info": {
   "codemirror_mode": {
    "name": "ipython",
    "version": 3
   },
   "file_extension": ".py",
   "mimetype": "text/x-python",
   "name": "python",
   "nbconvert_exporter": "python",
   "pygments_lexer": "ipython3",
   "version": "3.8.6"
  }
 },
 "nbformat": 4,
 "nbformat_minor": 4
}
