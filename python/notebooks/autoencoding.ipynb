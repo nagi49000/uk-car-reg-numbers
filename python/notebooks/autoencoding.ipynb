{
 "cells": [
  {
   "cell_type": "markdown",
   "metadata": {},
   "source": [
    "# Building a simple autoencoder\n",
    "\n",
    "Based on the ability to generate UK car registration numbers, one can build a dataset of training and test data. With a suitable vectorizer, one can go ahead and make an autoencoder.\n",
    "\n",
    "### References\n",
    "\n",
    "https://blog.keras.io/building-autoencoders-in-keras.html"
   ]
  },
  {
   "cell_type": "code",
   "execution_count": 1,
   "metadata": {
    "scrolled": true
   },
   "outputs": [],
   "source": [
    "import sys\n",
    "import numpy as np\n",
    "import keras\n",
    "from keras import regularizers\n",
    "from keras import layers\n",
    "from keras import optimizers\n",
    "import random\n",
    "\n",
    "if '..' not in sys.path:\n",
    "    sys.path.append('..')\n",
    "from car_reg_generator.car_reg_generator.uk_reg import UkRegGenerator\n",
    "from car_reg_generator.car_reg_generator.uk_reg import UkRegDvlaVectorizer"
   ]
  },
  {
   "cell_type": "markdown",
   "metadata": {},
   "source": [
    "### Data generation"
   ]
  },
  {
   "cell_type": "code",
   "execution_count": 2,
   "metadata": {},
   "outputs": [
    {
     "name": "stdout",
     "output_type": "stream",
     "text": [
      "input vector length = 150\n",
      "actual number of validation samples = 1000\n",
      "actual number of test samples = 1000\n"
     ]
    }
   ],
   "source": [
    "n_train = 10000\n",
    "n_val = 1000\n",
    "n_test = 1000\n",
    "\n",
    "random.seed(0)\n",
    "g = UkRegGenerator()\n",
    "v = UkRegDvlaVectorizer()\n",
    "\n",
    "train_strs = [g.get_reg() for _ in range(n_train)]\n",
    "train_vecs = np.array([v.vectorize(x) for x in train_strs])\n",
    "val_strs = [g.get_reg() for _ in range(n_val)]\n",
    "val_strs = [x for x in val_strs if x not in set(train_strs)]  # sanity check\n",
    "val_vecs = np.array([v.vectorize(x) for x in val_strs])\n",
    "test_strs = [g.get_reg() for _ in range(n_test)]\n",
    "test_strs = [x for x in test_strs if x not in set(train_strs) | set(val_strs)]  # sanity check\n",
    "test_vecs = np.array([v.vectorize(x) for x in test_strs])\n",
    "\n",
    "vec_length = len(train_vecs[0])\n",
    "print('input vector length = ' + str(vec_length))\n",
    "print('actual number of validation samples = ' + str(len(val_strs)))\n",
    "print('actual number of test samples = ' + str(len(test_strs)))"
   ]
  },
  {
   "cell_type": "markdown",
   "metadata": {},
   "source": [
    "### Standard autoencoder\n",
    "\n",
    "Design the network. A single dense layer for the encoder and decoder needs an encoding dimension of around 100. Having more layers allows a smaller encoding dimension, although convergence during learning starts to become unstable."
   ]
  },
  {
   "cell_type": "code",
   "execution_count": 3,
   "metadata": {},
   "outputs": [],
   "source": [
    "encoding_dim = 16\n",
    "input_reg = keras.Input(shape=(vec_length,))\n",
    "encoded = layers.Dense(vec_length, activation='relu')(input_reg)\n",
    "encoded = layers.Dense(70, activation='relu')(encoded)\n",
    "encoded = layers.Dense(30, activation='relu')(encoded)\n",
    "encoded = layers.Dense(encoding_dim, activation='relu')(encoded)\n",
    "encoder = keras.Model(input_reg, encoded)\n",
    "\n",
    "encoded_input = keras.Input(shape=(encoding_dim,))\n",
    "decoded = encoded_input\n",
    "decoded = layers.Dense(30, activation='relu')(decoded)\n",
    "decoded = layers.Dense(70, activation='relu')(decoded)\n",
    "decoded = layers.Dense(vec_length, activation='sigmoid')(decoded)\n",
    "decoder = keras.Model(encoded_input, decoded)\n",
    "\n",
    "autoencoder = keras.Model(input_reg, decoder(encoder(input_reg)))"
   ]
  },
  {
   "cell_type": "markdown",
   "metadata": {},
   "source": [
    "Do some learning. For shallow networks, almost any optimizer and loss work. For deeper networks, poor choices almost certainly yield failed convergence on the loss function. Even good choices yield convergence on the loss function only on some runs."
   ]
  },
  {
   "cell_type": "code",
   "execution_count": 4,
   "metadata": {
    "scrolled": true
   },
   "outputs": [
    {
     "name": "stdout",
     "output_type": "stream",
     "text": [
      "Epoch 1/100\n",
      "1250/1250 [==============================] - 1s 800us/step - loss: 0.1820 - val_loss: 0.1654\n",
      "Epoch 2/100\n",
      "1250/1250 [==============================] - 1s 739us/step - loss: 0.1537 - val_loss: 0.1478\n",
      "Epoch 3/100\n",
      "1250/1250 [==============================] - 1s 735us/step - loss: 0.1415 - val_loss: 0.1369\n",
      "Epoch 4/100\n",
      "1250/1250 [==============================] - 1s 749us/step - loss: 0.1305 - val_loss: 0.1312\n",
      "Epoch 5/100\n",
      "1250/1250 [==============================] - 1s 750us/step - loss: 0.1251 - val_loss: 0.1271\n",
      "Epoch 6/100\n",
      "1250/1250 [==============================] - 1s 751us/step - loss: 0.1210 - val_loss: 0.1225\n",
      "Epoch 7/100\n",
      "1250/1250 [==============================] - 1s 739us/step - loss: 0.1159 - val_loss: 0.1186\n",
      "Epoch 8/100\n",
      "1250/1250 [==============================] - 1s 751us/step - loss: 0.1126 - val_loss: 0.1162\n",
      "Epoch 9/100\n",
      "1250/1250 [==============================] - 1s 753us/step - loss: 0.1098 - val_loss: 0.1144\n",
      "Epoch 10/100\n",
      "1250/1250 [==============================] - 1s 744us/step - loss: 0.1071 - val_loss: 0.1109\n",
      "Epoch 11/100\n",
      "1250/1250 [==============================] - 1s 763us/step - loss: 0.1037 - val_loss: 0.1072\n",
      "Epoch 12/100\n",
      "1250/1250 [==============================] - 1s 746us/step - loss: 0.0998 - val_loss: 0.1053\n",
      "Epoch 13/100\n",
      "1250/1250 [==============================] - 1s 784us/step - loss: 0.0969 - val_loss: 0.1031\n",
      "Epoch 14/100\n",
      "1250/1250 [==============================] - 1s 785us/step - loss: 0.0945 - val_loss: 0.1007\n",
      "Epoch 15/100\n",
      "1250/1250 [==============================] - 1s 804us/step - loss: 0.0925 - val_loss: 0.0992\n",
      "Epoch 16/100\n",
      "1250/1250 [==============================] - 1s 835us/step - loss: 0.0907 - val_loss: 0.0981\n",
      "Epoch 17/100\n",
      "1250/1250 [==============================] - 1s 816us/step - loss: 0.0889 - val_loss: 0.0953\n",
      "Epoch 18/100\n",
      "1250/1250 [==============================] - 1s 731us/step - loss: 0.0874 - val_loss: 0.0941\n",
      "Epoch 19/100\n",
      "1250/1250 [==============================] - 1s 750us/step - loss: 0.0859 - val_loss: 0.0922\n",
      "Epoch 20/100\n",
      "1250/1250 [==============================] - 1s 709us/step - loss: 0.0843 - val_loss: 0.0919\n",
      "Epoch 21/100\n",
      "1250/1250 [==============================] - 1s 685us/step - loss: 0.0828 - val_loss: 0.0905\n",
      "Epoch 22/100\n",
      "1250/1250 [==============================] - 1s 712us/step - loss: 0.0811 - val_loss: 0.0884\n",
      "Epoch 23/100\n",
      "1250/1250 [==============================] - 1s 686us/step - loss: 0.0797 - val_loss: 0.0874\n",
      "Epoch 24/100\n",
      "1250/1250 [==============================] - 1s 778us/step - loss: 0.0781 - val_loss: 0.0875\n",
      "Epoch 25/100\n",
      "1250/1250 [==============================] - 1s 776us/step - loss: 0.0766 - val_loss: 0.0856\n",
      "Epoch 26/100\n",
      "1250/1250 [==============================] - 1s 707us/step - loss: 0.0752 - val_loss: 0.0829\n",
      "Epoch 27/100\n",
      "1250/1250 [==============================] - 1s 759us/step - loss: 0.0740 - val_loss: 0.0821\n",
      "Epoch 28/100\n",
      "1250/1250 [==============================] - 1s 812us/step - loss: 0.0726 - val_loss: 0.0811\n",
      "Epoch 29/100\n",
      "1250/1250 [==============================] - 1s 713us/step - loss: 0.0713 - val_loss: 0.0800\n",
      "Epoch 30/100\n",
      "1250/1250 [==============================] - 1s 742us/step - loss: 0.0699 - val_loss: 0.0789\n",
      "Epoch 31/100\n",
      "1250/1250 [==============================] - 1s 698us/step - loss: 0.0688 - val_loss: 0.0772\n",
      "Epoch 32/100\n",
      "1250/1250 [==============================] - 1s 702us/step - loss: 0.0674 - val_loss: 0.0759\n",
      "Epoch 33/100\n",
      "1250/1250 [==============================] - 1s 714us/step - loss: 0.0661 - val_loss: 0.0758\n",
      "Epoch 34/100\n",
      "1250/1250 [==============================] - 1s 711us/step - loss: 0.0647 - val_loss: 0.0722\n",
      "Epoch 35/100\n",
      "1250/1250 [==============================] - 1s 695us/step - loss: 0.0634 - val_loss: 0.0724\n",
      "Epoch 36/100\n",
      "1250/1250 [==============================] - 1s 748us/step - loss: 0.0619 - val_loss: 0.0695\n",
      "Epoch 37/100\n",
      "1250/1250 [==============================] - 1s 732us/step - loss: 0.0602 - val_loss: 0.0691\n",
      "Epoch 38/100\n",
      "1250/1250 [==============================] - 1s 726us/step - loss: 0.0584 - val_loss: 0.0661\n",
      "Epoch 39/100\n",
      "1250/1250 [==============================] - 1s 760us/step - loss: 0.0569 - val_loss: 0.0652\n",
      "Epoch 40/100\n",
      "1250/1250 [==============================] - 1s 736us/step - loss: 0.0550 - val_loss: 0.0634\n",
      "Epoch 41/100\n",
      "1250/1250 [==============================] - 1s 732us/step - loss: 0.0531 - val_loss: 0.0614\n",
      "Epoch 42/100\n",
      "1250/1250 [==============================] - 1s 734us/step - loss: 0.0511 - val_loss: 0.0573\n",
      "Epoch 43/100\n",
      "1250/1250 [==============================] - 1s 713us/step - loss: 0.0493 - val_loss: 0.0571\n",
      "Epoch 44/100\n",
      "1250/1250 [==============================] - 1s 723us/step - loss: 0.0476 - val_loss: 0.0537\n",
      "Epoch 45/100\n",
      "1250/1250 [==============================] - 1s 760us/step - loss: 0.0457 - val_loss: 0.0527\n",
      "Epoch 46/100\n",
      "1250/1250 [==============================] - 1s 712us/step - loss: 0.0444 - val_loss: 0.0503\n",
      "Epoch 47/100\n",
      "1250/1250 [==============================] - 1s 760us/step - loss: 0.0431 - val_loss: 0.0518\n",
      "Epoch 48/100\n",
      "1250/1250 [==============================] - 1s 697us/step - loss: 0.0415 - val_loss: 0.0472\n",
      "Epoch 49/100\n",
      "1250/1250 [==============================] - 1s 729us/step - loss: 0.0402 - val_loss: 0.0489\n",
      "Epoch 50/100\n",
      "1250/1250 [==============================] - 1s 714us/step - loss: 0.0390 - val_loss: 0.0466\n",
      "Epoch 51/100\n",
      "1250/1250 [==============================] - 1s 732us/step - loss: 0.0380 - val_loss: 0.0463\n",
      "Epoch 52/100\n",
      "1250/1250 [==============================] - 1s 721us/step - loss: 0.0369 - val_loss: 0.0453\n",
      "Epoch 53/100\n",
      "1250/1250 [==============================] - 1s 747us/step - loss: 0.0360 - val_loss: 0.0435\n",
      "Epoch 54/100\n",
      "1250/1250 [==============================] - 1s 721us/step - loss: 0.0352 - val_loss: 0.0428\n",
      "Epoch 55/100\n",
      "1250/1250 [==============================] - 1s 774us/step - loss: 0.0343 - val_loss: 0.0419\n",
      "Epoch 56/100\n",
      "1250/1250 [==============================] - 1s 728us/step - loss: 0.0336 - val_loss: 0.0396\n",
      "Epoch 57/100\n",
      "1250/1250 [==============================] - 1s 722us/step - loss: 0.0327 - val_loss: 0.0406\n",
      "Epoch 58/100\n",
      "1250/1250 [==============================] - 1s 688us/step - loss: 0.0319 - val_loss: 0.0385\n",
      "Epoch 59/100\n",
      "1250/1250 [==============================] - 1s 685us/step - loss: 0.0310 - val_loss: 0.0379\n",
      "Epoch 60/100\n",
      "1250/1250 [==============================] - 1s 728us/step - loss: 0.0305 - val_loss: 0.0394\n",
      "Epoch 61/100\n",
      "1250/1250 [==============================] - 1s 731us/step - loss: 0.0296 - val_loss: 0.0391\n",
      "Epoch 62/100\n",
      "1250/1250 [==============================] - 1s 731us/step - loss: 0.0285 - val_loss: 0.0369\n",
      "Epoch 63/100\n",
      "1250/1250 [==============================] - 1s 700us/step - loss: 0.0280 - val_loss: 0.0332\n",
      "Epoch 64/100\n",
      "1250/1250 [==============================] - 1s 722us/step - loss: 0.0272 - val_loss: 0.0316\n",
      "Epoch 65/100\n",
      "1250/1250 [==============================] - 1s 744us/step - loss: 0.0262 - val_loss: 0.0319\n",
      "Epoch 66/100\n",
      "1250/1250 [==============================] - 1s 707us/step - loss: 0.0250 - val_loss: 0.0312\n",
      "Epoch 67/100\n",
      "1250/1250 [==============================] - 1s 715us/step - loss: 0.0243 - val_loss: 0.0335\n",
      "Epoch 68/100\n",
      "1250/1250 [==============================] - 1s 770us/step - loss: 0.0234 - val_loss: 0.0307\n",
      "Epoch 69/100\n",
      "1250/1250 [==============================] - 1s 715us/step - loss: 0.0224 - val_loss: 0.0278\n",
      "Epoch 70/100\n",
      "1250/1250 [==============================] - 1s 775us/step - loss: 0.0213 - val_loss: 0.0307\n",
      "Epoch 71/100\n",
      "1250/1250 [==============================] - 1s 929us/step - loss: 0.0204 - val_loss: 0.0248\n",
      "Epoch 72/100\n",
      "1250/1250 [==============================] - 1s 741us/step - loss: 0.0190 - val_loss: 0.0232\n",
      "Epoch 73/100\n",
      "1250/1250 [==============================] - 1s 725us/step - loss: 0.0182 - val_loss: 0.0251\n",
      "Epoch 74/100\n",
      "1250/1250 [==============================] - 1s 703us/step - loss: 0.0169 - val_loss: 0.0202\n",
      "Epoch 75/100\n",
      "1250/1250 [==============================] - 1s 866us/step - loss: 0.0157 - val_loss: 0.0209\n",
      "Epoch 76/100\n",
      "1250/1250 [==============================] - 1s 813us/step - loss: 0.0146 - val_loss: 0.0189\n",
      "Epoch 77/100\n",
      "1250/1250 [==============================] - 1s 768us/step - loss: 0.0142 - val_loss: 0.0192\n",
      "Epoch 78/100\n"
     ]
    },
    {
     "name": "stdout",
     "output_type": "stream",
     "text": [
      "1250/1250 [==============================] - 1s 757us/step - loss: 0.0132 - val_loss: 0.0192\n",
      "Epoch 79/100\n",
      "1250/1250 [==============================] - 1s 721us/step - loss: 0.0125 - val_loss: 0.0182\n",
      "Epoch 80/100\n",
      "1250/1250 [==============================] - 1s 736us/step - loss: 0.0115 - val_loss: 0.0151\n",
      "Epoch 81/100\n",
      "1250/1250 [==============================] - 1s 756us/step - loss: 0.0114 - val_loss: 0.0146\n",
      "Epoch 82/100\n",
      "1250/1250 [==============================] - 1s 760us/step - loss: 0.0104 - val_loss: 0.0144\n",
      "Epoch 83/100\n",
      "1250/1250 [==============================] - 1s 742us/step - loss: 0.0104 - val_loss: 0.0160\n",
      "Epoch 84/100\n",
      "1250/1250 [==============================] - 1s 784us/step - loss: 0.0095 - val_loss: 0.0154\n",
      "Epoch 85/100\n",
      "1250/1250 [==============================] - 1s 778us/step - loss: 0.0094 - val_loss: 0.0122\n",
      "Epoch 86/100\n",
      "1250/1250 [==============================] - 1s 686us/step - loss: 0.0087 - val_loss: 0.0138\n",
      "Epoch 87/100\n",
      "1250/1250 [==============================] - 1s 730us/step - loss: 0.0084 - val_loss: 0.0188\n",
      "Epoch 88/100\n",
      "1250/1250 [==============================] - 1s 775us/step - loss: 0.0079 - val_loss: 0.0107\n",
      "Epoch 89/100\n",
      "1250/1250 [==============================] - 1s 688us/step - loss: 0.0080 - val_loss: 0.0177\n",
      "Epoch 90/100\n",
      "1250/1250 [==============================] - 1s 688us/step - loss: 0.0069 - val_loss: 0.0103\n",
      "Epoch 91/100\n",
      "1250/1250 [==============================] - 1s 688us/step - loss: 0.0071 - val_loss: 0.0100\n",
      "Epoch 92/100\n",
      "1250/1250 [==============================] - 1s 864us/step - loss: 0.0070 - val_loss: 0.0113\n",
      "Epoch 93/100\n",
      "1250/1250 [==============================] - 1s 711us/step - loss: 0.0062 - val_loss: 0.0100\n",
      "Epoch 94/100\n",
      "1250/1250 [==============================] - 1s 745us/step - loss: 0.0057 - val_loss: 0.0076\n",
      "Epoch 95/100\n",
      "1250/1250 [==============================] - 1s 847us/step - loss: 0.0053 - val_loss: 0.0198\n",
      "Epoch 96/100\n",
      "1250/1250 [==============================] - 1s 757us/step - loss: 0.0055 - val_loss: 0.0153\n",
      "Epoch 97/100\n",
      "1250/1250 [==============================] - 1s 804us/step - loss: 0.0056 - val_loss: 0.0098\n",
      "Epoch 98/100\n",
      "1250/1250 [==============================] - 1s 797us/step - loss: 0.0055 - val_loss: 0.0146\n",
      "Epoch 99/100\n",
      "1250/1250 [==============================] - 1s 692us/step - loss: 0.0047 - val_loss: 0.0100\n",
      "Epoch 100/100\n",
      "1250/1250 [==============================] - 1s 784us/step - loss: 0.0048 - val_loss: 0.0086\n"
     ]
    },
    {
     "data": {
      "text/plain": [
       "<tensorflow.python.keras.callbacks.History at 0x7f8d7c1dc550>"
      ]
     },
     "execution_count": 4,
     "metadata": {},
     "output_type": "execute_result"
    }
   ],
   "source": [
    "opt = optimizers.Adamax(learning_rate=0.003)\n",
    "autoencoder.compile(optimizer=opt, loss='binary_crossentropy')\n",
    "autoencoder.fit(train_vecs, train_vecs,\n",
    "                epochs=100,\n",
    "                batch_size=8,\n",
    "                shuffle=True,\n",
    "                validation_data=(val_vecs, val_vecs))"
   ]
  },
  {
   "cell_type": "markdown",
   "metadata": {},
   "source": [
    "Evaluation"
   ]
  },
  {
   "cell_type": "code",
   "execution_count": 5,
   "metadata": {
    "scrolled": true
   },
   "outputs": [
    {
     "name": "stdout",
     "output_type": "stream",
     "text": [
      "['MY33WSZ', 'WE83GXF', 'LU19JLV', 'KX41GVE', 'WP91NCV', 'SG47LFF', 'HB17WIY', 'CA89AXN', 'GT57AKA', 'CD77SJT']\n",
      "['MY33WSZ', 'WE83GXF', 'LU19JLV', 'KX41GVE', 'WP91NCV', 'SG47LFF', 'HB17WIY', 'CA89AXN', 'GT57AKA', 'CD77SJT']\n",
      "overall accuracy = 0.95\n",
      "by digit accuracy:\n",
      "    0.996\n",
      "    0.998\n",
      "    1.0\n",
      "    0.995\n",
      "    0.979\n",
      "    0.995\n",
      "    0.986\n"
     ]
    }
   ],
   "source": [
    "decoded_regs = autoencoder.predict(test_vecs)\n",
    "print(test_strs[:10])\n",
    "recovered = [v.recover(x) for x in decoded_regs]\n",
    "print(recovered[:10])\n",
    "acc = np.sum([x == y for x, y in zip(recovered, test_strs)]) / len(test_strs)\n",
    "print('overall accuracy = ' + str(acc))\n",
    "print('by digit accuracy:')\n",
    "for i_digit in range(len(test_strs[0])):\n",
    "    acc = np.sum([x[i_digit] == y[i_digit] for x, y in zip(recovered, test_strs)]) / len(test_strs)\n",
    "    print('    ' + str(acc))"
   ]
  }
 ],
 "metadata": {
  "kernelspec": {
   "display_name": "Python 3",
   "language": "python",
   "name": "python3"
  },
  "language_info": {
   "codemirror_mode": {
    "name": "ipython",
    "version": 3
   },
   "file_extension": ".py",
   "mimetype": "text/x-python",
   "name": "python",
   "nbconvert_exporter": "python",
   "pygments_lexer": "ipython3",
   "version": "3.7.9"
  }
 },
 "nbformat": 4,
 "nbformat_minor": 4
}
