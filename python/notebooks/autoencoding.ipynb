{
 "cells": [
  {
   "cell_type": "code",
   "execution_count": 1,
   "metadata": {
    "scrolled": true
   },
   "outputs": [],
   "source": [
    "import sys\n",
    "import keras\n",
    "import numpy as np\n",
    "from keras import layers\n",
    "import random\n",
    "\n",
    "if '..' not in sys.path:\n",
    "    sys.path.append('..')\n",
    "from car_reg_generator.car_reg_generator.uk_reg import UkRegGenerator\n",
    "from car_reg_generator.car_reg_generator.uk_reg import UkRegVectorizer\n",
    "from car_reg_generator.car_reg_generator.uk_reg import UkRegBowVectorizer"
   ]
  },
  {
   "cell_type": "markdown",
   "metadata": {},
   "source": [
    "### Data generation"
   ]
  },
  {
   "cell_type": "code",
   "execution_count": 2,
   "metadata": {},
   "outputs": [
    {
     "name": "stdout",
     "output_type": "stream",
     "text": [
      "252\n"
     ]
    }
   ],
   "source": [
    "n_train = 10000\n",
    "n_test = 1000\n",
    "\n",
    "random.seed(0)\n",
    "g = UkRegGenerator()\n",
    "v = UkRegBowVectorizer()\n",
    "\n",
    "train_strs = [g.get_reg() for _ in range(n_train)]\n",
    "train_vecs = np.array([v.vectorize(x) for x in train_strs])\n",
    "test_strs = [g.get_reg() for _ in range(n_test)]\n",
    "test_vecs = np.array([v.vectorize(x) for x in test_strs])\n",
    "\n",
    "vec_length = len(train_vecs[0])\n",
    "print(vec_length)"
   ]
  },
  {
   "cell_type": "markdown",
   "metadata": {},
   "source": [
    "### Standard autoencoder\n",
    "\n",
    "Design the network"
   ]
  },
  {
   "cell_type": "code",
   "execution_count": 23,
   "metadata": {},
   "outputs": [],
   "source": [
    "encoding_dim = 100\n",
    "input_reg = keras.Input(shape=(vec_length,))\n",
    "encoded = layers.Dense(encoding_dim, activation='relu')(input_reg)\n",
    "decoded = layers.Dense(vec_length, activation='sigmoid')(encoded)\n",
    "\n",
    "autoencoder = keras.Model(input_reg, decoded)\n",
    "encoder = keras.Model(input_reg, encoded)\n",
    "encoded_input = keras.Input(shape=(encoding_dim,))\n",
    "decoder_layer = autoencoder.layers[-1]\n",
    "decoder = keras.Model(encoded_input, decoder_layer(encoded_input))"
   ]
  },
  {
   "cell_type": "markdown",
   "metadata": {},
   "source": [
    "Do some learning"
   ]
  },
  {
   "cell_type": "code",
   "execution_count": 24,
   "metadata": {},
   "outputs": [
    {
     "name": "stdout",
     "output_type": "stream",
     "text": [
      "Epoch 1/50\n",
      "40/40 [==============================] - 1s 16ms/step - loss: 0.5471 - val_loss: 0.2914\n",
      "Epoch 2/50\n",
      "40/40 [==============================] - 0s 11ms/step - loss: 0.1644 - val_loss: 0.1191\n",
      "Epoch 3/50\n",
      "40/40 [==============================] - 0s 12ms/step - loss: 0.1144 - val_loss: 0.1109\n",
      "Epoch 4/50\n",
      "40/40 [==============================] - 0s 12ms/step - loss: 0.1088 - val_loss: 0.1069\n",
      "Epoch 5/50\n",
      "40/40 [==============================] - 0s 11ms/step - loss: 0.1053 - val_loss: 0.1037\n",
      "Epoch 6/50\n",
      "40/40 [==============================] - 0s 12ms/step - loss: 0.1021 - val_loss: 0.1007\n",
      "Epoch 7/50\n",
      "40/40 [==============================] - 0s 12ms/step - loss: 0.0990 - val_loss: 0.0975\n",
      "Epoch 8/50\n",
      "40/40 [==============================] - 0s 12ms/step - loss: 0.0956 - val_loss: 0.0940\n",
      "Epoch 9/50\n",
      "40/40 [==============================] - 1s 15ms/step - loss: 0.0920 - val_loss: 0.0903\n",
      "Epoch 10/50\n",
      "40/40 [==============================] - 1s 15ms/step - loss: 0.0880 - val_loss: 0.0862\n",
      "Epoch 11/50\n",
      "40/40 [==============================] - 1s 15ms/step - loss: 0.0837 - val_loss: 0.0818\n",
      "Epoch 12/50\n",
      "40/40 [==============================] - 1s 13ms/step - loss: 0.0792 - val_loss: 0.0773\n",
      "Epoch 13/50\n",
      "40/40 [==============================] - 1s 14ms/step - loss: 0.0745 - val_loss: 0.0726\n",
      "Epoch 14/50\n",
      "40/40 [==============================] - 1s 14ms/step - loss: 0.0696 - val_loss: 0.0678\n",
      "Epoch 15/50\n",
      "40/40 [==============================] - 1s 14ms/step - loss: 0.0647 - val_loss: 0.0630\n",
      "Epoch 16/50\n",
      "40/40 [==============================] - 1s 14ms/step - loss: 0.0599 - val_loss: 0.0583\n",
      "Epoch 17/50\n",
      "40/40 [==============================] - 1s 14ms/step - loss: 0.0551 - val_loss: 0.0537\n",
      "Epoch 18/50\n",
      "40/40 [==============================] - 0s 12ms/step - loss: 0.0505 - val_loss: 0.0492\n",
      "Epoch 19/50\n",
      "40/40 [==============================] - 1s 14ms/step - loss: 0.0460 - val_loss: 0.0450\n",
      "Epoch 20/50\n",
      "40/40 [==============================] - 1s 15ms/step - loss: 0.0418 - val_loss: 0.0410\n",
      "Epoch 21/50\n",
      "40/40 [==============================] - 1s 14ms/step - loss: 0.0379 - val_loss: 0.0373\n",
      "Epoch 22/50\n",
      "40/40 [==============================] - 1s 13ms/step - loss: 0.0343 - val_loss: 0.0338\n",
      "Epoch 23/50\n",
      "40/40 [==============================] - 1s 15ms/step - loss: 0.0309 - val_loss: 0.0307\n",
      "Epoch 24/50\n",
      "40/40 [==============================] - 1s 16ms/step - loss: 0.0279 - val_loss: 0.0278\n",
      "Epoch 25/50\n",
      "40/40 [==============================] - 1s 15ms/step - loss: 0.0252 - val_loss: 0.0253\n",
      "Epoch 26/50\n",
      "40/40 [==============================] - 0s 12ms/step - loss: 0.0228 - val_loss: 0.0230\n",
      "Epoch 27/50\n",
      "40/40 [==============================] - 0s 11ms/step - loss: 0.0206 - val_loss: 0.0209\n",
      "Epoch 28/50\n",
      "40/40 [==============================] - 0s 11ms/step - loss: 0.0187 - val_loss: 0.0191\n",
      "Epoch 29/50\n",
      "40/40 [==============================] - 1s 16ms/step - loss: 0.0170 - val_loss: 0.0175\n",
      "Epoch 30/50\n",
      "40/40 [==============================] - 1s 14ms/step - loss: 0.0155 - val_loss: 0.0160\n",
      "Epoch 31/50\n",
      "40/40 [==============================] - 1s 15ms/step - loss: 0.0141 - val_loss: 0.0147\n",
      "Epoch 32/50\n",
      "40/40 [==============================] - 1s 14ms/step - loss: 0.0129 - val_loss: 0.0136\n",
      "Epoch 33/50\n",
      "40/40 [==============================] - 1s 17ms/step - loss: 0.0118 - val_loss: 0.0125\n",
      "Epoch 34/50\n",
      "40/40 [==============================] - 0s 11ms/step - loss: 0.0108 - val_loss: 0.0116\n",
      "Epoch 35/50\n",
      "40/40 [==============================] - 0s 12ms/step - loss: 0.0100 - val_loss: 0.0107\n",
      "Epoch 36/50\n",
      "40/40 [==============================] - 1s 13ms/step - loss: 0.0092 - val_loss: 0.0100\n",
      "Epoch 37/50\n",
      "40/40 [==============================] - 1s 15ms/step - loss: 0.0085 - val_loss: 0.0093\n",
      "Epoch 38/50\n",
      "40/40 [==============================] - 1s 14ms/step - loss: 0.0079 - val_loss: 0.0087\n",
      "Epoch 39/50\n",
      "40/40 [==============================] - 0s 12ms/step - loss: 0.0073 - val_loss: 0.0081\n",
      "Epoch 40/50\n",
      "40/40 [==============================] - 1s 15ms/step - loss: 0.0068 - val_loss: 0.0076\n",
      "Epoch 41/50\n",
      "40/40 [==============================] - 0s 12ms/step - loss: 0.0063 - val_loss: 0.0071\n",
      "Epoch 42/50\n",
      "40/40 [==============================] - 0s 10ms/step - loss: 0.0059 - val_loss: 0.0067\n",
      "Epoch 43/50\n",
      "40/40 [==============================] - 1s 15ms/step - loss: 0.0055 - val_loss: 0.0063\n",
      "Epoch 44/50\n",
      "40/40 [==============================] - 1s 14ms/step - loss: 0.0052 - val_loss: 0.0060\n",
      "Epoch 45/50\n",
      "40/40 [==============================] - 1s 13ms/step - loss: 0.0048 - val_loss: 0.0056\n",
      "Epoch 46/50\n",
      "40/40 [==============================] - 1s 15ms/step - loss: 0.0045 - val_loss: 0.0053\n",
      "Epoch 47/50\n",
      "40/40 [==============================] - 0s 12ms/step - loss: 0.0043 - val_loss: 0.0050\n",
      "Epoch 48/50\n",
      "40/40 [==============================] - 1s 15ms/step - loss: 0.0040 - val_loss: 0.0048\n",
      "Epoch 49/50\n",
      "40/40 [==============================] - 1s 14ms/step - loss: 0.0038 - val_loss: 0.0045\n",
      "Epoch 50/50\n",
      "40/40 [==============================] - 1s 16ms/step - loss: 0.0036 - val_loss: 0.0043\n"
     ]
    },
    {
     "data": {
      "text/plain": [
       "<tensorflow.python.keras.callbacks.History at 0x7fb32047baf0>"
      ]
     },
     "execution_count": 24,
     "metadata": {},
     "output_type": "execute_result"
    }
   ],
   "source": [
    "autoencoder.compile(optimizer='adam', loss='binary_crossentropy')\n",
    "autoencoder.fit(train_vecs, train_vecs,\n",
    "                epochs=50,\n",
    "                batch_size=256,\n",
    "                shuffle=True,\n",
    "                validation_data=(test_vecs, test_vecs))"
   ]
  },
  {
   "cell_type": "code",
   "execution_count": 25,
   "metadata": {},
   "outputs": [
    {
     "name": "stdout",
     "output_type": "stream",
     "text": [
      "['AN45FVI', 'LE23DCR', 'HA99JWO', 'EQ58XKI', 'RP49FNK', 'DJ61XIM', 'WO62NON', 'EA42JCE', 'DV47KTZ', 'HM70DFU']\n"
     ]
    }
   ],
   "source": [
    "encoded_regs = encoder.predict(test_vecs[:10])\n",
    "decoded_regs = decoder.predict(encoded_regs)\n",
    "print([v.recover(x) for x in test_vecs[:10]])"
   ]
  },
  {
   "cell_type": "code",
   "execution_count": 26,
   "metadata": {
    "scrolled": true
   },
   "outputs": [
    {
     "name": "stdout",
     "output_type": "stream",
     "text": [
      "['AN45FVI', 'LE23DCR', 'HA99JWO', 'EQ58XKI', 'RP49FNK', 'DJ61XIM', 'WO62NON', 'EA42JCE', 'DV47KTZ', 'HM70DFU']\n"
     ]
    }
   ],
   "source": [
    "print([v.recover(x) for x in decoded_regs])"
   ]
  }
 ],
 "metadata": {
  "kernelspec": {
   "display_name": "Python 3",
   "language": "python",
   "name": "python3"
  },
  "language_info": {
   "codemirror_mode": {
    "name": "ipython",
    "version": 3
   },
   "file_extension": ".py",
   "mimetype": "text/x-python",
   "name": "python",
   "nbconvert_exporter": "python",
   "pygments_lexer": "ipython3",
   "version": "3.8.6"
  }
 },
 "nbformat": 4,
 "nbformat_minor": 4
}
