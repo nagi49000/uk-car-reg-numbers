{
 "cells": [
  {
   "cell_type": "code",
   "execution_count": 1,
   "metadata": {
    "scrolled": true
   },
   "outputs": [],
   "source": [
    "import sys\n",
    "import numpy as np\n",
    "import keras\n",
    "from keras import regularizers\n",
    "from keras import layers\n",
    "import random\n",
    "\n",
    "if '..' not in sys.path:\n",
    "    sys.path.append('..')\n",
    "from car_reg_generator.car_reg_generator.uk_reg import UkRegGenerator\n",
    "from car_reg_generator.car_reg_generator.uk_reg import UkRegBowVectorizer"
   ]
  },
  {
   "cell_type": "markdown",
   "metadata": {},
   "source": [
    "### Data generation"
   ]
  },
  {
   "cell_type": "code",
   "execution_count": 2,
   "metadata": {},
   "outputs": [
    {
     "name": "stdout",
     "output_type": "stream",
     "text": [
      "252\n"
     ]
    }
   ],
   "source": [
    "n_train = 10000\n",
    "n_test = 1000\n",
    "\n",
    "random.seed(0)\n",
    "g = UkRegGenerator()\n",
    "v = UkRegBowVectorizer()\n",
    "\n",
    "train_strs = [g.get_reg() for _ in range(n_train)]\n",
    "train_vecs = np.array([v.vectorize(x) for x in train_strs])\n",
    "test_strs = [g.get_reg() for _ in range(n_test)]\n",
    "test_vecs = np.array([v.vectorize(x) for x in test_strs])\n",
    "\n",
    "vec_length = len(train_vecs[0])\n",
    "print(vec_length)"
   ]
  },
  {
   "cell_type": "markdown",
   "metadata": {},
   "source": [
    "### Standard autoencoder\n",
    "\n",
    "Design the network"
   ]
  },
  {
   "cell_type": "code",
   "execution_count": 3,
   "metadata": {},
   "outputs": [],
   "source": [
    "encoding_dim = 50\n",
    "input_reg = keras.Input(shape=(vec_length,))\n",
    "# encoded = layers.Dense(encoding_dim, activation='relu', activity_regularizer=regularizers.l1(10e-5))(input_reg)\n",
    "encoded = layers.Dense(vec_length, activation='relu')(input_reg)\n",
    "encoded = layers.Dense(encoding_dim, activation='relu')(encoded)\n",
    "encoded = layers.Dense(encoding_dim, activation='relu')(encoded)\n",
    "encoder = keras.Model(input_reg, encoded)\n",
    "\n",
    "encoded_input = keras.Input(shape=(encoding_dim,))\n",
    "decoded = layers.Dense(encoding_dim, activation='relu')(encoded_input)\n",
    "decoded = layers.Dense(vec_length, activation='relu')(decoded)\n",
    "decoded = layers.Dense(vec_length, activation='sigmoid')(decoded)\n",
    "decoder = keras.Model(encoded_input, decoded)\n",
    "\n",
    "autoencoder = keras.Model(input_reg, decoder(encoder(input_reg)))"
   ]
  },
  {
   "cell_type": "markdown",
   "metadata": {},
   "source": [
    "Do some learning"
   ]
  },
  {
   "cell_type": "code",
   "execution_count": 4,
   "metadata": {
    "scrolled": true
   },
   "outputs": [
    {
     "name": "stdout",
     "output_type": "stream",
     "text": [
      "Epoch 1/50\n",
      "40/40 [==============================] - 1s 32ms/step - loss: 36.1173 - val_loss: 34.5494\n",
      "Epoch 2/50\n",
      "40/40 [==============================] - 1s 26ms/step - loss: 34.3041 - val_loss: 33.9130\n",
      "Epoch 3/50\n",
      "40/40 [==============================] - 1s 21ms/step - loss: 33.0613 - val_loss: 32.1408\n",
      "Epoch 4/50\n",
      "40/40 [==============================] - 1s 24ms/step - loss: 31.3064 - val_loss: 30.8335\n",
      "Epoch 5/50\n",
      "40/40 [==============================] - 1s 26ms/step - loss: 30.0407 - val_loss: 29.7868\n",
      "Epoch 6/50\n",
      "40/40 [==============================] - 1s 23ms/step - loss: 29.0362 - val_loss: 28.8618\n",
      "Epoch 7/50\n",
      "40/40 [==============================] - 1s 27ms/step - loss: 27.9557 - val_loss: 27.7067\n",
      "Epoch 8/50\n",
      "40/40 [==============================] - 1s 24ms/step - loss: 26.6447 - val_loss: 26.3862\n",
      "Epoch 9/50\n",
      "40/40 [==============================] - 1s 25ms/step - loss: 25.3434 - val_loss: 25.3786\n",
      "Epoch 10/50\n",
      "40/40 [==============================] - 1s 23ms/step - loss: 24.3231 - val_loss: 24.6412\n",
      "Epoch 11/50\n",
      "40/40 [==============================] - 1s 21ms/step - loss: 23.5928 - val_loss: 23.9419\n",
      "Epoch 12/50\n",
      "40/40 [==============================] - 1s 28ms/step - loss: 22.8540 - val_loss: 23.3202\n",
      "Epoch 13/50\n",
      "40/40 [==============================] - 1s 27ms/step - loss: 22.1906 - val_loss: 22.7159\n",
      "Epoch 14/50\n",
      "40/40 [==============================] - 1s 19ms/step - loss: 21.6596 - val_loss: 22.2136\n",
      "Epoch 15/50\n",
      "40/40 [==============================] - 1s 18ms/step - loss: 21.1146 - val_loss: 21.6879\n",
      "Epoch 16/50\n",
      "40/40 [==============================] - 1s 16ms/step - loss: 20.5918 - val_loss: 21.0674\n",
      "Epoch 17/50\n",
      "40/40 [==============================] - 1s 28ms/step - loss: 20.0513 - val_loss: 20.6564\n",
      "Epoch 18/50\n",
      "40/40 [==============================] - 1s 18ms/step - loss: 19.5222 - val_loss: 19.9791\n",
      "Epoch 19/50\n",
      "40/40 [==============================] - 1s 17ms/step - loss: 19.0697 - val_loss: 19.6944\n",
      "Epoch 20/50\n",
      "40/40 [==============================] - 1s 17ms/step - loss: 18.6697 - val_loss: 19.3864\n",
      "Epoch 21/50\n",
      "40/40 [==============================] - 1s 23ms/step - loss: 18.2790 - val_loss: 19.0235\n",
      "Epoch 22/50\n",
      "40/40 [==============================] - 1s 21ms/step - loss: 17.8394 - val_loss: 18.4135\n",
      "Epoch 23/50\n",
      "40/40 [==============================] - 1s 17ms/step - loss: 17.4172 - val_loss: 18.0434\n",
      "Epoch 24/50\n",
      "40/40 [==============================] - 1s 18ms/step - loss: 17.0908 - val_loss: 17.7217\n",
      "Epoch 25/50\n",
      "40/40 [==============================] - 1s 17ms/step - loss: 16.7656 - val_loss: 17.2948\n",
      "Epoch 26/50\n",
      "40/40 [==============================] - 1s 22ms/step - loss: 16.4417 - val_loss: 16.7761\n",
      "Epoch 27/50\n",
      "40/40 [==============================] - 1s 18ms/step - loss: 16.0572 - val_loss: 16.5740\n",
      "Epoch 28/50\n",
      "40/40 [==============================] - 1s 21ms/step - loss: 15.7898 - val_loss: 16.1063\n",
      "Epoch 29/50\n",
      "40/40 [==============================] - 1s 29ms/step - loss: 15.4632 - val_loss: 15.8094\n",
      "Epoch 30/50\n",
      "40/40 [==============================] - 1s 24ms/step - loss: 15.2566 - val_loss: 15.7742\n",
      "Epoch 31/50\n",
      "40/40 [==============================] - 1s 15ms/step - loss: 15.0675 - val_loss: 15.5468\n",
      "Epoch 32/50\n",
      "40/40 [==============================] - 1s 16ms/step - loss: 14.8859 - val_loss: 15.0235\n",
      "Epoch 33/50\n",
      "40/40 [==============================] - 1s 16ms/step - loss: 14.6405 - val_loss: 15.1898\n",
      "Epoch 34/50\n",
      "40/40 [==============================] - 1s 22ms/step - loss: 14.5389 - val_loss: 14.8771\n",
      "Epoch 35/50\n",
      "40/40 [==============================] - 1s 19ms/step - loss: 14.4224 - val_loss: 14.6970\n",
      "Epoch 36/50\n",
      "40/40 [==============================] - 1s 18ms/step - loss: 14.2839 - val_loss: 14.4849\n",
      "Epoch 37/50\n",
      "40/40 [==============================] - 1s 20ms/step - loss: 14.1467 - val_loss: 14.3815\n",
      "Epoch 38/50\n",
      "40/40 [==============================] - 1s 19ms/step - loss: 14.1371 - val_loss: 14.3624\n",
      "Epoch 39/50\n",
      "40/40 [==============================] - 1s 20ms/step - loss: 14.0404 - val_loss: 14.2057\n",
      "Epoch 40/50\n",
      "40/40 [==============================] - 1s 18ms/step - loss: 13.9828 - val_loss: 14.0864\n",
      "Epoch 41/50\n",
      "40/40 [==============================] - 1s 20ms/step - loss: 13.9089 - val_loss: 14.0139\n",
      "Epoch 42/50\n",
      "40/40 [==============================] - 1s 27ms/step - loss: 13.8678 - val_loss: 13.9909\n",
      "Epoch 43/50\n",
      "40/40 [==============================] - 1s 20ms/step - loss: 13.8450 - val_loss: 13.9228\n",
      "Epoch 44/50\n",
      "40/40 [==============================] - 1s 25ms/step - loss: 13.7972 - val_loss: 13.8793\n",
      "Epoch 45/50\n",
      "40/40 [==============================] - 1s 31ms/step - loss: 13.7614 - val_loss: 13.8478\n",
      "Epoch 46/50\n",
      "40/40 [==============================] - 1s 23ms/step - loss: 13.7468 - val_loss: 13.8341\n",
      "Epoch 47/50\n",
      "40/40 [==============================] - 1s 22ms/step - loss: 13.7344 - val_loss: 13.8010\n",
      "Epoch 48/50\n",
      "40/40 [==============================] - 1s 23ms/step - loss: 13.7174 - val_loss: 13.7739\n",
      "Epoch 49/50\n",
      "40/40 [==============================] - 1s 26ms/step - loss: 13.7043 - val_loss: 13.7518\n",
      "Epoch 50/50\n",
      "40/40 [==============================] - 1s 22ms/step - loss: 13.6999 - val_loss: 13.7419\n"
     ]
    },
    {
     "data": {
      "text/plain": [
       "<tensorflow.python.keras.callbacks.History at 0x7fdb544aeac0>"
      ]
     },
     "execution_count": 4,
     "metadata": {},
     "output_type": "execute_result"
    }
   ],
   "source": [
    "autoencoder.compile(optimizer='adam', loss='categorical_crossentropy')\n",
    "autoencoder.fit(train_vecs, train_vecs,\n",
    "                epochs=50,\n",
    "                batch_size=256,\n",
    "                shuffle=True,\n",
    "                validation_data=(test_vecs, test_vecs))"
   ]
  },
  {
   "cell_type": "markdown",
   "metadata": {},
   "source": [
    "Evaluation"
   ]
  },
  {
   "cell_type": "code",
   "execution_count": 5,
   "metadata": {
    "scrolled": true
   },
   "outputs": [
    {
     "name": "stdout",
     "output_type": "stream",
     "text": [
      "['AN45FVI', 'LE23DCR', 'HA99JWO', 'EQ58XKI', 'RP49FNK', 'DJ61XIM', 'WO62NON', 'EA42JCE', 'DV47KTZ', 'HM70DFU']\n",
      "['AN45FVI', 'LE23DCR', 'HA99JWO', 'EQ58XKI', 'RP49FNK', 'DJ61XIM', 'WO62NON', 'EA42JCE', 'DV47KTZ', 'HM70DFU']\n",
      "accuracy = 0.999\n"
     ]
    }
   ],
   "source": [
    "encoded_regs = encoder.predict(test_vecs)\n",
    "decoded_regs = decoder.predict(encoded_regs)\n",
    "print(test_strs[:10])\n",
    "print([v.recover(x) for x in decoded_regs[:10]])\n",
    "acc = np.sum([v.recover(x) == y for x, y in zip(decoded_regs, test_strs)]) / len(test_strs)\n",
    "print('accuracy = ' + str(acc))"
   ]
  }
 ],
 "metadata": {
  "kernelspec": {
   "display_name": "Python 3",
   "language": "python",
   "name": "python3"
  },
  "language_info": {
   "codemirror_mode": {
    "name": "ipython",
    "version": 3
   },
   "file_extension": ".py",
   "mimetype": "text/x-python",
   "name": "python",
   "nbconvert_exporter": "python",
   "pygments_lexer": "ipython3",
   "version": "3.8.6"
  }
 },
 "nbformat": 4,
 "nbformat_minor": 4
}
