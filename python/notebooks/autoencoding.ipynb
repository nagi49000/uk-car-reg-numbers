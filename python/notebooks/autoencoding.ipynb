{
 "cells": [
  {
   "cell_type": "markdown",
   "metadata": {},
   "source": [
    "# Building a simple autoencoder\n",
    "\n",
    "Based on the ability to generate UK car registration numbers, one can build a dataset of training and test data. With a suitable vectorizer, one can go ahead and make an autoencoder.\n",
    "\n",
    "### References\n",
    "\n",
    "https://blog.keras.io/building-autoencoders-in-keras.html"
   ]
  },
  {
   "cell_type": "code",
   "execution_count": 1,
   "metadata": {
    "scrolled": true
   },
   "outputs": [],
   "source": [
    "import sys\n",
    "import numpy as np\n",
    "import keras\n",
    "from keras import regularizers\n",
    "from keras import layers\n",
    "from keras import optimizers\n",
    "import random\n",
    "\n",
    "if '..' not in sys.path:\n",
    "    sys.path.append('..')\n",
    "from car_reg_generator.car_reg_generator.uk_reg import UkRegGenerator\n",
    "from car_reg_generator.car_reg_generator.uk_reg import UkRegDvlaVectorizer"
   ]
  },
  {
   "cell_type": "markdown",
   "metadata": {},
   "source": [
    "### Data generation"
   ]
  },
  {
   "cell_type": "code",
   "execution_count": 2,
   "metadata": {},
   "outputs": [
    {
     "name": "stdout",
     "output_type": "stream",
     "text": [
      "input vector length = 150\n",
      "actual number of validation samples = 1000\n",
      "actual number of test samples = 1000\n"
     ]
    }
   ],
   "source": [
    "n_train = 10000\n",
    "n_val = 1000\n",
    "n_test = 1000\n",
    "\n",
    "random.seed(0)\n",
    "g = UkRegGenerator()\n",
    "v = UkRegDvlaVectorizer()\n",
    "\n",
    "train_strs = [g.get_reg() for _ in range(n_train)]\n",
    "train_vecs = np.array([v.vectorize(x) for x in train_strs])\n",
    "val_strs = [g.get_reg() for _ in range(n_val)]\n",
    "val_strs = [x for x in val_strs if x not in set(train_strs)]  # sanity check\n",
    "val_vecs = np.array([v.vectorize(x) for x in val_strs])\n",
    "test_strs = [g.get_reg() for _ in range(n_test)]\n",
    "test_strs = [x for x in test_strs if x not in set(train_strs) | set(val_strs)]  # sanity check\n",
    "test_vecs = np.array([v.vectorize(x) for x in test_strs])\n",
    "\n",
    "vec_length = len(train_vecs[0])\n",
    "print('input vector length = ' + str(vec_length))\n",
    "print('actual number of validation samples = ' + str(len(val_strs)))\n",
    "print('actual number of test samples = ' + str(len(test_strs)))"
   ]
  },
  {
   "cell_type": "markdown",
   "metadata": {},
   "source": [
    "### Standard autoencoder\n",
    "\n",
    "Design the network. A single dense layer for the encoder and decoder needs an encoding dimension of around 100. Having more layers allows a smaller encoding dimension, although convergence during learning starts to become unstable."
   ]
  },
  {
   "cell_type": "code",
   "execution_count": 3,
   "metadata": {},
   "outputs": [],
   "source": [
    "encoding_dim = 17\n",
    "input_reg = keras.Input(shape=(vec_length,))\n",
    "encoded = layers.Dense(vec_length, activation='relu')(input_reg)\n",
    "encoded = layers.Dense(70, activation='relu')(encoded)\n",
    "encoded = layers.Dense(30, activation='relu')(encoded)\n",
    "encoded = layers.Dense(encoding_dim, activation='relu')(encoded)\n",
    "encoder = keras.Model(input_reg, encoded)\n",
    "\n",
    "encoded_input = keras.Input(shape=(encoding_dim,))\n",
    "decoded = encoded_input\n",
    "decoded = layers.Dense(30, activation='relu')(decoded)\n",
    "decoded = layers.Dense(70, activation='relu')(decoded)\n",
    "decoded = layers.Dense(vec_length, activation='sigmoid')(decoded)\n",
    "decoder = keras.Model(encoded_input, decoded)\n",
    "\n",
    "autoencoder = keras.Model(input_reg, decoder(encoder(input_reg)))"
   ]
  },
  {
   "cell_type": "markdown",
   "metadata": {},
   "source": [
    "Do some learning. For shallow networks, almost any optimizer and loss work. For deeper networks, poor choices almost certainly yield failed convergence on the loss function. Even good choices yield convergence on the loss function only on some runs."
   ]
  },
  {
   "cell_type": "code",
   "execution_count": 4,
   "metadata": {
    "scrolled": true
   },
   "outputs": [
    {
     "name": "stdout",
     "output_type": "stream",
     "text": [
      "Epoch 1/100\n",
      "625/625 [==============================] - 1s 941us/step - loss: 0.1937 - val_loss: 0.1777\n",
      "Epoch 2/100\n",
      "625/625 [==============================] - 1s 806us/step - loss: 0.1701 - val_loss: 0.1629\n",
      "Epoch 3/100\n",
      "625/625 [==============================] - 1s 811us/step - loss: 0.1548 - val_loss: 0.1488\n",
      "Epoch 4/100\n",
      "625/625 [==============================] - 1s 811us/step - loss: 0.1437 - val_loss: 0.1418\n",
      "Epoch 5/100\n",
      "625/625 [==============================] - 1s 821us/step - loss: 0.1353 - val_loss: 0.1336\n",
      "Epoch 6/100\n",
      "625/625 [==============================] - 1s 814us/step - loss: 0.1264 - val_loss: 0.1248\n",
      "Epoch 7/100\n",
      "625/625 [==============================] - 1s 813us/step - loss: 0.1204 - val_loss: 0.1206\n",
      "Epoch 8/100\n",
      "625/625 [==============================] - 1s 827us/step - loss: 0.1166 - val_loss: 0.1171\n",
      "Epoch 9/100\n",
      "625/625 [==============================] - 1s 824us/step - loss: 0.1124 - val_loss: 0.1142\n",
      "Epoch 10/100\n",
      "625/625 [==============================] - 1s 828us/step - loss: 0.1101 - val_loss: 0.1122\n",
      "Epoch 11/100\n",
      "625/625 [==============================] - 1s 868us/step - loss: 0.1084 - val_loss: 0.1114\n",
      "Epoch 12/100\n",
      "625/625 [==============================] - 1s 804us/step - loss: 0.1068 - val_loss: 0.1098\n",
      "Epoch 13/100\n",
      "625/625 [==============================] - 1s 824us/step - loss: 0.1050 - val_loss: 0.1073\n",
      "Epoch 14/100\n",
      "625/625 [==============================] - 1s 813us/step - loss: 0.1030 - val_loss: 0.1059\n",
      "Epoch 15/100\n",
      "625/625 [==============================] - 1s 836us/step - loss: 0.1003 - val_loss: 0.1029\n",
      "Epoch 16/100\n",
      "625/625 [==============================] - 1s 842us/step - loss: 0.0972 - val_loss: 0.0992\n",
      "Epoch 17/100\n",
      "625/625 [==============================] - 1s 863us/step - loss: 0.0934 - val_loss: 0.0947\n",
      "Epoch 18/100\n",
      "625/625 [==============================] - 1s 855us/step - loss: 0.0897 - val_loss: 0.0932\n",
      "Epoch 19/100\n",
      "625/625 [==============================] - 1s 838us/step - loss: 0.0871 - val_loss: 0.0902\n",
      "Epoch 20/100\n",
      "625/625 [==============================] - 1s 843us/step - loss: 0.0849 - val_loss: 0.0885\n",
      "Epoch 21/100\n",
      "625/625 [==============================] - 1s 854us/step - loss: 0.0830 - val_loss: 0.0870\n",
      "Epoch 22/100\n",
      "625/625 [==============================] - 1s 829us/step - loss: 0.0808 - val_loss: 0.0846\n",
      "Epoch 23/100\n",
      "625/625 [==============================] - 1s 838us/step - loss: 0.0786 - val_loss: 0.0821\n",
      "Epoch 24/100\n",
      "625/625 [==============================] - 1s 835us/step - loss: 0.0763 - val_loss: 0.0796\n",
      "Epoch 25/100\n",
      "625/625 [==============================] - 1s 849us/step - loss: 0.0737 - val_loss: 0.0781\n",
      "Epoch 26/100\n",
      "625/625 [==============================] - 1s 841us/step - loss: 0.0714 - val_loss: 0.0754\n",
      "Epoch 27/100\n",
      "625/625 [==============================] - 1s 846us/step - loss: 0.0694 - val_loss: 0.0725\n",
      "Epoch 28/100\n",
      "625/625 [==============================] - 1s 842us/step - loss: 0.0674 - val_loss: 0.0714\n",
      "Epoch 29/100\n",
      "625/625 [==============================] - 1s 830us/step - loss: 0.0654 - val_loss: 0.0692\n",
      "Epoch 30/100\n",
      "625/625 [==============================] - 1s 840us/step - loss: 0.0636 - val_loss: 0.0671\n",
      "Epoch 31/100\n",
      "625/625 [==============================] - 1s 826us/step - loss: 0.0614 - val_loss: 0.0658\n",
      "Epoch 32/100\n",
      "625/625 [==============================] - 1s 831us/step - loss: 0.0594 - val_loss: 0.0623\n",
      "Epoch 33/100\n",
      "625/625 [==============================] - 1s 826us/step - loss: 0.0575 - val_loss: 0.0608\n",
      "Epoch 34/100\n",
      "625/625 [==============================] - 1s 838us/step - loss: 0.0557 - val_loss: 0.0591\n",
      "Epoch 35/100\n",
      "625/625 [==============================] - 1s 830us/step - loss: 0.0541 - val_loss: 0.0580\n",
      "Epoch 36/100\n",
      "625/625 [==============================] - 1s 850us/step - loss: 0.0526 - val_loss: 0.0555\n",
      "Epoch 37/100\n",
      "625/625 [==============================] - 1s 840us/step - loss: 0.0508 - val_loss: 0.0544\n",
      "Epoch 38/100\n",
      "625/625 [==============================] - 1s 856us/step - loss: 0.0487 - val_loss: 0.0512\n",
      "Epoch 39/100\n",
      "625/625 [==============================] - 1s 871us/step - loss: 0.0467 - val_loss: 0.0494\n",
      "Epoch 40/100\n",
      "625/625 [==============================] - 1s 879us/step - loss: 0.0443 - val_loss: 0.0490\n",
      "Epoch 41/100\n",
      "625/625 [==============================] - 1s 846us/step - loss: 0.0421 - val_loss: 0.0451\n",
      "Epoch 42/100\n",
      "625/625 [==============================] - 1s 844us/step - loss: 0.0401 - val_loss: 0.0440\n",
      "Epoch 43/100\n",
      "625/625 [==============================] - 1s 849us/step - loss: 0.0382 - val_loss: 0.0401\n",
      "Epoch 44/100\n",
      "625/625 [==============================] - 1s 848us/step - loss: 0.0368 - val_loss: 0.0393\n",
      "Epoch 45/100\n",
      "625/625 [==============================] - 1s 863us/step - loss: 0.0354 - val_loss: 0.0379\n",
      "Epoch 46/100\n",
      "625/625 [==============================] - 1s 853us/step - loss: 0.0339 - val_loss: 0.0380\n",
      "Epoch 47/100\n",
      "625/625 [==============================] - 1s 867us/step - loss: 0.0327 - val_loss: 0.0351\n",
      "Epoch 48/100\n",
      "625/625 [==============================] - 1s 842us/step - loss: 0.0317 - val_loss: 0.0335\n",
      "Epoch 49/100\n",
      "625/625 [==============================] - 1s 857us/step - loss: 0.0307 - val_loss: 0.0335\n",
      "Epoch 50/100\n",
      "625/625 [==============================] - 1s 842us/step - loss: 0.0297 - val_loss: 0.0317\n",
      "Epoch 51/100\n",
      "625/625 [==============================] - 1s 854us/step - loss: 0.0288 - val_loss: 0.0308\n",
      "Epoch 52/100\n",
      "625/625 [==============================] - 1s 857us/step - loss: 0.0280 - val_loss: 0.0301\n",
      "Epoch 53/100\n",
      "625/625 [==============================] - 1s 825us/step - loss: 0.0270 - val_loss: 0.0282\n",
      "Epoch 54/100\n",
      "625/625 [==============================] - 1s 842us/step - loss: 0.0258 - val_loss: 0.0290\n",
      "Epoch 55/100\n",
      "625/625 [==============================] - 1s 890us/step - loss: 0.0250 - val_loss: 0.0277\n",
      "Epoch 56/100\n",
      "625/625 [==============================] - 1s 878us/step - loss: 0.0237 - val_loss: 0.0257\n",
      "Epoch 57/100\n",
      "625/625 [==============================] - 1s 996us/step - loss: 0.0229 - val_loss: 0.0247\n",
      "Epoch 58/100\n",
      "625/625 [==============================] - 0s 766us/step - loss: 0.0219 - val_loss: 0.0245\n",
      "Epoch 59/100\n",
      "625/625 [==============================] - 0s 779us/step - loss: 0.0209 - val_loss: 0.0229\n",
      "Epoch 60/100\n",
      "625/625 [==============================] - 0s 758us/step - loss: 0.0200 - val_loss: 0.0215\n",
      "Epoch 61/100\n",
      "625/625 [==============================] - 0s 796us/step - loss: 0.0190 - val_loss: 0.0194\n",
      "Epoch 62/100\n",
      "625/625 [==============================] - 0s 762us/step - loss: 0.0180 - val_loss: 0.0192\n",
      "Epoch 63/100\n",
      "625/625 [==============================] - 0s 767us/step - loss: 0.0170 - val_loss: 0.0190\n",
      "Epoch 64/100\n",
      "625/625 [==============================] - 0s 757us/step - loss: 0.0163 - val_loss: 0.0187\n",
      "Epoch 65/100\n",
      "625/625 [==============================] - 1s 839us/step - loss: 0.0152 - val_loss: 0.0175\n",
      "Epoch 66/100\n",
      "625/625 [==============================] - 0s 769us/step - loss: 0.0149 - val_loss: 0.0156\n",
      "Epoch 67/100\n",
      "625/625 [==============================] - 0s 777us/step - loss: 0.0136 - val_loss: 0.0159\n",
      "Epoch 68/100\n",
      "625/625 [==============================] - 0s 767us/step - loss: 0.0124 - val_loss: 0.0131\n",
      "Epoch 69/100\n",
      "625/625 [==============================] - 0s 785us/step - loss: 0.0113 - val_loss: 0.0114\n",
      "Epoch 70/100\n",
      "625/625 [==============================] - 1s 829us/step - loss: 0.0102 - val_loss: 0.0127\n",
      "Epoch 71/100\n",
      "625/625 [==============================] - 0s 795us/step - loss: 0.0096 - val_loss: 0.0104\n",
      "Epoch 72/100\n",
      "625/625 [==============================] - 1s 986us/step - loss: 0.0090 - val_loss: 0.0116\n",
      "Epoch 73/100\n",
      "625/625 [==============================] - 1s 865us/step - loss: 0.0080 - val_loss: 0.0082\n",
      "Epoch 74/100\n",
      "625/625 [==============================] - 1s 876us/step - loss: 0.0071 - val_loss: 0.0073\n",
      "Epoch 75/100\n",
      "625/625 [==============================] - 1s 860us/step - loss: 0.0066 - val_loss: 0.0080\n",
      "Epoch 76/100\n",
      "625/625 [==============================] - 1s 861us/step - loss: 0.0065 - val_loss: 0.0076\n",
      "Epoch 77/100\n",
      "625/625 [==============================] - 1s 854us/step - loss: 0.0060 - val_loss: 0.0082\n",
      "Epoch 78/100\n",
      "625/625 [==============================] - 1s 847us/step - loss: 0.0056 - val_loss: 0.0048\n",
      "Epoch 79/100\n",
      "625/625 [==============================] - 1s 830us/step - loss: 0.0050 - val_loss: 0.0048\n"
     ]
    },
    {
     "name": "stdout",
     "output_type": "stream",
     "text": [
      "Epoch 80/100\n",
      "625/625 [==============================] - 1s 812us/step - loss: 0.0049 - val_loss: 0.0075\n",
      "Epoch 81/100\n",
      "625/625 [==============================] - 0s 789us/step - loss: 0.0041 - val_loss: 0.0055\n",
      "Epoch 82/100\n",
      "625/625 [==============================] - 1s 814us/step - loss: 0.0041 - val_loss: 0.0047\n",
      "Epoch 83/100\n",
      "625/625 [==============================] - 0s 797us/step - loss: 0.0040 - val_loss: 0.0033\n",
      "Epoch 84/100\n",
      "625/625 [==============================] - 0s 782us/step - loss: 0.0032 - val_loss: 0.0047\n",
      "Epoch 85/100\n",
      "625/625 [==============================] - 0s 785us/step - loss: 0.0031 - val_loss: 0.0049\n",
      "Epoch 86/100\n",
      "625/625 [==============================] - 1s 804us/step - loss: 0.0031 - val_loss: 0.0036\n",
      "Epoch 87/100\n",
      "625/625 [==============================] - 1s 821us/step - loss: 0.0024 - val_loss: 0.0043\n",
      "Epoch 88/100\n",
      "625/625 [==============================] - 1s 828us/step - loss: 0.0028 - val_loss: 0.0027\n",
      "Epoch 89/100\n",
      "625/625 [==============================] - 1s 805us/step - loss: 0.0024 - val_loss: 0.0075\n",
      "Epoch 90/100\n",
      "625/625 [==============================] - 1s 845us/step - loss: 0.0022 - val_loss: 0.0037\n",
      "Epoch 91/100\n",
      "625/625 [==============================] - 1s 809us/step - loss: 0.0020 - val_loss: 0.0030\n",
      "Epoch 92/100\n",
      "625/625 [==============================] - 1s 837us/step - loss: 0.0020 - val_loss: 0.0015\n",
      "Epoch 93/100\n",
      "625/625 [==============================] - 1s 820us/step - loss: 0.0014 - val_loss: 0.0027\n",
      "Epoch 94/100\n",
      "625/625 [==============================] - 1s 859us/step - loss: 0.0019 - val_loss: 0.0054\n",
      "Epoch 95/100\n",
      "625/625 [==============================] - 1s 837us/step - loss: 0.0013 - val_loss: 0.0024\n",
      "Epoch 96/100\n",
      "625/625 [==============================] - 1s 830us/step - loss: 0.0017 - val_loss: 0.0013\n",
      "Epoch 97/100\n",
      "625/625 [==============================] - 1s 830us/step - loss: 0.0014 - val_loss: 0.0015\n",
      "Epoch 98/100\n",
      "625/625 [==============================] - 1s 862us/step - loss: 0.0013 - val_loss: 0.0042\n",
      "Epoch 99/100\n",
      "625/625 [==============================] - 1s 845us/step - loss: 9.8431e-04 - val_loss: 0.0011\n",
      "Epoch 100/100\n",
      "625/625 [==============================] - 1s 833us/step - loss: 0.0017 - val_loss: 0.0010\n"
     ]
    },
    {
     "data": {
      "text/plain": [
       "<tensorflow.python.keras.callbacks.History at 0x7f3e44081490>"
      ]
     },
     "execution_count": 4,
     "metadata": {},
     "output_type": "execute_result"
    }
   ],
   "source": [
    "opt = optimizers.Adamax(learning_rate=0.003)\n",
    "autoencoder.compile(optimizer=opt, loss='binary_crossentropy')\n",
    "autoencoder.fit(train_vecs, train_vecs,\n",
    "                epochs=100,\n",
    "                batch_size=16,\n",
    "                shuffle=True,\n",
    "                validation_data=(val_vecs, val_vecs))"
   ]
  },
  {
   "cell_type": "markdown",
   "metadata": {},
   "source": [
    "Evaluation"
   ]
  },
  {
   "cell_type": "code",
   "execution_count": 5,
   "metadata": {
    "scrolled": true
   },
   "outputs": [
    {
     "name": "stdout",
     "output_type": "stream",
     "text": [
      "['MY33WSZ', 'WE83GXF', 'LU19JLV', 'KX41GVE', 'WP91NCV', 'SG47LFF', 'HB17WIY', 'CA89AXN', 'GT57AKA', 'CD77SJT']\n",
      "['MY33WSZ', 'WE83GXF', 'LU19JLV', 'KX41GVE', 'WP91NCV', 'SG47LFF', 'HB17WIY', 'CA89AXN', 'GT57AKA', 'CD77SJT']\n",
      "overall accuracy = 0.998\n",
      "by digit accuracy:\n",
      "    1.0\n",
      "    1.0\n",
      "    1.0\n",
      "    1.0\n",
      "    1.0\n",
      "    0.998\n",
      "    1.0\n"
     ]
    }
   ],
   "source": [
    "decoded_regs = autoencoder.predict(test_vecs)\n",
    "print(test_strs[:10])\n",
    "recovered = [v.recover(x) for x in decoded_regs]\n",
    "print(recovered[:10])\n",
    "acc = np.sum([x == y for x, y in zip(recovered, test_strs)]) / len(test_strs)\n",
    "print('overall accuracy = ' + str(acc))\n",
    "print('by digit accuracy:')\n",
    "for i_digit in range(len(test_strs[0])):\n",
    "    acc = np.sum([x[i_digit] == y[i_digit] for x, y in zip(recovered, test_strs)]) / len(test_strs)\n",
    "    print('    ' + str(acc))"
   ]
  }
 ],
 "metadata": {
  "kernelspec": {
   "display_name": "Python 3",
   "language": "python",
   "name": "python3"
  },
  "language_info": {
   "codemirror_mode": {
    "name": "ipython",
    "version": 3
   },
   "file_extension": ".py",
   "mimetype": "text/x-python",
   "name": "python",
   "nbconvert_exporter": "python",
   "pygments_lexer": "ipython3",
   "version": "3.7.9"
  }
 },
 "nbformat": 4,
 "nbformat_minor": 4
}
