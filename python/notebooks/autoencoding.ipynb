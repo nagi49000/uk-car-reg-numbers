{
 "cells": [
  {
   "cell_type": "markdown",
   "metadata": {},
   "source": [
    "# Building a simple autoencoder\n",
    "\n",
    "Based on the ability to generate UK car registration numbers, one can build a dataset of training and test data. With a suitable vectorizer, one can go ahead and make an autoencoder.\n",
    "\n",
    "### References\n",
    "\n",
    "https://blog.keras.io/building-autoencoders-in-keras.html"
   ]
  },
  {
   "cell_type": "code",
   "execution_count": 1,
   "metadata": {
    "scrolled": true
   },
   "outputs": [],
   "source": [
    "import sys\n",
    "import numpy as np\n",
    "import keras\n",
    "from keras import regularizers\n",
    "from keras import layers\n",
    "import random\n",
    "\n",
    "if '..' not in sys.path:\n",
    "    sys.path.append('..')\n",
    "from car_reg_generator.car_reg_generator.uk_reg import UkRegGenerator\n",
    "from car_reg_generator.car_reg_generator.uk_reg import UkRegDvlaVectorizer"
   ]
  },
  {
   "cell_type": "markdown",
   "metadata": {},
   "source": [
    "### Data generation"
   ]
  },
  {
   "cell_type": "code",
   "execution_count": 2,
   "metadata": {},
   "outputs": [
    {
     "name": "stdout",
     "output_type": "stream",
     "text": [
      "input vector length = 150\n",
      "actual number of validation samples = 1000\n",
      "actual number of test samples = 1000\n"
     ]
    }
   ],
   "source": [
    "n_train = 10000\n",
    "n_val = 1000\n",
    "n_test = 1000\n",
    "\n",
    "random.seed(0)\n",
    "g = UkRegGenerator()\n",
    "v = UkRegDvlaVectorizer()\n",
    "\n",
    "train_strs = [g.get_reg() for _ in range(n_train)]\n",
    "train_vecs = np.array([v.vectorize(x) for x in train_strs])\n",
    "val_strs = [g.get_reg() for _ in range(n_val)]\n",
    "val_strs = [x for x in val_strs if x not in set(train_strs)]  # sanity check\n",
    "val_vecs = np.array([v.vectorize(x) for x in val_strs])\n",
    "test_strs = [g.get_reg() for _ in range(n_test)]\n",
    "test_strs = [x for x in test_strs if x not in set(train_strs) | set(val_strs)]  # sanity check\n",
    "test_vecs = np.array([v.vectorize(x) for x in test_strs])\n",
    "\n",
    "vec_length = len(train_vecs[0])\n",
    "print('input vector length = ' + str(vec_length))\n",
    "print('actual number of validation samples = ' + str(len(val_strs)))\n",
    "print('actual number of test samples = ' + str(len(test_strs)))"
   ]
  },
  {
   "cell_type": "markdown",
   "metadata": {},
   "source": [
    "### Standard autoencoder\n",
    "\n",
    "Design the network. A single dense layer for the encoder and decoder needs an encoding dimension of around 100. Having more layers allows a smaller encoding dimension, although convergence during learning starts to become unstable."
   ]
  },
  {
   "cell_type": "code",
   "execution_count": 3,
   "metadata": {},
   "outputs": [],
   "source": [
    "encoding_dim = 25\n",
    "input_reg = keras.Input(shape=(vec_length,))\n",
    "encoded = layers.Dense(vec_length, activation='relu')(input_reg)\n",
    "encoded = layers.Dense(75, activation='relu')(encoded)\n",
    "encoded = layers.Dense(40, activation='relu')(encoded)\n",
    "encoded = layers.Dense(encoding_dim, activation='relu')(encoded)\n",
    "encoder = keras.Model(input_reg, encoded)\n",
    "\n",
    "encoded_input = keras.Input(shape=(encoding_dim,))\n",
    "decoded = encoded_input\n",
    "decoded = layers.Dense(40, activation='relu')(decoded)\n",
    "decoded = layers.Dense(75, activation='relu')(decoded)\n",
    "decoded = layers.Dense(vec_length, activation='sigmoid')(decoded)\n",
    "decoder = keras.Model(encoded_input, decoded)\n",
    "\n",
    "autoencoder = keras.Model(input_reg, decoder(encoder(input_reg)))"
   ]
  },
  {
   "cell_type": "markdown",
   "metadata": {},
   "source": [
    "Do some learning. For shallow networks, almost any optimizer and loss work. For deeper networks, poor choices almost certainly yield failed convergence on the loss function. Even good choices yield convergence on the loss function only on some runs."
   ]
  },
  {
   "cell_type": "code",
   "execution_count": 4,
   "metadata": {
    "scrolled": true
   },
   "outputs": [
    {
     "name": "stdout",
     "output_type": "stream",
     "text": [
      "Epoch 1/100\n",
      "1250/1250 [==============================] - 1s 893us/step - loss: 0.1986 - val_loss: 0.1788\n",
      "Epoch 2/100\n",
      "1250/1250 [==============================] - 1s 812us/step - loss: 0.1666 - val_loss: 0.1546\n",
      "Epoch 3/100\n",
      "1250/1250 [==============================] - 1s 803us/step - loss: 0.1475 - val_loss: 0.1416\n",
      "Epoch 4/100\n",
      "1250/1250 [==============================] - 1s 817us/step - loss: 0.1377 - val_loss: 0.1342\n",
      "Epoch 5/100\n",
      "1250/1250 [==============================] - 1s 809us/step - loss: 0.1307 - val_loss: 0.1294\n",
      "Epoch 6/100\n",
      "1250/1250 [==============================] - 1s 813us/step - loss: 0.1257 - val_loss: 0.1258\n",
      "Epoch 7/100\n",
      "1250/1250 [==============================] - 1s 838us/step - loss: 0.1215 - val_loss: 0.1227\n",
      "Epoch 8/100\n",
      "1250/1250 [==============================] - 1s 842us/step - loss: 0.1177 - val_loss: 0.1195\n",
      "Epoch 9/100\n",
      "1250/1250 [==============================] - 1s 846us/step - loss: 0.1148 - val_loss: 0.1177\n",
      "Epoch 10/100\n",
      "1250/1250 [==============================] - 1s 836us/step - loss: 0.1126 - val_loss: 0.1153\n",
      "Epoch 11/100\n",
      "1250/1250 [==============================] - 1s 849us/step - loss: 0.1090 - val_loss: 0.1120\n",
      "Epoch 12/100\n",
      "1250/1250 [==============================] - 1s 831us/step - loss: 0.1060 - val_loss: 0.1090\n",
      "Epoch 13/100\n",
      "1250/1250 [==============================] - 1s 815us/step - loss: 0.1025 - val_loss: 0.1059\n",
      "Epoch 14/100\n",
      "1250/1250 [==============================] - 1s 808us/step - loss: 0.1002 - val_loss: 0.1047\n",
      "Epoch 15/100\n",
      "1250/1250 [==============================] - 1s 811us/step - loss: 0.0987 - val_loss: 0.1034\n",
      "Epoch 16/100\n",
      "1250/1250 [==============================] - 1s 837us/step - loss: 0.0975 - val_loss: 0.1031\n",
      "Epoch 17/100\n",
      "1250/1250 [==============================] - 1s 809us/step - loss: 0.0966 - val_loss: 0.1020\n",
      "Epoch 18/100\n",
      "1250/1250 [==============================] - 1s 885us/step - loss: 0.0957 - val_loss: 0.1010\n",
      "Epoch 19/100\n",
      "1250/1250 [==============================] - 1s 817us/step - loss: 0.0948 - val_loss: 0.1009\n",
      "Epoch 20/100\n",
      "1250/1250 [==============================] - 1s 815us/step - loss: 0.0939 - val_loss: 0.0998\n",
      "Epoch 21/100\n",
      "1250/1250 [==============================] - 1s 844us/step - loss: 0.0927 - val_loss: 0.0986\n",
      "Epoch 22/100\n",
      "1250/1250 [==============================] - 1s 815us/step - loss: 0.0904 - val_loss: 0.0963\n",
      "Epoch 23/100\n",
      "1250/1250 [==============================] - 1s 820us/step - loss: 0.0883 - val_loss: 0.0944\n",
      "Epoch 24/100\n",
      "1250/1250 [==============================] - 1s 812us/step - loss: 0.0861 - val_loss: 0.0916\n",
      "Epoch 25/100\n",
      "1250/1250 [==============================] - 1s 811us/step - loss: 0.0843 - val_loss: 0.0904\n",
      "Epoch 26/100\n",
      "1250/1250 [==============================] - 1s 809us/step - loss: 0.0833 - val_loss: 0.0900\n",
      "Epoch 27/100\n",
      "1250/1250 [==============================] - 1s 831us/step - loss: 0.0825 - val_loss: 0.0899\n",
      "Epoch 28/100\n",
      "1250/1250 [==============================] - 1s 866us/step - loss: 0.0817 - val_loss: 0.0887\n",
      "Epoch 29/100\n",
      "1250/1250 [==============================] - 1s 882us/step - loss: 0.0810 - val_loss: 0.0885\n",
      "Epoch 30/100\n",
      "1250/1250 [==============================] - 1s 896us/step - loss: 0.0803 - val_loss: 0.0880\n",
      "Epoch 31/100\n",
      "1250/1250 [==============================] - 1s 911us/step - loss: 0.0795 - val_loss: 0.0871\n",
      "Epoch 32/100\n",
      "1250/1250 [==============================] - 1s 900us/step - loss: 0.0787 - val_loss: 0.0862\n",
      "Epoch 33/100\n",
      "1250/1250 [==============================] - 1s 793us/step - loss: 0.0779 - val_loss: 0.0860\n",
      "Epoch 34/100\n",
      "1250/1250 [==============================] - 1s 768us/step - loss: 0.0772 - val_loss: 0.0850\n",
      "Epoch 35/100\n",
      "1250/1250 [==============================] - 1s 763us/step - loss: 0.0764 - val_loss: 0.0842\n",
      "Epoch 36/100\n",
      "1250/1250 [==============================] - 1s 793us/step - loss: 0.0756 - val_loss: 0.0836\n",
      "Epoch 37/100\n",
      "1250/1250 [==============================] - 1s 772us/step - loss: 0.0748 - val_loss: 0.0825\n",
      "Epoch 38/100\n",
      "1250/1250 [==============================] - 1s 779us/step - loss: 0.0741 - val_loss: 0.0819\n",
      "Epoch 39/100\n",
      "1250/1250 [==============================] - 1s 772us/step - loss: 0.0734 - val_loss: 0.0814\n",
      "Epoch 40/100\n",
      "1250/1250 [==============================] - 1s 761us/step - loss: 0.0726 - val_loss: 0.0802\n",
      "Epoch 41/100\n",
      "1250/1250 [==============================] - 1s 770us/step - loss: 0.0718 - val_loss: 0.0800\n",
      "Epoch 42/100\n",
      "1250/1250 [==============================] - 1s 772us/step - loss: 0.0711 - val_loss: 0.0790\n",
      "Epoch 43/100\n",
      "1250/1250 [==============================] - 1s 793us/step - loss: 0.0702 - val_loss: 0.0780\n",
      "Epoch 44/100\n",
      "1250/1250 [==============================] - 1s 775us/step - loss: 0.0695 - val_loss: 0.0769\n",
      "Epoch 45/100\n",
      "1250/1250 [==============================] - 1s 788us/step - loss: 0.0686 - val_loss: 0.0774\n",
      "Epoch 46/100\n",
      "1250/1250 [==============================] - 1s 786us/step - loss: 0.0678 - val_loss: 0.0760\n",
      "Epoch 47/100\n",
      "1250/1250 [==============================] - 1s 773us/step - loss: 0.0671 - val_loss: 0.0751\n",
      "Epoch 48/100\n",
      "1250/1250 [==============================] - 1s 776us/step - loss: 0.0662 - val_loss: 0.0736\n",
      "Epoch 49/100\n",
      "1250/1250 [==============================] - 1s 780us/step - loss: 0.0652 - val_loss: 0.0735\n",
      "Epoch 50/100\n",
      "1250/1250 [==============================] - 1s 773us/step - loss: 0.0642 - val_loss: 0.0720\n",
      "Epoch 51/100\n",
      "1250/1250 [==============================] - 1s 777us/step - loss: 0.0632 - val_loss: 0.0706\n",
      "Epoch 52/100\n",
      "1250/1250 [==============================] - 1s 781us/step - loss: 0.0620 - val_loss: 0.0698\n",
      "Epoch 53/100\n",
      "1250/1250 [==============================] - 1s 781us/step - loss: 0.0607 - val_loss: 0.0680\n",
      "Epoch 54/100\n",
      "1250/1250 [==============================] - 1s 791us/step - loss: 0.0593 - val_loss: 0.0659\n",
      "Epoch 55/100\n",
      "1250/1250 [==============================] - 1s 774us/step - loss: 0.0577 - val_loss: 0.0643\n",
      "Epoch 56/100\n",
      "1250/1250 [==============================] - 1s 771us/step - loss: 0.0562 - val_loss: 0.0633\n",
      "Epoch 57/100\n",
      "1250/1250 [==============================] - 1s 778us/step - loss: 0.0546 - val_loss: 0.0606\n",
      "Epoch 58/100\n",
      "1250/1250 [==============================] - 1s 771us/step - loss: 0.0530 - val_loss: 0.0597\n",
      "Epoch 59/100\n",
      "1250/1250 [==============================] - 1s 773us/step - loss: 0.0514 - val_loss: 0.0577\n",
      "Epoch 60/100\n",
      "1250/1250 [==============================] - 1s 766us/step - loss: 0.0498 - val_loss: 0.0558\n",
      "Epoch 61/100\n",
      "1250/1250 [==============================] - 1s 765us/step - loss: 0.0482 - val_loss: 0.0539\n",
      "Epoch 62/100\n",
      "1250/1250 [==============================] - 1s 767us/step - loss: 0.0468 - val_loss: 0.0523\n",
      "Epoch 63/100\n",
      "1250/1250 [==============================] - 1s 764us/step - loss: 0.0453 - val_loss: 0.0511\n",
      "Epoch 64/100\n",
      "1250/1250 [==============================] - 1s 759us/step - loss: 0.0438 - val_loss: 0.0487\n",
      "Epoch 65/100\n",
      "1250/1250 [==============================] - 1s 769us/step - loss: 0.0423 - val_loss: 0.0488\n",
      "Epoch 66/100\n",
      "1250/1250 [==============================] - 1s 773us/step - loss: 0.0410 - val_loss: 0.0465\n",
      "Epoch 67/100\n",
      "1250/1250 [==============================] - 1s 770us/step - loss: 0.0394 - val_loss: 0.0450\n",
      "Epoch 68/100\n",
      "1250/1250 [==============================] - 1s 776us/step - loss: 0.0378 - val_loss: 0.0424\n",
      "Epoch 69/100\n",
      "1250/1250 [==============================] - 1s 769us/step - loss: 0.0362 - val_loss: 0.0419\n",
      "Epoch 70/100\n",
      "1250/1250 [==============================] - 1s 778us/step - loss: 0.0346 - val_loss: 0.0393\n",
      "Epoch 71/100\n",
      "1250/1250 [==============================] - 1s 799us/step - loss: 0.0330 - val_loss: 0.0375\n",
      "Epoch 72/100\n",
      "1250/1250 [==============================] - 1s 785us/step - loss: 0.0315 - val_loss: 0.0372\n",
      "Epoch 73/100\n",
      "1250/1250 [==============================] - 1s 778us/step - loss: 0.0298 - val_loss: 0.0351\n",
      "Epoch 74/100\n",
      "1250/1250 [==============================] - 1s 783us/step - loss: 0.0283 - val_loss: 0.0336\n",
      "Epoch 75/100\n",
      "1250/1250 [==============================] - 1s 790us/step - loss: 0.0268 - val_loss: 0.0299\n",
      "Epoch 76/100\n",
      "1250/1250 [==============================] - 1s 781us/step - loss: 0.0252 - val_loss: 0.0288\n",
      "Epoch 77/100\n",
      "1250/1250 [==============================] - 1s 783us/step - loss: 0.0237 - val_loss: 0.0274\n",
      "Epoch 78/100\n"
     ]
    },
    {
     "name": "stdout",
     "output_type": "stream",
     "text": [
      "1250/1250 [==============================] - 1s 768us/step - loss: 0.0222 - val_loss: 0.0262\n",
      "Epoch 79/100\n",
      "1250/1250 [==============================] - 1s 772us/step - loss: 0.0206 - val_loss: 0.0240\n",
      "Epoch 80/100\n",
      "1250/1250 [==============================] - 1s 771us/step - loss: 0.0192 - val_loss: 0.0224\n",
      "Epoch 81/100\n",
      "1250/1250 [==============================] - 1s 769us/step - loss: 0.0178 - val_loss: 0.0213\n",
      "Epoch 82/100\n",
      "1250/1250 [==============================] - 1s 772us/step - loss: 0.0164 - val_loss: 0.0186\n",
      "Epoch 83/100\n",
      "1250/1250 [==============================] - 1s 801us/step - loss: 0.0152 - val_loss: 0.0168\n",
      "Epoch 84/100\n",
      "1250/1250 [==============================] - 1s 881us/step - loss: 0.0139 - val_loss: 0.0194\n",
      "Epoch 85/100\n",
      "1250/1250 [==============================] - 1s 855us/step - loss: 0.0130 - val_loss: 0.0145\n",
      "Epoch 86/100\n",
      "1250/1250 [==============================] - 1s 828us/step - loss: 0.0119 - val_loss: 0.0135\n",
      "Epoch 87/100\n",
      "1250/1250 [==============================] - 1s 829us/step - loss: 0.0108 - val_loss: 0.0129\n",
      "Epoch 88/100\n",
      "1250/1250 [==============================] - 1s 826us/step - loss: 0.0100 - val_loss: 0.0111\n",
      "Epoch 89/100\n",
      "1250/1250 [==============================] - 1s 809us/step - loss: 0.0090 - val_loss: 0.0105\n",
      "Epoch 90/100\n",
      "1250/1250 [==============================] - 1s 827us/step - loss: 0.0082 - val_loss: 0.0100\n",
      "Epoch 91/100\n",
      "1250/1250 [==============================] - 1s 835us/step - loss: 0.0075 - val_loss: 0.0098\n",
      "Epoch 92/100\n",
      "1250/1250 [==============================] - 1s 821us/step - loss: 0.0068 - val_loss: 0.0101\n",
      "Epoch 93/100\n",
      "1250/1250 [==============================] - 1s 831us/step - loss: 0.0060 - val_loss: 0.0068\n",
      "Epoch 94/100\n",
      "1250/1250 [==============================] - 1s 834us/step - loss: 0.0056 - val_loss: 0.0068\n",
      "Epoch 95/100\n",
      "1250/1250 [==============================] - 1s 833us/step - loss: 0.0052 - val_loss: 0.0066\n",
      "Epoch 96/100\n",
      "1250/1250 [==============================] - 1s 832us/step - loss: 0.0047 - val_loss: 0.0063\n",
      "Epoch 97/100\n",
      "1250/1250 [==============================] - 1s 819us/step - loss: 0.0043 - val_loss: 0.0056\n",
      "Epoch 98/100\n",
      "1250/1250 [==============================] - 1s 830us/step - loss: 0.0040 - val_loss: 0.0047\n",
      "Epoch 99/100\n",
      "1250/1250 [==============================] - 1s 828us/step - loss: 0.0036 - val_loss: 0.0043\n",
      "Epoch 100/100\n",
      "1250/1250 [==============================] - 1s 827us/step - loss: 0.0033 - val_loss: 0.0057\n"
     ]
    },
    {
     "data": {
      "text/plain": [
       "<tensorflow.python.keras.callbacks.History at 0x7f614027b450>"
      ]
     },
     "execution_count": 4,
     "metadata": {},
     "output_type": "execute_result"
    }
   ],
   "source": [
    "autoencoder.compile(optimizer='adamax', loss='binary_crossentropy')\n",
    "autoencoder.fit(train_vecs, train_vecs,\n",
    "                epochs=100,\n",
    "                batch_size=8,\n",
    "                shuffle=True,\n",
    "                validation_data=(val_vecs, val_vecs))"
   ]
  },
  {
   "cell_type": "markdown",
   "metadata": {},
   "source": [
    "Evaluation"
   ]
  },
  {
   "cell_type": "code",
   "execution_count": 5,
   "metadata": {
    "scrolled": true
   },
   "outputs": [
    {
     "name": "stdout",
     "output_type": "stream",
     "text": [
      "['MY33WSZ', 'WE83GXF', 'LU19JLV', 'KX41GVE', 'WP91NCV', 'SG47LFF', 'HB17WIY', 'CA89AXN', 'GT57AKA', 'CD77SJT']\n",
      "['MY33WSZ', 'WE83GXF', 'LU19JLV', 'KX41GVE', 'WP91NCV', 'SG47LFF', 'HB17WVY', 'CA89AXN', 'GT57AKA', 'CD77SJT']\n",
      "accuracy = 0.961\n"
     ]
    }
   ],
   "source": [
    "decoded_regs = autoencoder.predict(test_vecs)\n",
    "print(test_strs[:10])\n",
    "print([v.recover(x) for x in decoded_regs[:10]])\n",
    "acc = np.sum([v.recover(x) == y for x, y in zip(decoded_regs, test_strs)]) / len(test_strs)\n",
    "print('accuracy = ' + str(acc))"
   ]
  }
 ],
 "metadata": {
  "kernelspec": {
   "display_name": "Python 3",
   "language": "python",
   "name": "python3"
  },
  "language_info": {
   "codemirror_mode": {
    "name": "ipython",
    "version": 3
   },
   "file_extension": ".py",
   "mimetype": "text/x-python",
   "name": "python",
   "nbconvert_exporter": "python",
   "pygments_lexer": "ipython3",
   "version": "3.7.9"
  }
 },
 "nbformat": 4,
 "nbformat_minor": 4
}
