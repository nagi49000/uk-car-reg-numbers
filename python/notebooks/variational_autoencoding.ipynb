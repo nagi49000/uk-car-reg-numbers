{
 "cells": [
  {
   "cell_type": "markdown",
   "metadata": {},
   "source": [
    "# Build a variational autoencoder\n",
    "\n",
    "### References\n",
    "\n",
    "https://blog.keras.io/building-autoencoders-in-keras.html\n",
    "\n",
    "https://towardsdatascience.com/understanding-variational-autoencoders-vaes-f70510919f73"
   ]
  },
  {
   "cell_type": "code",
   "execution_count": 1,
   "metadata": {},
   "outputs": [],
   "source": [
    "import sys\n",
    "import numpy as np\n",
    "import keras\n",
    "from keras import regularizers\n",
    "from keras import layers\n",
    "from keras import backend\n",
    "import random\n",
    "\n",
    "if '..' not in sys.path:\n",
    "    sys.path.append('..')\n",
    "from car_reg_generator.car_reg_generator.uk_reg import UkRegGenerator\n",
    "from car_reg_generator.car_reg_generator.uk_reg import UkRegBowVectorizer"
   ]
  },
  {
   "cell_type": "markdown",
   "metadata": {},
   "source": [
    "### Data generation"
   ]
  },
  {
   "cell_type": "code",
   "execution_count": 2,
   "metadata": {},
   "outputs": [
    {
     "name": "stdout",
     "output_type": "stream",
     "text": [
      "36\n"
     ]
    }
   ],
   "source": [
    "n_train = 10000\n",
    "n_test = 1000\n",
    "\n",
    "random.seed(0)\n",
    "g = UkRegGenerator()\n",
    "v = UkRegBowVectorizer()\n",
    "\n",
    "train_strs = [g.get_reg()[-1:] for _ in range(n_train)]\n",
    "train_vecs = np.array([v.vectorize(x) for x in train_strs])\n",
    "test_strs = [g.get_reg()[-1:] for _ in range(n_test)]\n",
    "test_vecs = np.array([v.vectorize(x) for x in test_strs])\n",
    "\n",
    "vec_length = len(train_vecs[0])\n",
    "print(vec_length)"
   ]
  },
  {
   "cell_type": "markdown",
   "metadata": {},
   "source": [
    "### Variational autoencoder"
   ]
  },
  {
   "cell_type": "code",
   "execution_count": 3,
   "metadata": {},
   "outputs": [],
   "source": [
    "latent_dim = 50\n",
    "intermediate_dim = 100\n",
    "original_dim = vec_length\n",
    "\n",
    "inputs = keras.Input(shape=(original_dim,))\n",
    "h = layers.Dense(intermediate_dim, activation='relu')(inputs)\n",
    "z_mean = layers.Dense(latent_dim)(h)\n",
    "z_log_sigma = layers.Dense(latent_dim)(h)\n",
    "\n",
    "def sampling(args):\n",
    "    z_mean, z_log_sigma = args\n",
    "    epsilon = backend.random_normal(shape=(backend.shape(z_mean)[0], latent_dim),\n",
    "                                    mean=0., stddev=0.1)\n",
    "    return z_mean + backend.exp(z_log_sigma) * epsilon\n",
    "\n",
    "z = layers.Lambda(sampling)([z_mean, z_log_sigma])\n",
    "\n",
    "encoder = keras.Model(inputs, [z_mean, z_log_sigma, z], name='encoder')\n",
    "\n",
    "latent_inputs = keras.Input(shape=(latent_dim,), name='z_sampling')\n",
    "x = layers.Dense(intermediate_dim, activation='relu')(latent_inputs)\n",
    "outputs = layers.Dense(original_dim, activation='sigmoid')(x)\n",
    "decoder = keras.Model(latent_inputs, outputs, name='decoder')\n",
    "\n",
    "outputs = decoder(encoder(inputs)[2])\n",
    "vae = keras.Model(inputs, outputs, name='vae_mlp')\n",
    "\n",
    "reconstruction_loss = keras.losses.binary_crossentropy(inputs, outputs)\n",
    "reconstruction_loss *= original_dim\n",
    "kl_loss = 1 + z_log_sigma - backend.square(z_mean) - backend.exp(z_log_sigma)\n",
    "kl_loss = backend.sum(kl_loss, axis=-1)\n",
    "kl_loss *= -0.5\n",
    "vae_loss = backend.mean(reconstruction_loss + kl_loss)\n",
    "vae.add_loss(vae_loss)\n",
    "vae.compile(optimizer='adam')"
   ]
  },
  {
   "cell_type": "code",
   "execution_count": 4,
   "metadata": {
    "scrolled": true
   },
   "outputs": [
    {
     "name": "stdout",
     "output_type": "stream",
     "text": [
      "Epoch 1/50\n",
      "WARNING:tensorflow:Gradients do not exist for variables ['dense_4/kernel:0', 'dense_4/bias:0'] when minimizing the loss.\n",
      "WARNING:tensorflow:Gradients do not exist for variables ['dense_4/kernel:0', 'dense_4/bias:0'] when minimizing the loss.\n",
      "WARNING:tensorflow:Gradients do not exist for variables ['dense_4/kernel:0', 'dense_4/bias:0'] when minimizing the loss.\n",
      "WARNING:tensorflow:Gradients do not exist for variables ['dense_4/kernel:0', 'dense_4/bias:0'] when minimizing the loss.\n",
      "40/40 [==============================] - 1s 21ms/step - loss: 24.1960 - val_loss: 22.3722\n",
      "Epoch 2/50\n",
      "40/40 [==============================] - 1s 13ms/step - loss: 20.5652 - val_loss: 18.9763\n",
      "Epoch 3/50\n",
      "40/40 [==============================] - 1s 15ms/step - loss: 17.7975 - val_loss: 16.7764\n",
      "Epoch 4/50\n",
      "40/40 [==============================] - 1s 14ms/step - loss: 15.9516 - val_loss: 15.2717\n",
      "Epoch 5/50\n",
      "40/40 [==============================] - 1s 13ms/step - loss: 14.6392 - val_loss: 14.1023\n",
      "Epoch 6/50\n",
      "40/40 [==============================] - 1s 13ms/step - loss: 13.6105 - val_loss: 13.2277\n",
      "Epoch 7/50\n",
      "40/40 [==============================] - 1s 17ms/step - loss: 12.8010 - val_loss: 12.4805\n",
      "Epoch 8/50\n",
      "40/40 [==============================] - 1s 13ms/step - loss: 12.1276 - val_loss: 11.8691\n",
      "Epoch 9/50\n",
      "40/40 [==============================] - 1s 16ms/step - loss: 11.4182 - val_loss: 11.0895\n",
      "Epoch 10/50\n",
      "40/40 [==============================] - 1s 15ms/step - loss: 10.7702 - val_loss: 10.5423\n",
      "Epoch 11/50\n",
      "40/40 [==============================] - 0s 12ms/step - loss: 10.2836 - val_loss: 10.0924\n",
      "Epoch 12/50\n",
      "40/40 [==============================] - 1s 16ms/step - loss: 9.8377 - val_loss: 9.6913\n",
      "Epoch 13/50\n",
      "40/40 [==============================] - 1s 15ms/step - loss: 9.4688 - val_loss: 9.3299\n",
      "Epoch 14/50\n",
      "40/40 [==============================] - 1s 13ms/step - loss: 9.1044 - val_loss: 8.9916\n",
      "Epoch 15/50\n",
      "40/40 [==============================] - 1s 19ms/step - loss: 8.7761 - val_loss: 8.6805\n",
      "Epoch 16/50\n",
      "40/40 [==============================] - 1s 14ms/step - loss: 8.4739 - val_loss: 8.3640\n",
      "Epoch 17/50\n",
      "40/40 [==============================] - 1s 15ms/step - loss: 8.1729 - val_loss: 8.0829\n",
      "Epoch 18/50\n",
      "40/40 [==============================] - 1s 21ms/step - loss: 7.8965 - val_loss: 7.7913\n",
      "Epoch 19/50\n",
      "40/40 [==============================] - 1s 13ms/step - loss: 7.6212 - val_loss: 7.5217\n",
      "Epoch 20/50\n",
      "40/40 [==============================] - 1s 17ms/step - loss: 7.3498 - val_loss: 7.2530\n",
      "Epoch 21/50\n",
      "40/40 [==============================] - 1s 17ms/step - loss: 7.1017 - val_loss: 7.0120\n",
      "Epoch 22/50\n",
      "40/40 [==============================] - 1s 13ms/step - loss: 6.8834 - val_loss: 6.8047\n",
      "Epoch 23/50\n",
      "40/40 [==============================] - 1s 16ms/step - loss: 6.6778 - val_loss: 6.6159\n",
      "Epoch 24/50\n",
      "40/40 [==============================] - 1s 16ms/step - loss: 6.4993 - val_loss: 6.4216\n",
      "Epoch 25/50\n",
      "40/40 [==============================] - 0s 11ms/step - loss: 6.3330 - val_loss: 6.2776\n",
      "Epoch 26/50\n",
      "40/40 [==============================] - 1s 17ms/step - loss: 6.1694 - val_loss: 6.0994\n",
      "Epoch 27/50\n",
      "40/40 [==============================] - 1s 17ms/step - loss: 6.0110 - val_loss: 5.9500\n",
      "Epoch 28/50\n",
      "40/40 [==============================] - 1s 14ms/step - loss: 5.8791 - val_loss: 5.8219\n",
      "Epoch 29/50\n",
      "40/40 [==============================] - 1s 13ms/step - loss: 5.7484 - val_loss: 5.6782\n",
      "Epoch 30/50\n",
      "40/40 [==============================] - 1s 14ms/step - loss: 5.6167 - val_loss: 5.5647\n",
      "Epoch 31/50\n",
      "40/40 [==============================] - 1s 15ms/step - loss: 5.4805 - val_loss: 5.4387\n",
      "Epoch 32/50\n",
      "40/40 [==============================] - 1s 13ms/step - loss: 5.3741 - val_loss: 5.3255\n",
      "Epoch 33/50\n",
      "40/40 [==============================] - 1s 14ms/step - loss: 5.2494 - val_loss: 5.2130\n",
      "Epoch 34/50\n",
      "40/40 [==============================] - 1s 15ms/step - loss: 5.1492 - val_loss: 5.1078\n",
      "Epoch 35/50\n",
      "40/40 [==============================] - 1s 13ms/step - loss: 5.0393 - val_loss: 5.0128\n",
      "Epoch 36/50\n",
      "40/40 [==============================] - 1s 15ms/step - loss: 4.9386 - val_loss: 4.9129\n",
      "Epoch 37/50\n",
      "40/40 [==============================] - 1s 15ms/step - loss: 4.8562 - val_loss: 4.8042\n",
      "Epoch 38/50\n",
      "40/40 [==============================] - 1s 17ms/step - loss: 4.7683 - val_loss: 4.7306\n",
      "Epoch 39/50\n",
      "40/40 [==============================] - 1s 16ms/step - loss: 4.6788 - val_loss: 4.6445\n",
      "Epoch 40/50\n",
      "40/40 [==============================] - 1s 17ms/step - loss: 4.6037 - val_loss: 4.5534\n",
      "Epoch 41/50\n",
      "40/40 [==============================] - 1s 23ms/step - loss: 4.5174 - val_loss: 4.4993\n",
      "Epoch 42/50\n",
      "40/40 [==============================] - 1s 19ms/step - loss: 4.4400 - val_loss: 4.4261\n",
      "Epoch 43/50\n",
      "40/40 [==============================] - 1s 15ms/step - loss: 4.3674 - val_loss: 4.3436\n",
      "Epoch 44/50\n",
      "40/40 [==============================] - 1s 17ms/step - loss: 4.2935 - val_loss: 4.2641\n",
      "Epoch 45/50\n",
      "40/40 [==============================] - 1s 16ms/step - loss: 4.2253 - val_loss: 4.2117\n",
      "Epoch 46/50\n",
      "40/40 [==============================] - 0s 12ms/step - loss: 4.1630 - val_loss: 4.1455\n",
      "Epoch 47/50\n",
      "40/40 [==============================] - 1s 15ms/step - loss: 4.0983 - val_loss: 4.0819\n",
      "Epoch 48/50\n",
      "40/40 [==============================] - 1s 17ms/step - loss: 4.0403 - val_loss: 4.0212\n",
      "Epoch 49/50\n",
      "40/40 [==============================] - 1s 17ms/step - loss: 3.9788 - val_loss: 3.9673\n",
      "Epoch 50/50\n",
      "40/40 [==============================] - 1s 19ms/step - loss: 3.9228 - val_loss: 3.9098\n"
     ]
    },
    {
     "data": {
      "text/plain": [
       "<tensorflow.python.keras.callbacks.History at 0x7fdff82579d0>"
      ]
     },
     "execution_count": 4,
     "metadata": {},
     "output_type": "execute_result"
    }
   ],
   "source": [
    "vae.fit(train_vecs, train_vecs,\n",
    "        epochs=50,\n",
    "        batch_size=256,\n",
    "        shuffle=True,\n",
    "        validation_data=(test_vecs, test_vecs))"
   ]
  },
  {
   "cell_type": "code",
   "execution_count": 5,
   "metadata": {},
   "outputs": [
    {
     "name": "stdout",
     "output_type": "stream",
     "text": [
      "['I', 'R', 'O', 'I', 'K', 'M', 'N', 'E', 'Z', 'U']\n",
      "['I', 'R', 'O', 'I', 'K', 'M', 'N', 'E', 'Z', 'U']\n",
      "accuracy = 1.0\n"
     ]
    }
   ],
   "source": [
    "decoded_regs = vae.predict(test_vecs)\n",
    "print(test_strs[:10])\n",
    "print([v.recover(x) for x in decoded_regs[:10]])\n",
    "acc = np.sum([v.recover(x) == y for x, y in zip(decoded_regs, test_strs)]) / len(test_strs)\n",
    "print('accuracy = ' + str(acc))"
   ]
  }
 ],
 "metadata": {
  "kernelspec": {
   "display_name": "Python 3",
   "language": "python",
   "name": "python3"
  },
  "language_info": {
   "codemirror_mode": {
    "name": "ipython",
    "version": 3
   },
   "file_extension": ".py",
   "mimetype": "text/x-python",
   "name": "python",
   "nbconvert_exporter": "python",
   "pygments_lexer": "ipython3",
   "version": "3.8.6"
  }
 },
 "nbformat": 4,
 "nbformat_minor": 4
}
