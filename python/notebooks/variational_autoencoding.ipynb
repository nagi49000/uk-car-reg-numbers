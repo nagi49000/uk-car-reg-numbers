{
 "cells": [
  {
   "cell_type": "markdown",
   "metadata": {},
   "source": [
    "# Build a variational autoencoder\n",
    "\n",
    "### References\n",
    "\n",
    "https://blog.keras.io/building-autoencoders-in-keras.html\n",
    "\n",
    "https://towardsdatascience.com/understanding-variational-autoencoders-vaes-f70510919f73"
   ]
  },
  {
   "cell_type": "code",
   "execution_count": 1,
   "metadata": {},
   "outputs": [],
   "source": [
    "import sys\n",
    "import numpy as np\n",
    "import keras\n",
    "from keras import regularizers\n",
    "from keras import layers\n",
    "from keras import backend\n",
    "import random\n",
    "\n",
    "if '..' not in sys.path:\n",
    "    sys.path.append('..')\n",
    "from car_reg_generator.car_reg_generator.uk_reg import UkRegGenerator\n",
    "from car_reg_generator.car_reg_generator.uk_reg import UkRegBowVectorizer"
   ]
  },
  {
   "cell_type": "markdown",
   "metadata": {},
   "source": [
    "### Data generation"
   ]
  },
  {
   "cell_type": "code",
   "execution_count": 2,
   "metadata": {},
   "outputs": [
    {
     "name": "stdout",
     "output_type": "stream",
     "text": [
      "108\n"
     ]
    }
   ],
   "source": [
    "n_train = 10000\n",
    "n_test = 1000\n",
    "\n",
    "random.seed(0)\n",
    "g = UkRegGenerator()\n",
    "v = UkRegBowVectorizer()\n",
    "\n",
    "train_strs = [g.get_reg()[-3:] for _ in range(n_train)]\n",
    "train_vecs = np.array([v.vectorize(x) for x in train_strs])\n",
    "test_strs = [g.get_reg()[-3:] for _ in range(n_test)]\n",
    "test_vecs = np.array([v.vectorize(x) for x in test_strs])\n",
    "\n",
    "vec_length = len(train_vecs[0])\n",
    "print(vec_length)"
   ]
  },
  {
   "cell_type": "markdown",
   "metadata": {},
   "source": [
    "### Variational autoencoder"
   ]
  },
  {
   "cell_type": "code",
   "execution_count": 3,
   "metadata": {},
   "outputs": [],
   "source": [
    "latent_dim = 100\n",
    "intermediate_dim = 300\n",
    "original_dim = vec_length\n",
    "\n",
    "inputs = keras.Input(shape=(original_dim,))\n",
    "h = layers.Dense(intermediate_dim, activation='relu')(inputs)\n",
    "z_mean = layers.Dense(latent_dim)(h)\n",
    "z_log_sigma = layers.Dense(latent_dim)(h)\n",
    "\n",
    "def sampling(args):\n",
    "    z_mean, z_log_sigma = args\n",
    "    epsilon = backend.random_normal(shape=(backend.shape(z_mean)[0], latent_dim),\n",
    "                                    mean=0., stddev=0.1)\n",
    "    return z_mean + backend.exp(z_log_sigma) * epsilon\n",
    "\n",
    "z = layers.Lambda(sampling)([z_mean, z_log_sigma])\n",
    "\n",
    "encoder = keras.Model(inputs, [z_mean, z_log_sigma, z], name='encoder')\n",
    "\n",
    "latent_inputs = keras.Input(shape=(latent_dim,), name='z_sampling')\n",
    "x = layers.Dense(intermediate_dim, activation='relu')(latent_inputs)\n",
    "outputs = layers.Dense(original_dim, activation='sigmoid')(x)\n",
    "decoder = keras.Model(latent_inputs, outputs, name='decoder')\n",
    "\n",
    "outputs = decoder(encoder(inputs)[2])\n",
    "vae = keras.Model(inputs, outputs, name='vae_mlp')\n",
    "\n",
    "reconstruction_loss = keras.losses.binary_crossentropy(inputs, outputs)\n",
    "reconstruction_loss *= original_dim\n",
    "kl_loss = 1 + z_log_sigma - backend.square(z_mean) - backend.exp(z_log_sigma)\n",
    "kl_loss = backend.sum(kl_loss, axis=-1)\n",
    "kl_loss *= -0.5\n",
    "vae_loss = backend.mean(reconstruction_loss + kl_loss)\n",
    "vae.add_loss(vae_loss)\n",
    "vae.compile(optimizer='adam')"
   ]
  },
  {
   "cell_type": "code",
   "execution_count": 4,
   "metadata": {
    "scrolled": true
   },
   "outputs": [
    {
     "name": "stdout",
     "output_type": "stream",
     "text": [
      "Epoch 1/50\n",
      "WARNING:tensorflow:Gradients do not exist for variables ['dense_4/kernel:0', 'dense_4/bias:0'] when minimizing the loss.\n",
      "WARNING:tensorflow:Gradients do not exist for variables ['dense_4/kernel:0', 'dense_4/bias:0'] when minimizing the loss.\n",
      "WARNING:tensorflow:Gradients do not exist for variables ['dense_4/kernel:0', 'dense_4/bias:0'] when minimizing the loss.\n",
      "WARNING:tensorflow:Gradients do not exist for variables ['dense_4/kernel:0', 'dense_4/bias:0'] when minimizing the loss.\n",
      "40/40 [==============================] - 1s 34ms/step - loss: 62.4613 - val_loss: 49.0878\n",
      "Epoch 2/50\n",
      "40/40 [==============================] - 1s 23ms/step - loss: 42.4336 - val_loss: 37.2717\n",
      "Epoch 3/50\n",
      "40/40 [==============================] - 1s 22ms/step - loss: 34.4249 - val_loss: 31.9107\n",
      "Epoch 4/50\n",
      "40/40 [==============================] - 1s 27ms/step - loss: 30.3270 - val_loss: 28.8406\n",
      "Epoch 5/50\n",
      "40/40 [==============================] - 1s 22ms/step - loss: 27.6844 - val_loss: 26.6240\n",
      "Epoch 6/50\n",
      "40/40 [==============================] - 1s 23ms/step - loss: 25.8411 - val_loss: 25.0436\n",
      "Epoch 7/50\n",
      "40/40 [==============================] - 1s 27ms/step - loss: 24.4823 - val_loss: 23.8034\n",
      "Epoch 8/50\n",
      "40/40 [==============================] - 1s 18ms/step - loss: 23.3020 - val_loss: 22.7263\n",
      "Epoch 9/50\n",
      "40/40 [==============================] - 1s 20ms/step - loss: 22.2184 - val_loss: 21.6944\n",
      "Epoch 10/50\n",
      "40/40 [==============================] - 1s 20ms/step - loss: 21.1721 - val_loss: 20.5767\n",
      "Epoch 11/50\n",
      "40/40 [==============================] - 1s 21ms/step - loss: 20.0688 - val_loss: 19.5373\n",
      "Epoch 12/50\n",
      "40/40 [==============================] - 1s 21ms/step - loss: 19.0839 - val_loss: 18.6381\n",
      "Epoch 13/50\n",
      "40/40 [==============================] - 1s 23ms/step - loss: 18.1627 - val_loss: 17.6865\n",
      "Epoch 14/50\n",
      "40/40 [==============================] - 1s 21ms/step - loss: 17.1475 - val_loss: 16.6132\n",
      "Epoch 15/50\n",
      "40/40 [==============================] - 1s 26ms/step - loss: 16.1876 - val_loss: 15.7173\n",
      "Epoch 16/50\n",
      "40/40 [==============================] - 1s 21ms/step - loss: 15.2174 - val_loss: 14.8062\n",
      "Epoch 17/50\n",
      "40/40 [==============================] - 1s 18ms/step - loss: 14.4270 - val_loss: 14.0710\n",
      "Epoch 18/50\n",
      "40/40 [==============================] - 1s 17ms/step - loss: 13.7416 - val_loss: 13.4338\n",
      "Epoch 19/50\n",
      "40/40 [==============================] - 1s 18ms/step - loss: 13.1379 - val_loss: 12.8588\n",
      "Epoch 20/50\n",
      "40/40 [==============================] - 1s 18ms/step - loss: 12.5765 - val_loss: 12.3310\n",
      "Epoch 21/50\n",
      "40/40 [==============================] - 1s 18ms/step - loss: 12.0732 - val_loss: 11.8571\n",
      "Epoch 22/50\n",
      "40/40 [==============================] - 1s 20ms/step - loss: 11.6385 - val_loss: 11.4544\n",
      "Epoch 23/50\n",
      "40/40 [==============================] - 1s 18ms/step - loss: 11.2357 - val_loss: 11.0640\n",
      "Epoch 24/50\n",
      "40/40 [==============================] - 1s 18ms/step - loss: 10.8740 - val_loss: 10.7256\n",
      "Epoch 25/50\n",
      "40/40 [==============================] - 1s 19ms/step - loss: 10.5271 - val_loss: 10.3877\n",
      "Epoch 26/50\n",
      "40/40 [==============================] - 1s 20ms/step - loss: 10.2100 - val_loss: 10.0594\n",
      "Epoch 27/50\n",
      "40/40 [==============================] - 1s 19ms/step - loss: 9.9036 - val_loss: 9.7948\n",
      "Epoch 28/50\n",
      "40/40 [==============================] - 1s 28ms/step - loss: 9.6337 - val_loss: 9.5133\n",
      "Epoch 29/50\n",
      "40/40 [==============================] - 1s 32ms/step - loss: 9.3743 - val_loss: 9.2605\n",
      "Epoch 30/50\n",
      "40/40 [==============================] - 1s 32ms/step - loss: 9.1332 - val_loss: 9.0284\n",
      "Epoch 31/50\n",
      "40/40 [==============================] - 1s 30ms/step - loss: 8.9174 - val_loss: 8.8230\n",
      "Epoch 32/50\n",
      "40/40 [==============================] - 1s 29ms/step - loss: 8.6890 - val_loss: 8.5943\n",
      "Epoch 33/50\n",
      "40/40 [==============================] - 1s 29ms/step - loss: 8.4885 - val_loss: 8.4276\n",
      "Epoch 34/50\n",
      "40/40 [==============================] - 1s 26ms/step - loss: 8.3088 - val_loss: 8.2519\n",
      "Epoch 35/50\n",
      "40/40 [==============================] - 1s 28ms/step - loss: 8.1339 - val_loss: 8.0779\n",
      "Epoch 36/50\n",
      "40/40 [==============================] - 1s 27ms/step - loss: 7.9683 - val_loss: 7.9193\n",
      "Epoch 37/50\n",
      "40/40 [==============================] - 1s 27ms/step - loss: 7.8125 - val_loss: 7.7430\n",
      "Epoch 38/50\n",
      "40/40 [==============================] - 1s 27ms/step - loss: 7.6520 - val_loss: 7.6037\n",
      "Epoch 39/50\n",
      "40/40 [==============================] - 1s 31ms/step - loss: 7.5051 - val_loss: 7.4744\n",
      "Epoch 40/50\n",
      "40/40 [==============================] - 1s 26ms/step - loss: 7.3588 - val_loss: 7.2977\n",
      "Epoch 41/50\n",
      "40/40 [==============================] - 1s 28ms/step - loss: 7.2381 - val_loss: 7.2003\n",
      "Epoch 42/50\n",
      "40/40 [==============================] - 1s 28ms/step - loss: 7.1076 - val_loss: 7.0771\n",
      "Epoch 43/50\n",
      "40/40 [==============================] - 1s 27ms/step - loss: 6.9843 - val_loss: 6.9629\n",
      "Epoch 44/50\n",
      "40/40 [==============================] - 1s 28ms/step - loss: 6.8802 - val_loss: 6.8354\n",
      "Epoch 45/50\n",
      "40/40 [==============================] - 1s 30ms/step - loss: 6.7509 - val_loss: 6.7078\n",
      "Epoch 46/50\n",
      "40/40 [==============================] - 1s 26ms/step - loss: 6.6379 - val_loss: 6.6189\n",
      "Epoch 47/50\n",
      "40/40 [==============================] - 1s 35ms/step - loss: 6.5349 - val_loss: 6.5079\n",
      "Epoch 48/50\n",
      "40/40 [==============================] - 1s 34ms/step - loss: 6.4319 - val_loss: 6.4063\n",
      "Epoch 49/50\n",
      "40/40 [==============================] - 1s 22ms/step - loss: 6.3331 - val_loss: 6.3194\n",
      "Epoch 50/50\n",
      "40/40 [==============================] - 1s 25ms/step - loss: 6.2429 - val_loss: 6.2087\n"
     ]
    },
    {
     "data": {
      "text/plain": [
       "<tensorflow.python.keras.callbacks.History at 0x7f96dc596d90>"
      ]
     },
     "execution_count": 4,
     "metadata": {},
     "output_type": "execute_result"
    }
   ],
   "source": [
    "vae.fit(train_vecs, train_vecs,\n",
    "        epochs=50,\n",
    "        batch_size=256,\n",
    "        shuffle=True,\n",
    "        validation_data=(test_vecs, test_vecs))"
   ]
  },
  {
   "cell_type": "code",
   "execution_count": 5,
   "metadata": {},
   "outputs": [
    {
     "name": "stdout",
     "output_type": "stream",
     "text": [
      "['FVI', 'DCR', 'JWO', 'XKI', 'FNK', 'XIM', 'NON', 'JCE', 'KTZ', 'DFU']\n",
      "['FVI', 'DCR', 'JWO', 'XKI', 'FNK', 'XIM', 'NON', 'JCE', 'KTZ', 'DFU']\n",
      "accuracy = 0.999\n"
     ]
    }
   ],
   "source": [
    "decoded_regs = vae.predict(test_vecs)\n",
    "print(test_strs[:10])\n",
    "print([v.recover(x) for x in decoded_regs[:10]])\n",
    "acc = np.sum([v.recover(x) == y for x, y in zip(decoded_regs, test_strs)]) / len(test_strs)\n",
    "print('accuracy = ' + str(acc))"
   ]
  }
 ],
 "metadata": {
  "kernelspec": {
   "display_name": "Python 3",
   "language": "python",
   "name": "python3"
  },
  "language_info": {
   "codemirror_mode": {
    "name": "ipython",
    "version": 3
   },
   "file_extension": ".py",
   "mimetype": "text/x-python",
   "name": "python",
   "nbconvert_exporter": "python",
   "pygments_lexer": "ipython3",
   "version": "3.8.6"
  }
 },
 "nbformat": 4,
 "nbformat_minor": 4
}
