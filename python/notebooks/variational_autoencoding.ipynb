{
 "cells": [
  {
   "cell_type": "markdown",
   "metadata": {},
   "source": [
    "# Build a variational autoencoder\n",
    "\n",
    "Based on the ability to generate UK car registration numbers, one can build a dataset of training and test data. With a suitable vectorizer, one can go ahead and make an autoencoder.\n",
    "\n",
    "The decoder part of the variational encoder can then be used to generate new reg numbers.\n",
    "\n",
    "### References\n",
    "\n",
    "https://blog.keras.io/building-autoencoders-in-keras.html\n",
    "\n",
    "https://towardsdatascience.com/understanding-variational-autoencoders-vaes-f70510919f73"
   ]
  },
  {
   "cell_type": "code",
   "execution_count": 1,
   "metadata": {},
   "outputs": [],
   "source": [
    "import sys\n",
    "import numpy as np\n",
    "import keras\n",
    "from keras import regularizers\n",
    "from keras import layers\n",
    "from keras import backend\n",
    "from keras import optimizers\n",
    "import random\n",
    "\n",
    "if '..' not in sys.path:\n",
    "    sys.path.append('..')\n",
    "from car_reg_generator.car_reg_generator.uk_reg import UkRegGenerator\n",
    "from car_reg_generator.car_reg_generator.uk_reg import UkRegDvlaVectorizer"
   ]
  },
  {
   "cell_type": "markdown",
   "metadata": {},
   "source": [
    "### Data generation"
   ]
  },
  {
   "cell_type": "code",
   "execution_count": 2,
   "metadata": {},
   "outputs": [
    {
     "name": "stdout",
     "output_type": "stream",
     "text": [
      "input vector length = 150\n",
      "actual number of validation samples = 1000\n",
      "actual number of test samples = 1000\n"
     ]
    }
   ],
   "source": [
    "n_train = 10000\n",
    "n_val = 1000\n",
    "n_test = 1000\n",
    "\n",
    "random.seed(0)\n",
    "g = UkRegGenerator()\n",
    "v = UkRegDvlaVectorizer()\n",
    "\n",
    "train_strs = [g.get_reg() for _ in range(n_train)]\n",
    "train_vecs = np.array([v.vectorize(x) for x in train_strs])\n",
    "val_strs = [g.get_reg() for _ in range(n_val)]\n",
    "val_strs = [x for x in val_strs if x not in set(train_strs)]  # sanity check\n",
    "val_vecs = np.array([v.vectorize(x) for x in val_strs])\n",
    "test_strs = [g.get_reg() for _ in range(n_test)]\n",
    "test_strs = [x for x in test_strs if x not in set(train_strs) | set(val_strs)]  # sanity check\n",
    "test_vecs = np.array([v.vectorize(x) for x in test_strs])\n",
    "\n",
    "vec_length = len(train_vecs[0])\n",
    "print('input vector length = ' + str(vec_length))\n",
    "print('actual number of validation samples = ' + str(len(val_strs)))\n",
    "print('actual number of test samples = ' + str(len(test_strs)))"
   ]
  },
  {
   "cell_type": "markdown",
   "metadata": {},
   "source": [
    "### Variational autoencoder\n",
    "\n",
    "Design the architecture"
   ]
  },
  {
   "cell_type": "code",
   "execution_count": 3,
   "metadata": {},
   "outputs": [],
   "source": [
    "latent_dim = 15\n",
    "original_dim = vec_length\n",
    "\n",
    "### Define the encoder\n",
    "inputs = keras.Input(shape=(original_dim,))\n",
    "h = inputs\n",
    "h = layers.Dense(70, activation='relu')(h)\n",
    "h = layers.Dense(30, activation='relu')(h)\n",
    "z_mean = layers.Dense(latent_dim)(h)\n",
    "z_log_sigma = layers.Dense(latent_dim)(h)\n",
    "\n",
    "def sampling(args):\n",
    "    z_mean, z_log_sigma = args\n",
    "    epsilon = backend.random_normal(shape=(backend.shape(z_mean)[0], latent_dim),\n",
    "                                    mean=0., stddev=0.1)\n",
    "    return z_mean + backend.exp(z_log_sigma) * epsilon\n",
    "\n",
    "z = layers.Lambda(sampling)([z_mean, z_log_sigma])\n",
    "\n",
    "encoder = keras.Model(inputs, [z_mean, z_log_sigma, z], name='encoder')\n",
    "\n",
    "### Define the decoder\n",
    "latent_inputs = keras.Input(shape=(latent_dim,), name='z_sampling')\n",
    "x = latent_inputs\n",
    "x = layers.Dense(30, activation='relu')(x)\n",
    "x = layers.Dense(70, activation='relu')(x)\n",
    "x = layers.Dense(vec_length, activation='sigmoid')(x)\n",
    "outputs = x\n",
    "decoder = keras.Model(latent_inputs, outputs, name='decoder')\n",
    "\n",
    "outputs = decoder(encoder(inputs)[2])\n",
    "vae = keras.Model(inputs, outputs, name='vae_mlp')\n",
    "\n",
    "### Define the loss function\n",
    "reconstruction_loss = keras.losses.binary_crossentropy(inputs, outputs)\n",
    "reconstruction_loss *= original_dim\n",
    "kl_loss = 1 + z_log_sigma - backend.square(z_mean) - backend.exp(z_log_sigma)\n",
    "kl_loss = backend.sum(kl_loss, axis=-1)\n",
    "kl_loss *= -0.5\n",
    "vae_loss = backend.mean(reconstruction_loss + kl_loss)\n",
    "vae.add_loss(vae_loss)"
   ]
  },
  {
   "cell_type": "markdown",
   "metadata": {},
   "source": [
    "Do some training"
   ]
  },
  {
   "cell_type": "code",
   "execution_count": 4,
   "metadata": {
    "scrolled": true
   },
   "outputs": [
    {
     "name": "stdout",
     "output_type": "stream",
     "text": [
      "Epoch 1/120\n",
      "1250/1250 [==============================] - 1s 839us/step - loss: 28.3340 - val_loss: 25.9130\n",
      "Epoch 2/120\n",
      "1250/1250 [==============================] - 1s 739us/step - loss: 24.5052 - val_loss: 23.5931\n",
      "Epoch 3/120\n",
      "1250/1250 [==============================] - 1s 744us/step - loss: 22.7444 - val_loss: 22.5204\n",
      "Epoch 4/120\n",
      "1250/1250 [==============================] - 1s 736us/step - loss: 21.6124 - val_loss: 21.4817\n",
      "Epoch 5/120\n",
      "1250/1250 [==============================] - 1s 752us/step - loss: 20.7487 - val_loss: 20.7543\n",
      "Epoch 6/120\n",
      "1250/1250 [==============================] - 1s 746us/step - loss: 20.0327 - val_loss: 20.1579\n",
      "Epoch 7/120\n",
      "1250/1250 [==============================] - 1s 755us/step - loss: 19.4483 - val_loss: 19.5551\n",
      "Epoch 8/120\n",
      "1250/1250 [==============================] - 1s 754us/step - loss: 19.0553 - val_loss: 19.3199\n",
      "Epoch 9/120\n",
      "1250/1250 [==============================] - 1s 754us/step - loss: 18.7003 - val_loss: 18.9347\n",
      "Epoch 10/120\n",
      "1250/1250 [==============================] - 1s 760us/step - loss: 18.3545 - val_loss: 18.5984\n",
      "Epoch 11/120\n",
      "1250/1250 [==============================] - 1s 766us/step - loss: 18.0312 - val_loss: 18.2847\n",
      "Epoch 12/120\n",
      "1250/1250 [==============================] - 1s 759us/step - loss: 17.7260 - val_loss: 18.0797\n",
      "Epoch 13/120\n",
      "1250/1250 [==============================] - 1s 760us/step - loss: 17.4282 - val_loss: 17.7274\n",
      "Epoch 14/120\n",
      "1250/1250 [==============================] - 1s 761us/step - loss: 17.1974 - val_loss: 17.6370\n",
      "Epoch 15/120\n",
      "1250/1250 [==============================] - 1s 762us/step - loss: 16.9820 - val_loss: 17.3196\n",
      "Epoch 16/120\n",
      "1250/1250 [==============================] - 1s 771us/step - loss: 16.7806 - val_loss: 17.2205\n",
      "Epoch 17/120\n",
      "1250/1250 [==============================] - 1s 765us/step - loss: 16.5745 - val_loss: 16.9493\n",
      "Epoch 18/120\n",
      "1250/1250 [==============================] - 1s 777us/step - loss: 16.4160 - val_loss: 16.8481\n",
      "Epoch 19/120\n",
      "1250/1250 [==============================] - 1s 757us/step - loss: 16.2507 - val_loss: 16.6231\n",
      "Epoch 20/120\n",
      "1250/1250 [==============================] - 1s 774us/step - loss: 16.0786 - val_loss: 16.5421\n",
      "Epoch 21/120\n",
      "1250/1250 [==============================] - 1s 764us/step - loss: 15.9186 - val_loss: 16.3737\n",
      "Epoch 22/120\n",
      "1250/1250 [==============================] - 1s 770us/step - loss: 15.7134 - val_loss: 16.1487\n",
      "Epoch 23/120\n",
      "1250/1250 [==============================] - 1s 766us/step - loss: 15.5554 - val_loss: 16.0773\n",
      "Epoch 24/120\n",
      "1250/1250 [==============================] - 1s 774us/step - loss: 15.3324 - val_loss: 15.8212\n",
      "Epoch 25/120\n",
      "1250/1250 [==============================] - 1s 762us/step - loss: 15.0871 - val_loss: 15.4854\n",
      "Epoch 26/120\n",
      "1250/1250 [==============================] - 1s 767us/step - loss: 14.8101 - val_loss: 15.1683\n",
      "Epoch 27/120\n",
      "1250/1250 [==============================] - 1s 776us/step - loss: 14.4646 - val_loss: 14.7690\n",
      "Epoch 28/120\n",
      "1250/1250 [==============================] - 1s 764us/step - loss: 14.2133 - val_loss: 14.5919\n",
      "Epoch 29/120\n",
      "1250/1250 [==============================] - 1s 776us/step - loss: 13.9879 - val_loss: 14.4280\n",
      "Epoch 30/120\n",
      "1250/1250 [==============================] - 1s 767us/step - loss: 13.7869 - val_loss: 14.2139\n",
      "Epoch 31/120\n",
      "1250/1250 [==============================] - 1s 771us/step - loss: 13.5669 - val_loss: 14.1404\n",
      "Epoch 32/120\n",
      "1250/1250 [==============================] - 1s 769us/step - loss: 13.3765 - val_loss: 13.7453\n",
      "Epoch 33/120\n",
      "1250/1250 [==============================] - 1s 775us/step - loss: 13.2164 - val_loss: 13.7492\n",
      "Epoch 34/120\n",
      "1250/1250 [==============================] - 1s 773us/step - loss: 13.0459 - val_loss: 13.5690\n",
      "Epoch 35/120\n",
      "1250/1250 [==============================] - 1s 776us/step - loss: 12.9107 - val_loss: 13.3066\n",
      "Epoch 36/120\n",
      "1250/1250 [==============================] - 1s 770us/step - loss: 12.7340 - val_loss: 13.0692\n",
      "Epoch 37/120\n",
      "1250/1250 [==============================] - 1s 781us/step - loss: 12.6144 - val_loss: 12.9832\n",
      "Epoch 38/120\n",
      "1250/1250 [==============================] - 1s 779us/step - loss: 12.4990 - val_loss: 12.8613\n",
      "Epoch 39/120\n",
      "1250/1250 [==============================] - 1s 771us/step - loss: 12.3873 - val_loss: 12.9348\n",
      "Epoch 40/120\n",
      "1250/1250 [==============================] - 1s 769us/step - loss: 12.2602 - val_loss: 12.7570\n",
      "Epoch 41/120\n",
      "1250/1250 [==============================] - 1s 767us/step - loss: 12.1443 - val_loss: 12.7234\n",
      "Epoch 42/120\n",
      "1250/1250 [==============================] - 1s 767us/step - loss: 12.0141 - val_loss: 12.4809\n",
      "Epoch 43/120\n",
      "1250/1250 [==============================] - 1s 770us/step - loss: 11.8850 - val_loss: 12.3548\n",
      "Epoch 44/120\n",
      "1250/1250 [==============================] - 1s 768us/step - loss: 11.7345 - val_loss: 12.2173\n",
      "Epoch 45/120\n",
      "1250/1250 [==============================] - 1s 778us/step - loss: 11.6352 - val_loss: 12.1466\n",
      "Epoch 46/120\n",
      "1250/1250 [==============================] - 1s 776us/step - loss: 11.4793 - val_loss: 12.0248\n",
      "Epoch 47/120\n",
      "1250/1250 [==============================] - 1s 779us/step - loss: 11.3520 - val_loss: 11.9288\n",
      "Epoch 48/120\n",
      "1250/1250 [==============================] - 1s 766us/step - loss: 11.2342 - val_loss: 11.6860\n",
      "Epoch 49/120\n",
      "1250/1250 [==============================] - 1s 768us/step - loss: 11.1011 - val_loss: 11.6968\n",
      "Epoch 50/120\n",
      "1250/1250 [==============================] - 1s 770us/step - loss: 10.9645 - val_loss: 11.3705\n",
      "Epoch 51/120\n",
      "1250/1250 [==============================] - 1s 775us/step - loss: 10.8410 - val_loss: 11.2282\n",
      "Epoch 52/120\n",
      "1250/1250 [==============================] - 1s 767us/step - loss: 10.7522 - val_loss: 11.3496\n",
      "Epoch 53/120\n",
      "1250/1250 [==============================] - 1s 774us/step - loss: 10.6327 - val_loss: 11.2287\n",
      "Epoch 54/120\n",
      "1250/1250 [==============================] - 1s 773us/step - loss: 10.5173 - val_loss: 11.2796\n",
      "Epoch 55/120\n",
      "1250/1250 [==============================] - 1s 785us/step - loss: 10.4032 - val_loss: 10.9817\n",
      "Epoch 56/120\n",
      "1250/1250 [==============================] - 1s 762us/step - loss: 10.2902 - val_loss: 10.8808\n",
      "Epoch 57/120\n",
      "1250/1250 [==============================] - 1s 761us/step - loss: 10.1771 - val_loss: 10.7326\n",
      "Epoch 58/120\n",
      "1250/1250 [==============================] - 1s 772us/step - loss: 10.1023 - val_loss: 10.6200\n",
      "Epoch 59/120\n",
      "1250/1250 [==============================] - 1s 771us/step - loss: 9.9967 - val_loss: 10.4570\n",
      "Epoch 60/120\n",
      "1250/1250 [==============================] - 1s 779us/step - loss: 9.8845 - val_loss: 10.6200\n",
      "Epoch 61/120\n",
      "1250/1250 [==============================] - 1s 768us/step - loss: 9.8222 - val_loss: 10.4067\n",
      "Epoch 62/120\n",
      "1250/1250 [==============================] - 1s 768us/step - loss: 9.7642 - val_loss: 10.3238\n",
      "Epoch 63/120\n",
      "1250/1250 [==============================] - 1s 773us/step - loss: 9.6630 - val_loss: 10.2166\n",
      "Epoch 64/120\n",
      "1250/1250 [==============================] - 1s 774us/step - loss: 9.5825 - val_loss: 10.0094\n",
      "Epoch 65/120\n",
      "1250/1250 [==============================] - 1s 768us/step - loss: 9.4942 - val_loss: 10.1274\n",
      "Epoch 66/120\n",
      "1250/1250 [==============================] - 1s 772us/step - loss: 9.4633 - val_loss: 9.8326\n",
      "Epoch 67/120\n",
      "1250/1250 [==============================] - 1s 787us/step - loss: 9.3800 - val_loss: 10.2463\n",
      "Epoch 68/120\n",
      "1250/1250 [==============================] - 1s 831us/step - loss: 9.2843 - val_loss: 9.9731\n",
      "Epoch 69/120\n",
      "1250/1250 [==============================] - 1s 815us/step - loss: 9.2448 - val_loss: 10.0991\n",
      "Epoch 70/120\n",
      "1250/1250 [==============================] - 1s 768us/step - loss: 9.1185 - val_loss: 9.5721\n",
      "Epoch 71/120\n",
      "1250/1250 [==============================] - 1s 778us/step - loss: 9.0467 - val_loss: 9.5704\n",
      "Epoch 72/120\n",
      "1250/1250 [==============================] - 1s 782us/step - loss: 9.0052 - val_loss: 9.5163\n",
      "Epoch 73/120\n",
      "1250/1250 [==============================] - 1s 773us/step - loss: 8.9433 - val_loss: 9.2299\n",
      "Epoch 74/120\n",
      "1250/1250 [==============================] - 1s 788us/step - loss: 8.8481 - val_loss: 9.6035\n",
      "Epoch 75/120\n",
      "1250/1250 [==============================] - 1s 828us/step - loss: 8.7832 - val_loss: 9.5827\n",
      "Epoch 76/120\n",
      "1250/1250 [==============================] - 1s 831us/step - loss: 8.7449 - val_loss: 9.1404\n",
      "Epoch 77/120\n"
     ]
    },
    {
     "name": "stdout",
     "output_type": "stream",
     "text": [
      "1250/1250 [==============================] - 1s 775us/step - loss: 8.6474 - val_loss: 9.3049\n",
      "Epoch 78/120\n",
      "1250/1250 [==============================] - 1s 736us/step - loss: 8.5933 - val_loss: 9.1973\n",
      "Epoch 79/120\n",
      "1250/1250 [==============================] - 1s 693us/step - loss: 8.4859 - val_loss: 8.9417\n",
      "Epoch 80/120\n",
      "1250/1250 [==============================] - 1s 755us/step - loss: 8.4712 - val_loss: 8.7790\n",
      "Epoch 81/120\n",
      "1250/1250 [==============================] - 1s 736us/step - loss: 8.3758 - val_loss: 8.9412\n",
      "Epoch 82/120\n",
      "1250/1250 [==============================] - 1s 693us/step - loss: 8.3266 - val_loss: 8.8840\n",
      "Epoch 83/120\n",
      "1250/1250 [==============================] - 1s 744us/step - loss: 8.2347 - val_loss: 8.5544\n",
      "Epoch 84/120\n",
      "1250/1250 [==============================] - 1s 765us/step - loss: 8.1853 - val_loss: 8.6376\n",
      "Epoch 85/120\n",
      "1250/1250 [==============================] - 1s 733us/step - loss: 8.1195 - val_loss: 8.7665\n",
      "Epoch 86/120\n",
      "1250/1250 [==============================] - 1s 776us/step - loss: 8.0581 - val_loss: 8.3007\n",
      "Epoch 87/120\n",
      "1250/1250 [==============================] - 1s 703us/step - loss: 8.0009 - val_loss: 8.6192\n",
      "Epoch 88/120\n",
      "1250/1250 [==============================] - 1s 703us/step - loss: 7.9256 - val_loss: 8.3778\n",
      "Epoch 89/120\n",
      "1250/1250 [==============================] - 1s 732us/step - loss: 7.8687 - val_loss: 8.1061\n",
      "Epoch 90/120\n",
      "1250/1250 [==============================] - 1s 774us/step - loss: 7.8102 - val_loss: 8.0134\n",
      "Epoch 91/120\n",
      "1250/1250 [==============================] - 1s 774us/step - loss: 7.7521 - val_loss: 8.2012\n",
      "Epoch 92/120\n",
      "1250/1250 [==============================] - 1s 760us/step - loss: 7.6779 - val_loss: 7.9218\n",
      "Epoch 93/120\n",
      "1250/1250 [==============================] - 1s 722us/step - loss: 7.6375 - val_loss: 8.0781\n",
      "Epoch 94/120\n",
      "1250/1250 [==============================] - 1s 727us/step - loss: 7.5831 - val_loss: 7.9634\n",
      "Epoch 95/120\n",
      "1250/1250 [==============================] - 1s 746us/step - loss: 7.5148 - val_loss: 7.7873\n",
      "Epoch 96/120\n",
      "1250/1250 [==============================] - 1s 709us/step - loss: 7.4586 - val_loss: 8.0998\n",
      "Epoch 97/120\n",
      "1250/1250 [==============================] - 1s 729us/step - loss: 7.3801 - val_loss: 7.8344\n",
      "Epoch 98/120\n",
      "1250/1250 [==============================] - 1s 711us/step - loss: 7.3232 - val_loss: 7.7354\n",
      "Epoch 99/120\n",
      "1250/1250 [==============================] - 1s 720us/step - loss: 7.2561 - val_loss: 7.4925\n",
      "Epoch 100/120\n",
      "1250/1250 [==============================] - 1s 741us/step - loss: 7.1844 - val_loss: 7.6228\n",
      "Epoch 101/120\n",
      "1250/1250 [==============================] - 1s 754us/step - loss: 7.1228 - val_loss: 7.4730\n",
      "Epoch 102/120\n",
      "1250/1250 [==============================] - 1s 739us/step - loss: 7.0793 - val_loss: 7.2783\n",
      "Epoch 103/120\n",
      "1250/1250 [==============================] - 1s 724us/step - loss: 6.9929 - val_loss: 7.2559\n",
      "Epoch 104/120\n",
      "1250/1250 [==============================] - 1s 720us/step - loss: 6.9642 - val_loss: 7.2110\n",
      "Epoch 105/120\n",
      "1250/1250 [==============================] - 1s 724us/step - loss: 6.8797 - val_loss: 7.1136\n",
      "Epoch 106/120\n",
      "1250/1250 [==============================] - 1s 762us/step - loss: 6.8104 - val_loss: 6.9597\n",
      "Epoch 107/120\n",
      "1250/1250 [==============================] - 1s 915us/step - loss: 6.7606 - val_loss: 7.0484\n",
      "Epoch 108/120\n",
      "1250/1250 [==============================] - 1s 799us/step - loss: 6.7472 - val_loss: 6.8484\n",
      "Epoch 109/120\n",
      "1250/1250 [==============================] - 1s 804us/step - loss: 6.6557 - val_loss: 6.8849\n",
      "Epoch 110/120\n",
      "1250/1250 [==============================] - 1s 848us/step - loss: 6.5677 - val_loss: 6.7825\n",
      "Epoch 111/120\n",
      "1250/1250 [==============================] - 1s 807us/step - loss: 6.5018 - val_loss: 7.4568\n",
      "Epoch 112/120\n",
      "1250/1250 [==============================] - 1s 807us/step - loss: 6.4921 - val_loss: 6.9232\n",
      "Epoch 113/120\n",
      "1250/1250 [==============================] - 1s 807us/step - loss: 6.4458 - val_loss: 6.6955\n",
      "Epoch 114/120\n",
      "1250/1250 [==============================] - 1s 798us/step - loss: 6.3888 - val_loss: 6.7269\n",
      "Epoch 115/120\n",
      "1250/1250 [==============================] - 1s 829us/step - loss: 6.3291 - val_loss: 6.7025\n",
      "Epoch 116/120\n",
      "1250/1250 [==============================] - 1s 799us/step - loss: 6.2709 - val_loss: 6.3924\n",
      "Epoch 117/120\n",
      "1250/1250 [==============================] - 1s 797us/step - loss: 6.2183 - val_loss: 6.6441\n",
      "Epoch 118/120\n",
      "1250/1250 [==============================] - 1s 798us/step - loss: 6.1997 - val_loss: 6.1921\n",
      "Epoch 119/120\n",
      "1250/1250 [==============================] - 1s 877us/step - loss: 6.1556 - val_loss: 6.7096\n",
      "Epoch 120/120\n",
      "1250/1250 [==============================] - 1s 798us/step - loss: 6.1159 - val_loss: 6.1213\n"
     ]
    },
    {
     "data": {
      "text/plain": [
       "<tensorflow.python.keras.callbacks.History at 0x7f0b941cf510>"
      ]
     },
     "execution_count": 4,
     "metadata": {},
     "output_type": "execute_result"
    }
   ],
   "source": [
    "opt = optimizers.Adamax(learning_rate=0.004)\n",
    "vae.compile(optimizer=opt, loss='binary_crossentropy')\n",
    "vae.fit(train_vecs, train_vecs,\n",
    "        epochs=120,\n",
    "        batch_size=8,\n",
    "        shuffle=True,\n",
    "        validation_data=(val_vecs, val_vecs))"
   ]
  },
  {
   "cell_type": "markdown",
   "metadata": {},
   "source": [
    "Evaluation"
   ]
  },
  {
   "cell_type": "code",
   "execution_count": 11,
   "metadata": {
    "scrolled": false
   },
   "outputs": [
    {
     "name": "stdout",
     "output_type": "stream",
     "text": [
      "['MY33WSZ', 'WE83GXF', 'LU19JLV', 'KX41GVE', 'WP91NCV', 'SG47LFF', 'HB17WIY', 'CA89AXN', 'GT57AKA', 'CD77SJT']\n",
      "['MY33KSZ', 'WE83NRF', 'LU19JLV', 'KX41GVE', 'WP91NCV', 'SG47LFF', 'HB17WIY', 'CA89URN', 'GT57AKA', 'CD77PJT']\n",
      "overall accuracy = 0.575\n",
      "by digit accuracy:\n",
      "    0.995\n",
      "    0.983\n",
      "    0.99\n",
      "    0.991\n",
      "    0.707\n",
      "    0.865\n",
      "    0.991\n"
     ]
    }
   ],
   "source": [
    "decoded_regs = vae.predict(test_vecs)\n",
    "print(test_strs[:10])\n",
    "recovered = [v.recover(x) for x in decoded_regs]\n",
    "print(recovered[:10])\n",
    "acc = np.sum([x == y for x, y in zip(recovered, test_strs)]) / len(test_strs)\n",
    "print('overall accuracy = ' + str(acc))\n",
    "print('by digit accuracy:')\n",
    "for i_digit in range(len(test_strs[0])):\n",
    "    acc = np.sum([x[i_digit] == y[i_digit] for x, y in zip(recovered, test_strs)]) / len(test_strs)\n",
    "    print('    ' + str(acc))"
   ]
  },
  {
   "cell_type": "markdown",
   "metadata": {},
   "source": [
    "Use decoder as generator"
   ]
  },
  {
   "cell_type": "code",
   "execution_count": 6,
   "metadata": {},
   "outputs": [
    {
     "name": "stdout",
     "output_type": "stream",
     "text": [
      "['BS28HIT', 'BJ82VMT', 'RS83NWB', 'FS88YDQ', 'PJ28HJB']\n"
     ]
    }
   ],
   "source": [
    "generated_regs = decoder.predict(np.random.random((5, latent_dim)))\n",
    "print([v.recover(x) for x in generated_regs])"
   ]
  },
  {
   "cell_type": "markdown",
   "metadata": {},
   "source": [
    "### Avoid generating any training data\n",
    "\n",
    "There is a chance that a random generation of data might produce one of the actual registration numbers used in training. However, any input registrations are represented as a probability distribution in the latent space; so one could require that any sample vector used in the latent space to be 'sufficiently far' down the tails of all the recorded distributions.\n",
    "\n"
   ]
  },
  {
   "cell_type": "code",
   "execution_count": 7,
   "metadata": {},
   "outputs": [
    {
     "data": {
      "text/plain": [
       "(array([-0.5881468 , -0.27519965, -0.19447577, -0.3235448 ,  0.02782166,\n",
       "         1.3175246 ,  0.07991531, -0.46847036,  0.25594914,  0.76399887,\n",
       "         0.09407352, -0.08175188,  0.10620986,  0.28594175,  0.17494482],\n",
       "       dtype=float32),\n",
       " array([0.5664883 , 0.5553645 , 0.669898  , 0.6018982 , 0.979184  ,\n",
       "        0.5987289 , 0.61448604, 0.55870074, 0.62289315, 0.59218544,\n",
       "        0.5857828 , 0.5573959 , 0.5602451 , 0.5005922 , 0.573779  ],\n",
       "       dtype=float32))"
      ]
     },
     "execution_count": 7,
     "metadata": {},
     "output_type": "execute_result"
    }
   ],
   "source": [
    "# Get the distributions for each reg number in the data\n",
    "all_strs = train_strs + val_strs + test_strs\n",
    "all_vecs = np.array([v.vectorize(x) for x in all_strs])\n",
    "means, log_sigmas, _ = encoder.predict(all_vecs)\n",
    "distn_dict = {x: (y,z) for x, y, z in zip(all_strs, means, np.exp(log_sigmas))}  # dict<reg no: (mean, sigma)>\n",
    "distn_dict['YK66BIQ']\n",
    "# for a multivariate distribution ~ N(mean, Var) valued in the latent space, \n",
    "# mean is the first vector below, and Var is a diagonal matrix, the square root\n",
    "# of the diagonal entries being given in the second vector.\n",
    "# If the KL loss function has done its job, the distributions should be close to N(0,1)"
   ]
  }
 ],
 "metadata": {
  "kernelspec": {
   "display_name": "Python 3",
   "language": "python",
   "name": "python3"
  },
  "language_info": {
   "codemirror_mode": {
    "name": "ipython",
    "version": 3
   },
   "file_extension": ".py",
   "mimetype": "text/x-python",
   "name": "python",
   "nbconvert_exporter": "python",
   "pygments_lexer": "ipython3",
   "version": "3.7.9"
  }
 },
 "nbformat": 4,
 "nbformat_minor": 4
}
