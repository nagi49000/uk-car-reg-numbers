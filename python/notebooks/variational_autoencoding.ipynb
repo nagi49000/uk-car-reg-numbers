{
 "cells": [
  {
   "cell_type": "markdown",
   "metadata": {},
   "source": [
    "# Build a variational autoencoder\n",
    "\n",
    "### References\n",
    "\n",
    "https://blog.keras.io/building-autoencoders-in-keras.html\n",
    "\n",
    "https://towardsdatascience.com/understanding-variational-autoencoders-vaes-f70510919f73"
   ]
  },
  {
   "cell_type": "code",
   "execution_count": 1,
   "metadata": {},
   "outputs": [],
   "source": [
    "import sys\n",
    "import numpy as np\n",
    "import keras\n",
    "from keras import regularizers\n",
    "from keras import layers\n",
    "from keras import backend\n",
    "import random\n",
    "\n",
    "if '..' not in sys.path:\n",
    "    sys.path.append('..')\n",
    "from car_reg_generator.car_reg_generator.uk_reg import UkRegGenerator\n",
    "from car_reg_generator.car_reg_generator.uk_reg import UkRegBowVectorizer"
   ]
  },
  {
   "cell_type": "markdown",
   "metadata": {},
   "source": [
    "### Data generation"
   ]
  },
  {
   "cell_type": "code",
   "execution_count": 2,
   "metadata": {},
   "outputs": [
    {
     "name": "stdout",
     "output_type": "stream",
     "text": [
      "180\n"
     ]
    }
   ],
   "source": [
    "n_train = 10000\n",
    "n_test = 1000\n",
    "\n",
    "random.seed(0)\n",
    "g = UkRegGenerator()\n",
    "v = UkRegBowVectorizer()\n",
    "\n",
    "train_strs = [g.get_reg()[2:] for _ in range(n_train)]\n",
    "train_vecs = np.array([v.vectorize(x) for x in train_strs])\n",
    "test_strs = [g.get_reg()[2:] for _ in range(n_test)]\n",
    "test_vecs = np.array([v.vectorize(x) for x in test_strs])\n",
    "\n",
    "vec_length = len(train_vecs[0])\n",
    "print(vec_length)"
   ]
  },
  {
   "cell_type": "markdown",
   "metadata": {},
   "source": [
    "### Variational autoencoder"
   ]
  },
  {
   "cell_type": "code",
   "execution_count": 3,
   "metadata": {},
   "outputs": [],
   "source": [
    "latent_dim = 100\n",
    "intermediate_dim = 300\n",
    "original_dim = vec_length\n",
    "\n",
    "### Define the encoder\n",
    "inputs = keras.Input(shape=(original_dim,))\n",
    "h = layers.Dense(intermediate_dim, activation='relu')(inputs)\n",
    "h = layers.Dense(intermediate_dim, activation='relu')(h)\n",
    "z_mean = layers.Dense(latent_dim)(h)\n",
    "z_log_sigma = layers.Dense(latent_dim)(h)\n",
    "\n",
    "def sampling(args):\n",
    "    z_mean, z_log_sigma = args\n",
    "    epsilon = backend.random_normal(shape=(backend.shape(z_mean)[0], latent_dim),\n",
    "                                    mean=0., stddev=0.1)\n",
    "    return z_mean + backend.exp(z_log_sigma) * epsilon\n",
    "\n",
    "z = layers.Lambda(sampling)([z_mean, z_log_sigma])\n",
    "\n",
    "encoder = keras.Model(inputs, [z_mean, z_log_sigma, z], name='encoder')\n",
    "\n",
    "### Define the decoder\n",
    "latent_inputs = keras.Input(shape=(latent_dim,), name='z_sampling')\n",
    "x = layers.Dense(intermediate_dim, activation='relu')(latent_inputs)\n",
    "# x = layers.Dense(intermediate_dim, activation='relu')(x)\n",
    "outputs = layers.Dense(original_dim, activation='sigmoid')(x)\n",
    "decoder = keras.Model(latent_inputs, outputs, name='decoder')\n",
    "\n",
    "outputs = decoder(encoder(inputs)[2])\n",
    "vae = keras.Model(inputs, outputs, name='vae_mlp')\n",
    "\n",
    "### Define the loss function\n",
    "reconstruction_loss = keras.losses.binary_crossentropy(inputs, outputs)\n",
    "reconstruction_loss *= original_dim\n",
    "kl_loss = 1 + z_log_sigma - backend.square(z_mean) - backend.exp(z_log_sigma)\n",
    "kl_loss = backend.sum(kl_loss, axis=-1)\n",
    "kl_loss *= -0.5\n",
    "vae_loss = backend.mean(reconstruction_loss + kl_loss)\n",
    "vae.add_loss(vae_loss)\n",
    "vae.compile(optimizer='adam')"
   ]
  },
  {
   "cell_type": "code",
   "execution_count": 4,
   "metadata": {
    "scrolled": true
   },
   "outputs": [
    {
     "name": "stdout",
     "output_type": "stream",
     "text": [
      "Epoch 1/50\n",
      "WARNING:tensorflow:Gradients do not exist for variables ['dense_5/kernel:0', 'dense_5/bias:0'] when minimizing the loss.\n",
      "WARNING:tensorflow:Gradients do not exist for variables ['dense_5/kernel:0', 'dense_5/bias:0'] when minimizing the loss.\n",
      "WARNING:tensorflow:Gradients do not exist for variables ['dense_5/kernel:0', 'dense_5/bias:0'] when minimizing the loss.\n",
      "WARNING:tensorflow:Gradients do not exist for variables ['dense_5/kernel:0', 'dense_5/bias:0'] when minimizing the loss.\n",
      "40/40 [==============================] - 2s 40ms/step - loss: 104.7476 - val_loss: 86.7640\n",
      "Epoch 2/50\n",
      "40/40 [==============================] - 1s 36ms/step - loss: 78.4095 - val_loss: 71.9424\n",
      "Epoch 3/50\n",
      "40/40 [==============================] - 1s 32ms/step - loss: 68.2727 - val_loss: 64.9099\n",
      "Epoch 4/50\n",
      "40/40 [==============================] - 1s 33ms/step - loss: 62.5828 - val_loss: 60.4019\n",
      "Epoch 5/50\n",
      "40/40 [==============================] - 1s 35ms/step - loss: 58.6618 - val_loss: 57.0134\n",
      "Epoch 6/50\n",
      "40/40 [==============================] - 1s 34ms/step - loss: 55.3630 - val_loss: 53.9075\n",
      "Epoch 7/50\n",
      "40/40 [==============================] - 1s 35ms/step - loss: 52.7265 - val_loss: 51.5895\n",
      "Epoch 8/50\n",
      "40/40 [==============================] - 1s 35ms/step - loss: 50.6263 - val_loss: 49.6916\n",
      "Epoch 9/50\n",
      "40/40 [==============================] - 2s 42ms/step - loss: 48.9272 - val_loss: 48.0632\n",
      "Epoch 10/50\n",
      "40/40 [==============================] - 2s 38ms/step - loss: 47.4134 - val_loss: 46.5684\n",
      "Epoch 11/50\n",
      "40/40 [==============================] - 2s 38ms/step - loss: 45.9160 - val_loss: 45.1791\n",
      "Epoch 12/50\n",
      "40/40 [==============================] - 2s 40ms/step - loss: 44.5540 - val_loss: 43.8441\n",
      "Epoch 13/50\n",
      "40/40 [==============================] - 2s 43ms/step - loss: 43.1307 - val_loss: 42.4690\n",
      "Epoch 14/50\n",
      "40/40 [==============================] - 2s 51ms/step - loss: 41.7476 - val_loss: 40.8536\n",
      "Epoch 15/50\n",
      "40/40 [==============================] - 2s 40ms/step - loss: 40.1409 - val_loss: 39.3661\n",
      "Epoch 16/50\n",
      "40/40 [==============================] - 1s 34ms/step - loss: 38.7314 - val_loss: 37.9819\n",
      "Epoch 17/50\n",
      "40/40 [==============================] - 1s 34ms/step - loss: 37.3552 - val_loss: 36.5544\n",
      "Epoch 18/50\n",
      "40/40 [==============================] - 1s 35ms/step - loss: 35.7483 - val_loss: 35.0133\n",
      "Epoch 19/50\n",
      "40/40 [==============================] - 1s 36ms/step - loss: 34.3481 - val_loss: 33.5184\n",
      "Epoch 20/50\n",
      "40/40 [==============================] - 1s 34ms/step - loss: 32.7714 - val_loss: 32.2001\n",
      "Epoch 21/50\n",
      "40/40 [==============================] - 1s 36ms/step - loss: 31.6217 - val_loss: 31.1411\n",
      "Epoch 22/50\n",
      "40/40 [==============================] - 2s 39ms/step - loss: 30.5604 - val_loss: 30.1397\n",
      "Epoch 23/50\n",
      "40/40 [==============================] - 1s 33ms/step - loss: 29.7010 - val_loss: 29.3798\n",
      "Epoch 24/50\n",
      "40/40 [==============================] - 1s 36ms/step - loss: 28.8360 - val_loss: 28.5387\n",
      "Epoch 25/50\n",
      "40/40 [==============================] - 1s 33ms/step - loss: 28.1084 - val_loss: 27.7612\n",
      "Epoch 26/50\n",
      "40/40 [==============================] - 1s 35ms/step - loss: 27.3528 - val_loss: 27.1015\n",
      "Epoch 27/50\n",
      "40/40 [==============================] - 1s 35ms/step - loss: 26.6640 - val_loss: 26.4689\n",
      "Epoch 28/50\n",
      "40/40 [==============================] - 1s 33ms/step - loss: 26.0473 - val_loss: 25.8414\n",
      "Epoch 29/50\n",
      "40/40 [==============================] - 1s 35ms/step - loss: 25.4294 - val_loss: 25.2352\n",
      "Epoch 30/50\n",
      "40/40 [==============================] - 1s 36ms/step - loss: 24.8144 - val_loss: 24.6663\n",
      "Epoch 31/50\n",
      "40/40 [==============================] - 1s 36ms/step - loss: 24.2847 - val_loss: 24.1706\n",
      "Epoch 32/50\n",
      "40/40 [==============================] - 2s 38ms/step - loss: 23.7337 - val_loss: 23.6191\n",
      "Epoch 33/50\n",
      "40/40 [==============================] - 2s 40ms/step - loss: 23.2417 - val_loss: 23.1043\n",
      "Epoch 34/50\n",
      "40/40 [==============================] - 1s 35ms/step - loss: 22.7765 - val_loss: 22.6302\n",
      "Epoch 35/50\n",
      "40/40 [==============================] - 2s 45ms/step - loss: 22.2317 - val_loss: 22.0559\n",
      "Epoch 36/50\n",
      "40/40 [==============================] - 2s 41ms/step - loss: 21.6516 - val_loss: 21.6669\n",
      "Epoch 37/50\n",
      "40/40 [==============================] - 1s 37ms/step - loss: 21.1079 - val_loss: 20.9580\n",
      "Epoch 38/50\n",
      "40/40 [==============================] - 1s 36ms/step - loss: 20.5985 - val_loss: 20.5962\n",
      "Epoch 39/50\n",
      "40/40 [==============================] - 1s 35ms/step - loss: 20.1532 - val_loss: 20.1679\n",
      "Epoch 40/50\n",
      "40/40 [==============================] - 1s 34ms/step - loss: 19.7539 - val_loss: 19.6947\n",
      "Epoch 41/50\n",
      "40/40 [==============================] - 2s 39ms/step - loss: 19.3074 - val_loss: 19.3193\n",
      "Epoch 42/50\n",
      "40/40 [==============================] - 1s 37ms/step - loss: 18.9560 - val_loss: 18.9216\n",
      "Epoch 43/50\n",
      "40/40 [==============================] - 1s 37ms/step - loss: 18.5606 - val_loss: 18.6308\n",
      "Epoch 44/50\n",
      "40/40 [==============================] - 2s 41ms/step - loss: 18.2595 - val_loss: 18.2973\n",
      "Epoch 45/50\n",
      "40/40 [==============================] - 1s 36ms/step - loss: 17.9151 - val_loss: 17.9778\n",
      "Epoch 46/50\n",
      "40/40 [==============================] - 2s 41ms/step - loss: 17.6213 - val_loss: 17.6214\n",
      "Epoch 47/50\n",
      "40/40 [==============================] - 1s 37ms/step - loss: 17.3294 - val_loss: 17.3362\n",
      "Epoch 48/50\n",
      "40/40 [==============================] - 2s 39ms/step - loss: 17.0597 - val_loss: 17.1096\n",
      "Epoch 49/50\n",
      "40/40 [==============================] - 2s 43ms/step - loss: 16.7871 - val_loss: 16.8053\n",
      "Epoch 50/50\n",
      "40/40 [==============================] - 2s 40ms/step - loss: 16.5582 - val_loss: 16.5292\n"
     ]
    },
    {
     "data": {
      "text/plain": [
       "<tensorflow.python.keras.callbacks.History at 0x7f7d58072c10>"
      ]
     },
     "execution_count": 4,
     "metadata": {},
     "output_type": "execute_result"
    }
   ],
   "source": [
    "vae.fit(train_vecs, train_vecs,\n",
    "        epochs=50,\n",
    "        batch_size=256,\n",
    "        shuffle=True,\n",
    "        validation_data=(test_vecs, test_vecs))"
   ]
  },
  {
   "cell_type": "code",
   "execution_count": 5,
   "metadata": {
    "scrolled": false
   },
   "outputs": [
    {
     "name": "stdout",
     "output_type": "stream",
     "text": [
      "['45FVI', '23DCR', '99JWO', '58XKI', '49FNK', '61XIM', '62NON', '42JCE', '47KTZ', '70DFU']\n",
      "['45FVI', '23DCR', '99JWO', '58QKI', '49FNK', '61XIM', '62NON', '42J3E', '47KTZ', '70DFU']\n",
      "accuracy = 0.855\n"
     ]
    }
   ],
   "source": [
    "decoded_regs = vae.predict(test_vecs)\n",
    "print(test_strs[:10])\n",
    "print([v.recover(x) for x in decoded_regs[:10]])\n",
    "acc = np.sum([v.recover(x) == y for x, y in zip(decoded_regs, test_strs)]) / len(test_strs)\n",
    "print('accuracy = ' + str(acc))"
   ]
  }
 ],
 "metadata": {
  "kernelspec": {
   "display_name": "Python 3",
   "language": "python",
   "name": "python3"
  },
  "language_info": {
   "codemirror_mode": {
    "name": "ipython",
    "version": 3
   },
   "file_extension": ".py",
   "mimetype": "text/x-python",
   "name": "python",
   "nbconvert_exporter": "python",
   "pygments_lexer": "ipython3",
   "version": "3.8.6"
  }
 },
 "nbformat": 4,
 "nbformat_minor": 4
}
