{
 "cells": [
  {
   "cell_type": "markdown",
   "metadata": {},
   "source": [
    "# Build a variational autoencoder\n",
    "\n",
    "### References\n",
    "\n",
    "https://blog.keras.io/building-autoencoders-in-keras.html\n",
    "\n",
    "https://towardsdatascience.com/understanding-variational-autoencoders-vaes-f70510919f73"
   ]
  },
  {
   "cell_type": "code",
   "execution_count": 1,
   "metadata": {},
   "outputs": [],
   "source": [
    "import sys\n",
    "import numpy as np\n",
    "import keras\n",
    "from keras import regularizers\n",
    "from keras import layers\n",
    "from keras import backend\n",
    "import random\n",
    "\n",
    "if '..' not in sys.path:\n",
    "    sys.path.append('..')\n",
    "from car_reg_generator.car_reg_generator.uk_reg import UkRegGenerator\n",
    "from car_reg_generator.car_reg_generator.uk_reg import UkRegBowVectorizer"
   ]
  },
  {
   "cell_type": "markdown",
   "metadata": {},
   "source": [
    "### Data generation"
   ]
  },
  {
   "cell_type": "code",
   "execution_count": 2,
   "metadata": {},
   "outputs": [
    {
     "name": "stdout",
     "output_type": "stream",
     "text": [
      "input vector length = 216\n",
      "actual number of test samples = 1000\n"
     ]
    }
   ],
   "source": [
    "n_train = 10000\n",
    "n_test = 1000\n",
    "\n",
    "random.seed(0)\n",
    "g = UkRegGenerator()\n",
    "v = UkRegBowVectorizer()\n",
    "\n",
    "train_strs = [g.get_reg()[1:] for _ in range(n_train)]\n",
    "train_vecs = np.array([v.vectorize(x) for x in train_strs])\n",
    "test_strs = [g.get_reg()[1:] for _ in range(n_test)]\n",
    "test_strs = [x for x in test_strs if x not in set(train_strs)]  # sanity check\n",
    "test_vecs = np.array([v.vectorize(x) for x in test_strs])\n",
    "\n",
    "vec_length = len(train_vecs[0])\n",
    "print('input vector length = ' + str(vec_length))\n",
    "print('actual number of test samples = ' + str(len(test_strs)))"
   ]
  },
  {
   "cell_type": "markdown",
   "metadata": {},
   "source": [
    "### Variational autoencoder"
   ]
  },
  {
   "cell_type": "code",
   "execution_count": 3,
   "metadata": {},
   "outputs": [],
   "source": [
    "latent_dim = 100\n",
    "intermediate_dim = 400\n",
    "original_dim = vec_length\n",
    "\n",
    "### Define the encoder\n",
    "inputs = keras.Input(shape=(original_dim,))\n",
    "h = layers.Dense(intermediate_dim, activation='relu')(inputs)\n",
    "h = layers.Dense(intermediate_dim, activation='relu')(h)\n",
    "h = layers.Dense(intermediate_dim, activation='relu')(h)\n",
    "z_mean = layers.Dense(latent_dim)(h)\n",
    "z_log_sigma = layers.Dense(latent_dim)(h)\n",
    "\n",
    "def sampling(args):\n",
    "    z_mean, z_log_sigma = args\n",
    "    epsilon = backend.random_normal(shape=(backend.shape(z_mean)[0], latent_dim),\n",
    "                                    mean=0., stddev=0.1)\n",
    "    return z_mean + backend.exp(z_log_sigma) * epsilon\n",
    "\n",
    "z = layers.Lambda(sampling)([z_mean, z_log_sigma])\n",
    "\n",
    "encoder = keras.Model(inputs, [z_mean, z_log_sigma, z], name='encoder')\n",
    "\n",
    "### Define the decoder\n",
    "latent_inputs = keras.Input(shape=(latent_dim,), name='z_sampling')\n",
    "x = layers.Dense(intermediate_dim, activation='relu')(latent_inputs)\n",
    "# x = layers.Dense(intermediate_dim, activation='relu')(x)\n",
    "outputs = layers.Dense(original_dim, activation='sigmoid')(x)\n",
    "decoder = keras.Model(latent_inputs, outputs, name='decoder')\n",
    "\n",
    "outputs = decoder(encoder(inputs)[2])\n",
    "vae = keras.Model(inputs, outputs, name='vae_mlp')\n",
    "\n",
    "### Define the loss function\n",
    "reconstruction_loss = keras.losses.binary_crossentropy(inputs, outputs)\n",
    "reconstruction_loss *= original_dim\n",
    "kl_loss = 1 + z_log_sigma - backend.square(z_mean) - backend.exp(z_log_sigma)\n",
    "kl_loss = backend.sum(kl_loss, axis=-1)\n",
    "kl_loss *= -0.5\n",
    "vae_loss = backend.mean(reconstruction_loss + kl_loss)\n",
    "vae.add_loss(vae_loss)\n",
    "vae.compile(optimizer='adam')"
   ]
  },
  {
   "cell_type": "code",
   "execution_count": null,
   "metadata": {
    "scrolled": true
   },
   "outputs": [
    {
     "name": "stdout",
     "output_type": "stream",
     "text": [
      "Epoch 1/50\n",
      "WARNING:tensorflow:Gradients do not exist for variables ['dense_6/kernel:0', 'dense_6/bias:0'] when minimizing the loss.\n",
      "WARNING:tensorflow:Gradients do not exist for variables ['dense_6/kernel:0', 'dense_6/bias:0'] when minimizing the loss.\n",
      "WARNING:tensorflow:Gradients do not exist for variables ['dense_6/kernel:0', 'dense_6/bias:0'] when minimizing the loss.\n",
      "WARNING:tensorflow:Gradients do not exist for variables ['dense_6/kernel:0', 'dense_6/bias:0'] when minimizing the loss.\n",
      "40/40 [==============================] - 2s 59ms/step - loss: 119.5673 - val_loss: 96.4804\n",
      "Epoch 2/50\n",
      "40/40 [==============================] - 2s 51ms/step - loss: 85.9454 - val_loss: 77.7067\n",
      "Epoch 3/50\n",
      "40/40 [==============================] - 2s 56ms/step - loss: 72.3342 - val_loss: 67.8532\n",
      "Epoch 4/50\n",
      "40/40 [==============================] - 2s 59ms/step - loss: 64.7021 - val_loss: 62.1524\n",
      "Epoch 5/50\n",
      "40/40 [==============================] - 2s 53ms/step - loss: 59.9481 - val_loss: 58.1226\n",
      "Epoch 6/50\n",
      "40/40 [==============================] - 2s 53ms/step - loss: 56.4716 - val_loss: 55.1747\n",
      "Epoch 7/50\n",
      "40/40 [==============================] - 3s 63ms/step - loss: 53.7989 - val_loss: 52.7708\n",
      "Epoch 8/50\n",
      "40/40 [==============================] - 3s 64ms/step - loss: 51.1698 - val_loss: 49.8286\n",
      "Epoch 9/50\n",
      "40/40 [==============================] - 2s 59ms/step - loss: 48.6635 - val_loss: 47.6680\n",
      "Epoch 10/50\n",
      "40/40 [==============================] - 3s 73ms/step - loss: 46.7520 - val_loss: 45.9500\n",
      "Epoch 11/50\n",
      "40/40 [==============================] - 3s 64ms/step - loss: 44.9998 - val_loss: 44.2887\n",
      "Epoch 12/50\n",
      "40/40 [==============================] - 3s 69ms/step - loss: 43.4771 - val_loss: 42.8611\n",
      "Epoch 13/50\n",
      "40/40 [==============================] - 2s 60ms/step - loss: 42.0752 - val_loss: 41.6238\n",
      "Epoch 14/50\n",
      "40/40 [==============================] - 3s 65ms/step - loss: 40.8454 - val_loss: 40.3396\n",
      "Epoch 15/50\n",
      "40/40 [==============================] - 2s 55ms/step - loss: 39.6701 - val_loss: 39.2637\n",
      "Epoch 16/50\n",
      "40/40 [==============================] - 2s 50ms/step - loss: 38.5721 - val_loss: 38.0932\n",
      "Epoch 17/50\n",
      "40/40 [==============================] - 3s 66ms/step - loss: 37.2984 - val_loss: 36.7100\n",
      "Epoch 18/50\n",
      "40/40 [==============================] - 2s 59ms/step - loss: 35.7215 - val_loss: 35.2312\n",
      "Epoch 19/50\n",
      "40/40 [==============================] - 2s 60ms/step - loss: 34.4675 - val_loss: 34.0539\n",
      "Epoch 20/50\n",
      "40/40 [==============================] - 2s 58ms/step - loss: 33.3980 - val_loss: 32.9983\n",
      "Epoch 21/50\n",
      "40/40 [==============================] - 3s 63ms/step - loss: 32.3116 - val_loss: 32.0924\n",
      "Epoch 22/50\n",
      "40/40 [==============================] - 2s 57ms/step - loss: 31.3349 - val_loss: 31.0297\n",
      "Epoch 23/50\n",
      "40/40 [==============================] - 2s 56ms/step - loss: 30.3977 - val_loss: 30.0892\n",
      "Epoch 24/50\n",
      "40/40 [==============================] - 2s 62ms/step - loss: 29.4738 - val_loss: 29.3177\n",
      "Epoch 25/50\n",
      "40/40 [==============================] - 2s 60ms/step - loss: 28.7145 - val_loss: 28.5099\n",
      "Epoch 26/50\n",
      "40/40 [==============================] - 2s 57ms/step - loss: 27.9099 - val_loss: 27.7782\n",
      "Epoch 27/50\n",
      "40/40 [==============================] - 2s 61ms/step - loss: 27.1442 - val_loss: 26.9813\n",
      "Epoch 28/50\n",
      "40/40 [==============================] - 3s 66ms/step - loss: 26.2969 - val_loss: 26.1739\n",
      "Epoch 29/50\n",
      "40/40 [==============================] - 2s 59ms/step - loss: 25.5298 - val_loss: 25.3985\n",
      "Epoch 30/50\n",
      "21/40 [==============>...............] - ETA: 1s - loss: 25.0017"
     ]
    }
   ],
   "source": [
    "vae.fit(train_vecs, train_vecs,\n",
    "        epochs=50,\n",
    "        batch_size=256,\n",
    "        shuffle=True,\n",
    "        validation_data=(test_vecs, test_vecs))"
   ]
  },
  {
   "cell_type": "code",
   "execution_count": null,
   "metadata": {
    "scrolled": false
   },
   "outputs": [],
   "source": [
    "decoded_regs = vae.predict(test_vecs)\n",
    "print(test_strs[:10])\n",
    "print([v.recover(x) for x in decoded_regs[:10]])\n",
    "acc = np.sum([v.recover(x) == y for x, y in zip(decoded_regs, test_strs)]) / len(test_strs)\n",
    "print('accuracy = ' + str(acc))"
   ]
  }
 ],
 "metadata": {
  "kernelspec": {
   "display_name": "Python 3",
   "language": "python",
   "name": "python3"
  },
  "language_info": {
   "codemirror_mode": {
    "name": "ipython",
    "version": 3
   },
   "file_extension": ".py",
   "mimetype": "text/x-python",
   "name": "python",
   "nbconvert_exporter": "python",
   "pygments_lexer": "ipython3",
   "version": "3.8.6"
  }
 },
 "nbformat": 4,
 "nbformat_minor": 4
}
