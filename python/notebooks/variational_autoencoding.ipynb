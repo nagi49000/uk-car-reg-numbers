{
 "cells": [
  {
   "cell_type": "markdown",
   "metadata": {},
   "source": [
    "# Build a variational autoencoder\n",
    "\n",
    "### References\n",
    "\n",
    "https://blog.keras.io/building-autoencoders-in-keras.html\n",
    "\n",
    "https://towardsdatascience.com/understanding-variational-autoencoders-vaes-f70510919f73"
   ]
  },
  {
   "cell_type": "code",
   "execution_count": 1,
   "metadata": {},
   "outputs": [],
   "source": [
    "import sys\n",
    "import numpy as np\n",
    "import keras\n",
    "from keras import regularizers\n",
    "from keras import layers\n",
    "from keras import backend\n",
    "import random\n",
    "\n",
    "if '..' not in sys.path:\n",
    "    sys.path.append('..')\n",
    "from car_reg_generator.car_reg_generator.uk_reg import UkRegGenerator\n",
    "from car_reg_generator.car_reg_generator.uk_reg import UkRegBowVectorizer"
   ]
  },
  {
   "cell_type": "markdown",
   "metadata": {},
   "source": [
    "### Data generation"
   ]
  },
  {
   "cell_type": "code",
   "execution_count": 2,
   "metadata": {},
   "outputs": [
    {
     "name": "stdout",
     "output_type": "stream",
     "text": [
      "108\n"
     ]
    }
   ],
   "source": [
    "n_train = 10000\n",
    "n_test = 1000\n",
    "\n",
    "random.seed(0)\n",
    "g = UkRegGenerator()\n",
    "v = UkRegBowVectorizer()\n",
    "\n",
    "train_strs = [g.get_reg()[-3:] for _ in range(n_train)]\n",
    "train_vecs = np.array([v.vectorize(x) for x in train_strs])\n",
    "test_strs = [g.get_reg()[-3:] for _ in range(n_test)]\n",
    "test_vecs = np.array([v.vectorize(x) for x in test_strs])\n",
    "\n",
    "vec_length = len(train_vecs[0])\n",
    "print(vec_length)"
   ]
  },
  {
   "cell_type": "markdown",
   "metadata": {},
   "source": [
    "### Variational autoencoder"
   ]
  },
  {
   "cell_type": "code",
   "execution_count": 3,
   "metadata": {},
   "outputs": [],
   "source": [
    "latent_dim = 50\n",
    "intermediate_dim = 200\n",
    "original_dim = vec_length\n",
    "\n",
    "inputs = keras.Input(shape=(original_dim,))\n",
    "h = layers.Dense(intermediate_dim, activation='relu')(inputs)\n",
    "z_mean = layers.Dense(latent_dim)(h)\n",
    "z_log_sigma = layers.Dense(latent_dim)(h)\n",
    "\n",
    "def sampling(args):\n",
    "    z_mean, z_log_sigma = args\n",
    "    epsilon = backend.random_normal(shape=(backend.shape(z_mean)[0], latent_dim),\n",
    "                                    mean=0., stddev=0.1)\n",
    "    return z_mean + backend.exp(z_log_sigma) * epsilon\n",
    "\n",
    "z = layers.Lambda(sampling)([z_mean, z_log_sigma])\n",
    "\n",
    "encoder = keras.Model(inputs, [z_mean, z_log_sigma, z], name='encoder')\n",
    "\n",
    "latent_inputs = keras.Input(shape=(latent_dim,), name='z_sampling')\n",
    "x = layers.Dense(intermediate_dim, activation='relu')(latent_inputs)\n",
    "outputs = layers.Dense(original_dim, activation='sigmoid')(x)\n",
    "decoder = keras.Model(latent_inputs, outputs, name='decoder')\n",
    "\n",
    "outputs = decoder(encoder(inputs)[2])\n",
    "vae = keras.Model(inputs, outputs, name='vae_mlp')\n",
    "\n",
    "reconstruction_loss = keras.losses.binary_crossentropy(inputs, outputs)\n",
    "reconstruction_loss *= original_dim\n",
    "kl_loss = 1 + z_log_sigma - backend.square(z_mean) - backend.exp(z_log_sigma)\n",
    "kl_loss = backend.sum(kl_loss, axis=-1)\n",
    "kl_loss *= -0.5\n",
    "vae_loss = backend.mean(reconstruction_loss + kl_loss)\n",
    "vae.add_loss(vae_loss)\n",
    "vae.compile(optimizer='adam')"
   ]
  },
  {
   "cell_type": "code",
   "execution_count": 4,
   "metadata": {
    "scrolled": true
   },
   "outputs": [
    {
     "name": "stdout",
     "output_type": "stream",
     "text": [
      "Epoch 1/50\n",
      "WARNING:tensorflow:Gradients do not exist for variables ['dense_4/kernel:0', 'dense_4/bias:0'] when minimizing the loss.\n",
      "WARNING:tensorflow:Gradients do not exist for variables ['dense_4/kernel:0', 'dense_4/bias:0'] when minimizing the loss.\n",
      "WARNING:tensorflow:Gradients do not exist for variables ['dense_4/kernel:0', 'dense_4/bias:0'] when minimizing the loss.\n",
      "WARNING:tensorflow:Gradients do not exist for variables ['dense_4/kernel:0', 'dense_4/bias:0'] when minimizing the loss.\n",
      "40/40 [==============================] - 1s 25ms/step - loss: 67.2349 - val_loss: 56.8937\n",
      "Epoch 2/50\n",
      "40/40 [==============================] - 1s 18ms/step - loss: 51.1828 - val_loss: 46.6528\n",
      "Epoch 3/50\n",
      "40/40 [==============================] - 1s 17ms/step - loss: 44.0286 - val_loss: 41.6228\n",
      "Epoch 4/50\n",
      "40/40 [==============================] - 1s 17ms/step - loss: 40.0241 - val_loss: 38.4050\n",
      "Epoch 5/50\n",
      "40/40 [==============================] - 1s 19ms/step - loss: 37.3326 - val_loss: 36.1003\n",
      "Epoch 6/50\n",
      "40/40 [==============================] - 1s 21ms/step - loss: 35.2510 - val_loss: 34.2908\n",
      "Epoch 7/50\n",
      "40/40 [==============================] - 1s 24ms/step - loss: 33.6042 - val_loss: 32.7571\n",
      "Epoch 8/50\n",
      "40/40 [==============================] - 1s 19ms/step - loss: 32.2675 - val_loss: 31.5135\n",
      "Epoch 9/50\n",
      "40/40 [==============================] - 1s 19ms/step - loss: 31.1152 - val_loss: 30.5316\n",
      "Epoch 10/50\n",
      "40/40 [==============================] - 1s 19ms/step - loss: 30.1915 - val_loss: 29.6375\n",
      "Epoch 11/50\n",
      "40/40 [==============================] - 1s 19ms/step - loss: 29.3421 - val_loss: 28.8334\n",
      "Epoch 12/50\n",
      "40/40 [==============================] - 1s 22ms/step - loss: 28.5345 - val_loss: 28.0151\n",
      "Epoch 13/50\n",
      "40/40 [==============================] - 1s 21ms/step - loss: 27.5165 - val_loss: 26.7234\n",
      "Epoch 14/50\n",
      "40/40 [==============================] - 1s 20ms/step - loss: 26.2493 - val_loss: 25.4885\n",
      "Epoch 15/50\n",
      "40/40 [==============================] - 1s 22ms/step - loss: 25.1287 - val_loss: 24.5822\n",
      "Epoch 16/50\n",
      "40/40 [==============================] - 1s 20ms/step - loss: 24.2761 - val_loss: 23.8041\n",
      "Epoch 17/50\n",
      "40/40 [==============================] - 1s 25ms/step - loss: 23.5256 - val_loss: 23.1303\n",
      "Epoch 18/50\n",
      "40/40 [==============================] - 1s 20ms/step - loss: 22.8864 - val_loss: 22.5107\n",
      "Epoch 19/50\n",
      "40/40 [==============================] - 1s 20ms/step - loss: 22.2820 - val_loss: 21.9014\n",
      "Epoch 20/50\n",
      "40/40 [==============================] - 1s 18ms/step - loss: 21.6780 - val_loss: 21.3304\n",
      "Epoch 21/50\n",
      "40/40 [==============================] - 1s 18ms/step - loss: 21.1368 - val_loss: 20.8335\n",
      "Epoch 22/50\n",
      "40/40 [==============================] - 1s 23ms/step - loss: 20.6523 - val_loss: 20.3533\n",
      "Epoch 23/50\n",
      "40/40 [==============================] - 1s 20ms/step - loss: 20.2232 - val_loss: 19.9227\n",
      "Epoch 24/50\n",
      "40/40 [==============================] - 1s 19ms/step - loss: 19.7641 - val_loss: 19.4682\n",
      "Epoch 25/50\n",
      "40/40 [==============================] - 1s 22ms/step - loss: 19.3266 - val_loss: 19.0532\n",
      "Epoch 26/50\n",
      "40/40 [==============================] - 1s 21ms/step - loss: 18.8697 - val_loss: 18.5722\n",
      "Epoch 27/50\n",
      "40/40 [==============================] - 1s 21ms/step - loss: 18.3709 - val_loss: 18.0680\n",
      "Epoch 28/50\n",
      "40/40 [==============================] - 1s 19ms/step - loss: 17.8627 - val_loss: 17.5694\n",
      "Epoch 29/50\n",
      "40/40 [==============================] - 1s 25ms/step - loss: 17.3691 - val_loss: 17.1091\n",
      "Epoch 30/50\n",
      "40/40 [==============================] - 1s 22ms/step - loss: 16.9630 - val_loss: 16.7346\n",
      "Epoch 31/50\n",
      "40/40 [==============================] - 1s 23ms/step - loss: 16.5521 - val_loss: 16.3213\n",
      "Epoch 32/50\n",
      "40/40 [==============================] - 1s 23ms/step - loss: 16.1673 - val_loss: 15.9492\n",
      "Epoch 33/50\n",
      "40/40 [==============================] - 1s 19ms/step - loss: 15.7808 - val_loss: 15.5743\n",
      "Epoch 34/50\n",
      "40/40 [==============================] - 1s 21ms/step - loss: 15.4113 - val_loss: 15.2162\n",
      "Epoch 35/50\n",
      "40/40 [==============================] - 1s 19ms/step - loss: 15.0349 - val_loss: 14.8769\n",
      "Epoch 36/50\n",
      "40/40 [==============================] - 1s 23ms/step - loss: 14.7457 - val_loss: 14.5820\n",
      "Epoch 37/50\n",
      "40/40 [==============================] - 1s 20ms/step - loss: 14.4363 - val_loss: 14.2750\n",
      "Epoch 38/50\n",
      "40/40 [==============================] - 1s 23ms/step - loss: 14.1290 - val_loss: 14.0044\n",
      "Epoch 39/50\n",
      "40/40 [==============================] - 1s 23ms/step - loss: 13.8507 - val_loss: 13.7375\n",
      "Epoch 40/50\n",
      "40/40 [==============================] - 1s 19ms/step - loss: 13.6218 - val_loss: 13.4581\n",
      "Epoch 41/50\n",
      "40/40 [==============================] - 1s 23ms/step - loss: 13.3331 - val_loss: 13.2185\n",
      "Epoch 42/50\n",
      "40/40 [==============================] - 1s 22ms/step - loss: 13.0969 - val_loss: 12.9949\n",
      "Epoch 43/50\n",
      "40/40 [==============================] - 1s 19ms/step - loss: 12.8741 - val_loss: 12.7580\n",
      "Epoch 44/50\n",
      "40/40 [==============================] - 1s 21ms/step - loss: 12.6295 - val_loss: 12.5243\n",
      "Epoch 45/50\n",
      "40/40 [==============================] - 1s 23ms/step - loss: 12.4092 - val_loss: 12.3297\n",
      "Epoch 46/50\n",
      "40/40 [==============================] - 1s 21ms/step - loss: 12.1964 - val_loss: 12.1251\n",
      "Epoch 47/50\n",
      "40/40 [==============================] - 1s 21ms/step - loss: 12.0134 - val_loss: 11.9255\n",
      "Epoch 48/50\n",
      "40/40 [==============================] - 1s 26ms/step - loss: 11.8099 - val_loss: 11.7205\n",
      "Epoch 49/50\n",
      "40/40 [==============================] - 1s 24ms/step - loss: 11.6247 - val_loss: 11.5575\n",
      "Epoch 50/50\n",
      "40/40 [==============================] - 1s 22ms/step - loss: 11.4591 - val_loss: 11.3864\n"
     ]
    },
    {
     "data": {
      "text/plain": [
       "<tensorflow.python.keras.callbacks.History at 0x7f7324795880>"
      ]
     },
     "execution_count": 4,
     "metadata": {},
     "output_type": "execute_result"
    }
   ],
   "source": [
    "vae.fit(train_vecs, train_vecs,\n",
    "        epochs=50,\n",
    "        batch_size=256,\n",
    "        shuffle=True,\n",
    "        validation_data=(test_vecs, test_vecs))"
   ]
  },
  {
   "cell_type": "code",
   "execution_count": 5,
   "metadata": {},
   "outputs": [
    {
     "name": "stdout",
     "output_type": "stream",
     "text": [
      "['FVI', 'DCR', 'JWO', 'XKI', 'FNK', 'XIM', 'NON', 'JCE', 'KTZ', 'DFU']\n",
      "['FVI', 'DCR', 'JWO', 'XKI', 'VNK', 'XIM', 'NON', 'VCE', 'KTZ', 'DFU']\n",
      "accuracy = 0.87\n"
     ]
    }
   ],
   "source": [
    "decoded_regs = vae.predict(test_vecs)\n",
    "print(test_strs[:10])\n",
    "print([v.recover(x) for x in decoded_regs[:10]])\n",
    "acc = np.sum([v.recover(x) == y for x, y in zip(decoded_regs, test_strs)]) / len(test_strs)\n",
    "print('accuracy = ' + str(acc))"
   ]
  }
 ],
 "metadata": {
  "kernelspec": {
   "display_name": "Python 3",
   "language": "python",
   "name": "python3"
  },
  "language_info": {
   "codemirror_mode": {
    "name": "ipython",
    "version": 3
   },
   "file_extension": ".py",
   "mimetype": "text/x-python",
   "name": "python",
   "nbconvert_exporter": "python",
   "pygments_lexer": "ipython3",
   "version": "3.8.6"
  }
 },
 "nbformat": 4,
 "nbformat_minor": 4
}
