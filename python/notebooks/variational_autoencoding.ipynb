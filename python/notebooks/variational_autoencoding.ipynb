{
 "cells": [
  {
   "cell_type": "markdown",
   "metadata": {},
   "source": [
    "# Build a variational autoencoder\n",
    "\n",
    "Based on the ability to generate UK car registration numbers, one can build a dataset of training and test data. With a suitable vectorizer, one can go ahead and make an autoencoder.\n",
    "\n",
    "The decoder part of the variational encoder can then be used to generate new reg numbers.\n",
    "\n",
    "### References\n",
    "\n",
    "https://blog.keras.io/building-autoencoders-in-keras.html\n",
    "\n",
    "https://towardsdatascience.com/understanding-variational-autoencoders-vaes-f70510919f73"
   ]
  },
  {
   "cell_type": "code",
   "execution_count": 1,
   "metadata": {},
   "outputs": [],
   "source": [
    "import sys\n",
    "import numpy as np\n",
    "import keras\n",
    "from keras import regularizers\n",
    "from keras import layers\n",
    "from keras import backend\n",
    "from keras import optimizers\n",
    "import random\n",
    "\n",
    "if '..' not in sys.path:\n",
    "    sys.path.append('..')\n",
    "from car_reg_generator.car_reg_generator.uk_reg import UkRegGenerator\n",
    "from car_reg_generator.car_reg_generator.uk_reg import UkRegDvlaVectorizer"
   ]
  },
  {
   "cell_type": "markdown",
   "metadata": {},
   "source": [
    "### Data generation"
   ]
  },
  {
   "cell_type": "code",
   "execution_count": 2,
   "metadata": {},
   "outputs": [
    {
     "name": "stdout",
     "output_type": "stream",
     "text": [
      "input vector length = 150\n",
      "actual number of validation samples = 1000\n",
      "actual number of test samples = 1000\n"
     ]
    }
   ],
   "source": [
    "n_train = 10000\n",
    "n_val = 1000\n",
    "n_test = 1000\n",
    "\n",
    "random.seed(0)\n",
    "g = UkRegGenerator()\n",
    "v = UkRegDvlaVectorizer()\n",
    "\n",
    "train_strs = [g.get_reg() for _ in range(n_train)]\n",
    "train_vecs = np.array([v.vectorize(x) for x in train_strs])\n",
    "val_strs = [g.get_reg() for _ in range(n_val)]\n",
    "val_strs = [x for x in val_strs if x not in set(train_strs)]  # sanity check\n",
    "val_vecs = np.array([v.vectorize(x) for x in val_strs])\n",
    "test_strs = [g.get_reg() for _ in range(n_test)]\n",
    "test_strs = [x for x in test_strs if x not in set(train_strs) | set(val_strs)]  # sanity check\n",
    "test_vecs = np.array([v.vectorize(x) for x in test_strs])\n",
    "\n",
    "vec_length = len(train_vecs[0])\n",
    "print('input vector length = ' + str(vec_length))\n",
    "print('actual number of validation samples = ' + str(len(val_strs)))\n",
    "print('actual number of test samples = ' + str(len(test_strs)))"
   ]
  },
  {
   "cell_type": "markdown",
   "metadata": {},
   "source": [
    "### Variational autoencoder\n",
    "\n",
    "Design the architecture"
   ]
  },
  {
   "cell_type": "code",
   "execution_count": 3,
   "metadata": {},
   "outputs": [],
   "source": [
    "latent_dim = 20\n",
    "original_dim = vec_length\n",
    "\n",
    "### Define the encoder\n",
    "inputs = keras.Input(shape=(original_dim,))\n",
    "h = inputs\n",
    "h = layers.Dense(70, activation='relu')(h)\n",
    "h = layers.Dense(30, activation='relu')(h)\n",
    "z_mean = layers.Dense(latent_dim)(h)\n",
    "z_log_sigma = layers.Dense(latent_dim)(h)\n",
    "\n",
    "def sampling(args):\n",
    "    z_mean, z_log_sigma = args\n",
    "    epsilon = backend.random_normal(shape=(backend.shape(z_mean)[0], latent_dim),\n",
    "                                    mean=0., stddev=0.1)\n",
    "    return z_mean + backend.exp(z_log_sigma) * epsilon\n",
    "\n",
    "z = layers.Lambda(sampling)([z_mean, z_log_sigma])\n",
    "\n",
    "encoder = keras.Model(inputs, [z_mean, z_log_sigma, z], name='encoder')\n",
    "\n",
    "### Define the decoder\n",
    "latent_inputs = keras.Input(shape=(latent_dim,), name='z_sampling')\n",
    "x = latent_inputs\n",
    "x = layers.Dense(30, activation='relu')(x)\n",
    "x = layers.Dense(70, activation='relu')(x)\n",
    "x = layers.Dense(vec_length, activation='sigmoid')(x)\n",
    "outputs = x\n",
    "decoder = keras.Model(latent_inputs, outputs, name='decoder')\n",
    "\n",
    "outputs = decoder(encoder(inputs)[2])\n",
    "vae = keras.Model(inputs, outputs, name='vae_mlp')\n",
    "\n",
    "### Define the loss function\n",
    "reconstruction_loss = keras.losses.binary_crossentropy(inputs, outputs)\n",
    "reconstruction_loss *= original_dim\n",
    "kl_loss = 1 + z_log_sigma - backend.square(z_mean) - backend.exp(z_log_sigma)\n",
    "kl_loss = backend.sum(kl_loss, axis=-1)\n",
    "kl_loss *= -0.5\n",
    "vae_loss = backend.mean(reconstruction_loss + kl_loss)\n",
    "vae.add_loss(vae_loss)"
   ]
  },
  {
   "cell_type": "markdown",
   "metadata": {},
   "source": [
    "Do some training"
   ]
  },
  {
   "cell_type": "code",
   "execution_count": 4,
   "metadata": {
    "scrolled": true
   },
   "outputs": [
    {
     "name": "stdout",
     "output_type": "stream",
     "text": [
      "Epoch 1/120\n",
      "1250/1250 [==============================] - 1s 824us/step - loss: 28.2999 - val_loss: 25.5462\n",
      "Epoch 2/120\n",
      "1250/1250 [==============================] - 1s 742us/step - loss: 23.9299 - val_loss: 22.9348\n",
      "Epoch 3/120\n",
      "1250/1250 [==============================] - 1s 735us/step - loss: 22.0751 - val_loss: 21.7079\n",
      "Epoch 4/120\n",
      "1250/1250 [==============================] - 1s 741us/step - loss: 20.9882 - val_loss: 20.5556\n",
      "Epoch 5/120\n",
      "1250/1250 [==============================] - 1s 793us/step - loss: 19.9539 - val_loss: 19.9316\n",
      "Epoch 6/120\n",
      "1250/1250 [==============================] - 1s 746us/step - loss: 19.2625 - val_loss: 19.2459\n",
      "Epoch 7/120\n",
      "1250/1250 [==============================] - 1s 759us/step - loss: 18.7793 - val_loss: 19.0039\n",
      "Epoch 8/120\n",
      "1250/1250 [==============================] - 1s 794us/step - loss: 18.5033 - val_loss: 18.8181\n",
      "Epoch 9/120\n",
      "1250/1250 [==============================] - 1s 792us/step - loss: 18.2461 - val_loss: 18.6485\n",
      "Epoch 10/120\n",
      "1250/1250 [==============================] - 1s 766us/step - loss: 17.9546 - val_loss: 18.2887\n",
      "Epoch 11/120\n",
      "1250/1250 [==============================] - 1s 772us/step - loss: 17.4592 - val_loss: 17.8752\n",
      "Epoch 12/120\n",
      "1250/1250 [==============================] - 1s 790us/step - loss: 17.1624 - val_loss: 17.6972\n",
      "Epoch 13/120\n",
      "1250/1250 [==============================] - 1s 766us/step - loss: 16.9047 - val_loss: 17.4303\n",
      "Epoch 14/120\n",
      "1250/1250 [==============================] - 1s 758us/step - loss: 16.6601 - val_loss: 17.2889\n",
      "Epoch 15/120\n",
      "1250/1250 [==============================] - 1s 761us/step - loss: 16.4049 - val_loss: 16.9590\n",
      "Epoch 16/120\n",
      "1250/1250 [==============================] - 1s 766us/step - loss: 16.1237 - val_loss: 16.7178\n",
      "Epoch 17/120\n",
      "1250/1250 [==============================] - 1s 762us/step - loss: 15.8673 - val_loss: 16.4960\n",
      "Epoch 18/120\n",
      "1250/1250 [==============================] - 1s 760us/step - loss: 15.5662 - val_loss: 16.2466\n",
      "Epoch 19/120\n",
      "1250/1250 [==============================] - 1s 766us/step - loss: 15.3037 - val_loss: 15.8800\n",
      "Epoch 20/120\n",
      "1250/1250 [==============================] - 1s 789us/step - loss: 15.0462 - val_loss: 15.5950\n",
      "Epoch 21/120\n",
      "1250/1250 [==============================] - 1s 759us/step - loss: 14.8137 - val_loss: 15.3861\n",
      "Epoch 22/120\n",
      "1250/1250 [==============================] - 1s 776us/step - loss: 14.5432 - val_loss: 15.2020\n",
      "Epoch 23/120\n",
      "1250/1250 [==============================] - 1s 789us/step - loss: 14.3307 - val_loss: 14.9652\n",
      "Epoch 24/120\n",
      "1250/1250 [==============================] - 1s 782us/step - loss: 14.0840 - val_loss: 14.7626\n",
      "Epoch 25/120\n",
      "1250/1250 [==============================] - 1s 766us/step - loss: 13.8721 - val_loss: 14.4371\n",
      "Epoch 26/120\n",
      "1250/1250 [==============================] - 1s 770us/step - loss: 13.6468 - val_loss: 14.1858\n",
      "Epoch 27/120\n",
      "1250/1250 [==============================] - 1s 766us/step - loss: 13.3626 - val_loss: 14.0323\n",
      "Epoch 28/120\n",
      "1250/1250 [==============================] - 1s 775us/step - loss: 13.1070 - val_loss: 13.5672\n",
      "Epoch 29/120\n",
      "1250/1250 [==============================] - 1s 770us/step - loss: 12.8261 - val_loss: 13.4031\n",
      "Epoch 30/120\n",
      "1250/1250 [==============================] - 1s 762us/step - loss: 12.5677 - val_loss: 13.1512\n",
      "Epoch 31/120\n",
      "1250/1250 [==============================] - 1s 766us/step - loss: 12.3748 - val_loss: 13.1485\n",
      "Epoch 32/120\n",
      "1250/1250 [==============================] - 1s 808us/step - loss: 12.1615 - val_loss: 12.8682\n",
      "Epoch 33/120\n",
      "1250/1250 [==============================] - 1s 767us/step - loss: 11.9490 - val_loss: 12.6432\n",
      "Epoch 34/120\n",
      "1250/1250 [==============================] - 1s 777us/step - loss: 11.7426 - val_loss: 12.2159\n",
      "Epoch 35/120\n",
      "1250/1250 [==============================] - 1s 769us/step - loss: 11.5636 - val_loss: 12.2525\n",
      "Epoch 36/120\n",
      "1250/1250 [==============================] - 1s 769us/step - loss: 11.3534 - val_loss: 11.8929\n",
      "Epoch 37/120\n",
      "1250/1250 [==============================] - 1s 766us/step - loss: 11.1880 - val_loss: 11.9688\n",
      "Epoch 38/120\n",
      "1250/1250 [==============================] - 1s 781us/step - loss: 11.0356 - val_loss: 11.6404\n",
      "Epoch 39/120\n",
      "1250/1250 [==============================] - 1s 762us/step - loss: 10.8402 - val_loss: 11.6013\n",
      "Epoch 40/120\n",
      "1250/1250 [==============================] - 1s 770us/step - loss: 10.6892 - val_loss: 11.3350\n",
      "Epoch 41/120\n",
      "1250/1250 [==============================] - 1s 786us/step - loss: 10.5456 - val_loss: 11.0317\n",
      "Epoch 42/120\n",
      "1250/1250 [==============================] - 1s 834us/step - loss: 10.3685 - val_loss: 11.1414\n",
      "Epoch 43/120\n",
      "1250/1250 [==============================] - 1s 836us/step - loss: 10.2049 - val_loss: 10.8606\n",
      "Epoch 44/120\n",
      "1250/1250 [==============================] - 1s 813us/step - loss: 10.0823 - val_loss: 10.7248\n",
      "Epoch 45/120\n",
      "1250/1250 [==============================] - 1s 712us/step - loss: 9.8989 - val_loss: 10.4344\n",
      "Epoch 46/120\n",
      "1250/1250 [==============================] - 1s 741us/step - loss: 9.7110 - val_loss: 10.2743\n",
      "Epoch 47/120\n",
      "1250/1250 [==============================] - 1s 721us/step - loss: 9.5546 - val_loss: 10.1730\n",
      "Epoch 48/120\n",
      "1250/1250 [==============================] - 1s 719us/step - loss: 9.4118 - val_loss: 10.0127\n",
      "Epoch 49/120\n",
      "1250/1250 [==============================] - 1s 700us/step - loss: 9.2314 - val_loss: 9.9338\n",
      "Epoch 50/120\n",
      "1250/1250 [==============================] - 1s 700us/step - loss: 9.0910 - val_loss: 9.7133\n",
      "Epoch 51/120\n",
      "1250/1250 [==============================] - 1s 730us/step - loss: 8.9827 - val_loss: 9.4848\n",
      "Epoch 52/120\n",
      "1250/1250 [==============================] - 1s 719us/step - loss: 8.8622 - val_loss: 9.4501\n",
      "Epoch 53/120\n",
      "1250/1250 [==============================] - 1s 739us/step - loss: 8.6995 - val_loss: 9.2279\n",
      "Epoch 54/120\n",
      "1250/1250 [==============================] - 1s 824us/step - loss: 8.5715 - val_loss: 9.0535\n",
      "Epoch 55/120\n",
      "1250/1250 [==============================] - 1s 736us/step - loss: 8.4105 - val_loss: 8.8097\n",
      "Epoch 56/120\n",
      "1250/1250 [==============================] - 1s 731us/step - loss: 8.3180 - val_loss: 8.5946\n",
      "Epoch 57/120\n",
      "1250/1250 [==============================] - 1s 717us/step - loss: 8.1115 - val_loss: 8.8879\n",
      "Epoch 58/120\n",
      "1250/1250 [==============================] - 1s 724us/step - loss: 7.9537 - val_loss: 8.5139\n",
      "Epoch 59/120\n",
      "1250/1250 [==============================] - 1s 720us/step - loss: 7.8405 - val_loss: 8.3839\n",
      "Epoch 60/120\n",
      "1250/1250 [==============================] - 1s 757us/step - loss: 7.6768 - val_loss: 8.0351\n",
      "Epoch 61/120\n",
      "1250/1250 [==============================] - 1s 748us/step - loss: 7.5188 - val_loss: 8.0048\n",
      "Epoch 62/120\n",
      "1250/1250 [==============================] - 1s 772us/step - loss: 7.4097 - val_loss: 7.7455\n",
      "Epoch 63/120\n",
      "1250/1250 [==============================] - 1s 752us/step - loss: 7.2685 - val_loss: 7.7969\n",
      "Epoch 64/120\n",
      "1250/1250 [==============================] - 1s 752us/step - loss: 7.1672 - val_loss: 7.3739\n",
      "Epoch 65/120\n",
      "1250/1250 [==============================] - 1s 743us/step - loss: 7.0248 - val_loss: 7.2124\n",
      "Epoch 66/120\n",
      "1250/1250 [==============================] - 1s 763us/step - loss: 6.8752 - val_loss: 7.3200\n",
      "Epoch 67/120\n",
      "1250/1250 [==============================] - 1s 758us/step - loss: 6.8095 - val_loss: 7.0675\n",
      "Epoch 68/120\n",
      "1250/1250 [==============================] - 1s 764us/step - loss: 6.7281 - val_loss: 7.0007\n",
      "Epoch 69/120\n",
      "1250/1250 [==============================] - 1s 763us/step - loss: 6.6213 - val_loss: 7.0448\n",
      "Epoch 70/120\n",
      "1250/1250 [==============================] - 1s 786us/step - loss: 6.4749 - val_loss: 6.7832\n",
      "Epoch 71/120\n",
      "1250/1250 [==============================] - 1s 771us/step - loss: 6.4001 - val_loss: 6.7574\n",
      "Epoch 72/120\n",
      "1250/1250 [==============================] - 1s 772us/step - loss: 6.3085 - val_loss: 6.5414\n",
      "Epoch 73/120\n",
      "1250/1250 [==============================] - 1s 743us/step - loss: 6.1897 - val_loss: 6.4712\n",
      "Epoch 74/120\n",
      "1250/1250 [==============================] - 1s 721us/step - loss: 6.1373 - val_loss: 6.6827\n",
      "Epoch 75/120\n",
      "1250/1250 [==============================] - 1s 726us/step - loss: 6.0271 - val_loss: 6.6654\n",
      "Epoch 76/120\n",
      "1250/1250 [==============================] - 1s 724us/step - loss: 5.9636 - val_loss: 6.4659\n",
      "Epoch 77/120\n"
     ]
    },
    {
     "name": "stdout",
     "output_type": "stream",
     "text": [
      "1250/1250 [==============================] - 1s 741us/step - loss: 5.8797 - val_loss: 6.0250\n",
      "Epoch 78/120\n",
      "1250/1250 [==============================] - 1s 758us/step - loss: 5.8391 - val_loss: 6.3018\n",
      "Epoch 79/120\n",
      "1250/1250 [==============================] - 1s 751us/step - loss: 5.7215 - val_loss: 6.0362\n",
      "Epoch 80/120\n",
      "1250/1250 [==============================] - 1s 757us/step - loss: 5.6503 - val_loss: 5.9607\n",
      "Epoch 81/120\n",
      "1250/1250 [==============================] - 1s 742us/step - loss: 5.6176 - val_loss: 5.7816\n",
      "Epoch 82/120\n",
      "1250/1250 [==============================] - 1s 778us/step - loss: 5.5583 - val_loss: 5.8644\n",
      "Epoch 83/120\n",
      "1250/1250 [==============================] - 1s 807us/step - loss: 5.5030 - val_loss: 5.5307\n",
      "Epoch 84/120\n",
      "1250/1250 [==============================] - 1s 719us/step - loss: 5.4228 - val_loss: 5.4486\n",
      "Epoch 85/120\n",
      "1250/1250 [==============================] - 1s 727us/step - loss: 5.3672 - val_loss: 5.6680\n",
      "Epoch 86/120\n",
      "1250/1250 [==============================] - 1s 724us/step - loss: 5.3546 - val_loss: 5.4599\n",
      "Epoch 87/120\n",
      "1250/1250 [==============================] - 1s 715us/step - loss: 5.2825 - val_loss: 5.7354\n",
      "Epoch 88/120\n",
      "1250/1250 [==============================] - 1s 733us/step - loss: 5.2364 - val_loss: 5.5736\n",
      "Epoch 89/120\n",
      "1250/1250 [==============================] - 1s 740us/step - loss: 5.2076 - val_loss: 5.5115\n",
      "Epoch 90/120\n",
      "1250/1250 [==============================] - 1s 741us/step - loss: 5.1024 - val_loss: 5.4896\n",
      "Epoch 91/120\n",
      "1250/1250 [==============================] - 1s 743us/step - loss: 5.0580 - val_loss: 5.3178\n",
      "Epoch 92/120\n",
      "1250/1250 [==============================] - 1s 716us/step - loss: 5.0246 - val_loss: 5.2808\n",
      "Epoch 93/120\n",
      "1250/1250 [==============================] - 1s 722us/step - loss: 4.9903 - val_loss: 5.2314\n",
      "Epoch 94/120\n",
      "1250/1250 [==============================] - 1s 733us/step - loss: 4.9361 - val_loss: 5.2501\n",
      "Epoch 95/120\n",
      "1250/1250 [==============================] - 1s 718us/step - loss: 4.9285 - val_loss: 5.4258\n",
      "Epoch 96/120\n",
      "1250/1250 [==============================] - 1s 735us/step - loss: 4.8525 - val_loss: 4.9522\n",
      "Epoch 97/120\n",
      "1250/1250 [==============================] - 1s 711us/step - loss: 4.8466 - val_loss: 5.1256\n",
      "Epoch 98/120\n",
      "1250/1250 [==============================] - 1s 687us/step - loss: 4.8069 - val_loss: 4.9434\n",
      "Epoch 99/120\n",
      "1250/1250 [==============================] - 1s 685us/step - loss: 4.7401 - val_loss: 4.8029\n",
      "Epoch 100/120\n",
      "1250/1250 [==============================] - 1s 689us/step - loss: 4.7239 - val_loss: 4.9535\n",
      "Epoch 101/120\n",
      "1250/1250 [==============================] - 1s 685us/step - loss: 4.7285 - val_loss: 4.7310\n",
      "Epoch 102/120\n",
      "1250/1250 [==============================] - 1s 693us/step - loss: 4.6879 - val_loss: 4.8719\n",
      "Epoch 103/120\n",
      "1250/1250 [==============================] - 1s 737us/step - loss: 4.6621 - val_loss: 4.8749\n",
      "Epoch 104/120\n",
      "1250/1250 [==============================] - 1s 715us/step - loss: 4.6039 - val_loss: 4.7368\n",
      "Epoch 105/120\n",
      "1250/1250 [==============================] - 1s 717us/step - loss: 4.6334 - val_loss: 4.6272\n",
      "Epoch 106/120\n",
      "1250/1250 [==============================] - 1s 691us/step - loss: 4.5967 - val_loss: 4.8945\n",
      "Epoch 107/120\n",
      "1250/1250 [==============================] - 1s 718us/step - loss: 4.5384 - val_loss: 4.9622\n",
      "Epoch 108/120\n",
      "1250/1250 [==============================] - 1s 752us/step - loss: 4.5303 - val_loss: 4.9644\n",
      "Epoch 109/120\n",
      "1250/1250 [==============================] - 1s 800us/step - loss: 4.5397 - val_loss: 4.7741\n",
      "Epoch 110/120\n",
      "1250/1250 [==============================] - 1s 688us/step - loss: 4.4984 - val_loss: 4.5611\n",
      "Epoch 111/120\n",
      "1250/1250 [==============================] - 1s 718us/step - loss: 4.4707 - val_loss: 4.6536\n",
      "Epoch 112/120\n",
      "1250/1250 [==============================] - 1s 755us/step - loss: 4.4455 - val_loss: 4.5007\n",
      "Epoch 113/120\n",
      "1250/1250 [==============================] - 1s 730us/step - loss: 4.4085 - val_loss: 4.6448\n",
      "Epoch 114/120\n",
      "1250/1250 [==============================] - 1s 686us/step - loss: 4.3973 - val_loss: 4.5006\n",
      "Epoch 115/120\n",
      "1250/1250 [==============================] - 1s 716us/step - loss: 4.3784 - val_loss: 4.5509\n",
      "Epoch 116/120\n",
      "1250/1250 [==============================] - 1s 719us/step - loss: 4.4005 - val_loss: 4.4232\n",
      "Epoch 117/120\n",
      "1250/1250 [==============================] - 1s 693us/step - loss: 4.3214 - val_loss: 4.7505\n",
      "Epoch 118/120\n",
      "1250/1250 [==============================] - 1s 747us/step - loss: 4.3077 - val_loss: 4.6331\n",
      "Epoch 119/120\n",
      "1250/1250 [==============================] - 1s 713us/step - loss: 4.3529 - val_loss: 4.4430\n",
      "Epoch 120/120\n",
      "1250/1250 [==============================] - 1s 712us/step - loss: 4.3428 - val_loss: 4.5936\n"
     ]
    },
    {
     "data": {
      "text/plain": [
       "<tensorflow.python.keras.callbacks.History at 0x7f268c547110>"
      ]
     },
     "execution_count": 4,
     "metadata": {},
     "output_type": "execute_result"
    }
   ],
   "source": [
    "opt = optimizers.Adamax(learning_rate=0.004)\n",
    "vae.compile(optimizer=opt, loss='binary_crossentropy')\n",
    "vae.fit(train_vecs, train_vecs,\n",
    "        epochs=120,\n",
    "        batch_size=8,\n",
    "        shuffle=True,\n",
    "        validation_data=(val_vecs, val_vecs))"
   ]
  },
  {
   "cell_type": "markdown",
   "metadata": {},
   "source": [
    "Evaluation"
   ]
  },
  {
   "cell_type": "code",
   "execution_count": 5,
   "metadata": {
    "scrolled": false
   },
   "outputs": [
    {
     "name": "stdout",
     "output_type": "stream",
     "text": [
      "['MY33WSZ', 'WE83GXF', 'LU19JLV', 'KX41GVE', 'WP91NCV', 'SG47LFF', 'HB17WIY', 'CA89AXN', 'GT57AKA', 'CD77SJT']\n",
      "['MY33WSZ', 'WE83GXF', 'LU19JLV', 'KX11GVE', 'WP91NCV', 'SG47LSF', 'HB17WIY', 'CA89AXN', 'GT57ZKA', 'CD77SJT']\n",
      "overall accuracy = 0.827\n",
      "by digit accuracy:\n",
      "    0.986\n",
      "    0.984\n",
      "    0.973\n",
      "    0.988\n",
      "    0.934\n",
      "    0.978\n",
      "    0.966\n"
     ]
    }
   ],
   "source": [
    "decoded_regs = vae.predict(test_vecs)\n",
    "print(test_strs[:10])\n",
    "recovered = [v.recover(x) for x in decoded_regs]\n",
    "print(recovered[:10])\n",
    "acc = np.sum([x == y for x, y in zip(recovered, test_strs)]) / len(test_strs)\n",
    "print('overall accuracy = ' + str(acc))\n",
    "print('by digit accuracy:')\n",
    "for i_digit in range(len(test_strs[0])):\n",
    "    acc = np.sum([x[i_digit] == y[i_digit] for x, y in zip(recovered, test_strs)]) / len(test_strs)\n",
    "    print('    ' + str(acc))"
   ]
  },
  {
   "cell_type": "markdown",
   "metadata": {},
   "source": [
    "Use decoder as generator"
   ]
  },
  {
   "cell_type": "code",
   "execution_count": 6,
   "metadata": {},
   "outputs": [
    {
     "name": "stdout",
     "output_type": "stream",
     "text": [
      "['RA63MDZ', 'PT13HZX', 'PA43KGX', 'PA83VWZ', 'PA34VZX']\n"
     ]
    }
   ],
   "source": [
    "generated_regs = decoder.predict(np.random.random((5, latent_dim)))\n",
    "print([v.recover(x) for x in generated_regs])"
   ]
  },
  {
   "cell_type": "markdown",
   "metadata": {},
   "source": [
    "### Avoid generating any training data\n",
    "\n",
    "There is a chance that a random generation of data might produce one of the actual registration numbers used in training. However, any input registrations are represented as a probability distribution in the latent space; so one could require that any sample vector used in the latent space to be 'sufficiently far' down the tails of all the recorded distributions.\n",
    "\n"
   ]
  },
  {
   "cell_type": "code",
   "execution_count": 7,
   "metadata": {},
   "outputs": [
    {
     "data": {
      "text/plain": [
       "(array([ 0.2781712 ,  0.3491726 , -0.102899  , -0.27254137, -0.54578245,\n",
       "         0.02597244, -0.02890204, -0.01442936,  0.24338357, -0.5948266 ,\n",
       "         0.26151133,  0.45709428, -0.7044419 ,  0.5233098 ,  1.0202402 ,\n",
       "         0.23642889, -0.40227908,  0.02383937,  0.7365775 ,  0.29046974],\n",
       "       dtype=float32),\n",
       " array([0.75283927, 0.6725014 , 0.66999155, 0.6595008 , 0.6006482 ,\n",
       "        0.647655  , 0.9895292 , 0.99312407, 0.54756856, 0.63305753,\n",
       "        0.77145696, 0.6659439 , 0.55902433, 0.60124886, 0.6191432 ,\n",
       "        0.5863514 , 0.6290502 , 1.0134101 , 0.55971897, 0.6589626 ],\n",
       "       dtype=float32))"
      ]
     },
     "execution_count": 7,
     "metadata": {},
     "output_type": "execute_result"
    }
   ],
   "source": [
    "# Get the distributions for each reg number in the data\n",
    "all_strs = train_strs + val_strs + test_strs\n",
    "all_vecs = np.array([v.vectorize(x) for x in all_strs])\n",
    "means, log_sigmas, _ = encoder.predict(all_vecs)\n",
    "distn_dict = {x: (y,z) for x, y, z in zip(all_strs, means, np.exp(log_sigmas))}  # dict<reg no: (mean, sigma)>\n",
    "distn_dict['YK66BIQ']\n",
    "# for a multivariate distribution ~ N(mean, Var) valued in the latent space, \n",
    "# mean is the first vector below, and Var is a diagonal matrix, the square root\n",
    "# of the diagonal entries being given in the second vector.\n",
    "# If the KL loss function has done its job, the distributions should be close to N(0,1)"
   ]
  },
  {
   "cell_type": "code",
   "execution_count": null,
   "metadata": {},
   "outputs": [],
   "source": []
  }
 ],
 "metadata": {
  "kernelspec": {
   "display_name": "Python 3",
   "language": "python",
   "name": "python3"
  },
  "language_info": {
   "codemirror_mode": {
    "name": "ipython",
    "version": 3
   },
   "file_extension": ".py",
   "mimetype": "text/x-python",
   "name": "python",
   "nbconvert_exporter": "python",
   "pygments_lexer": "ipython3",
   "version": "3.7.9"
  }
 },
 "nbformat": 4,
 "nbformat_minor": 4
}
