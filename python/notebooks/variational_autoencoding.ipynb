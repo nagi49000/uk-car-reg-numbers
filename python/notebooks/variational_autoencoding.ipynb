{
 "cells": [
  {
   "cell_type": "markdown",
   "metadata": {},
   "source": [
    "# Build a variational autoencoder\n",
    "\n",
    "Based on the ability to generate UK car registration numbers, one can build a dataset of training and test data. With a suitable vectorizer, one can go ahead and make an autoencoder.\n",
    "\n",
    "The decoder part of the variational encoder can then be used to generate new reg numbers.\n",
    "\n",
    "### References\n",
    "\n",
    "https://blog.keras.io/building-autoencoders-in-keras.html\n",
    "\n",
    "https://towardsdatascience.com/understanding-variational-autoencoders-vaes-f70510919f73"
   ]
  },
  {
   "cell_type": "code",
   "execution_count": 1,
   "metadata": {},
   "outputs": [],
   "source": [
    "import sys\n",
    "import numpy as np\n",
    "import keras\n",
    "from keras import regularizers\n",
    "from keras import layers\n",
    "from keras import backend\n",
    "from keras import optimizers\n",
    "import random\n",
    "\n",
    "if '..' not in sys.path:\n",
    "    sys.path.append('..')\n",
    "from car_reg_generator.car_reg_generator.uk_reg import UkRegGenerator\n",
    "from car_reg_generator.car_reg_generator.uk_reg import UkRegDvlaVectorizer"
   ]
  },
  {
   "cell_type": "markdown",
   "metadata": {},
   "source": [
    "### Data generation"
   ]
  },
  {
   "cell_type": "code",
   "execution_count": 2,
   "metadata": {},
   "outputs": [
    {
     "name": "stdout",
     "output_type": "stream",
     "text": [
      "input vector length = 150\n",
      "actual number of validation samples = 1000\n",
      "actual number of test samples = 1000\n"
     ]
    }
   ],
   "source": [
    "n_train = 10000\n",
    "n_val = 1000\n",
    "n_test = 1000\n",
    "\n",
    "random.seed(0)\n",
    "g = UkRegGenerator()\n",
    "v = UkRegDvlaVectorizer()\n",
    "\n",
    "train_strs = [g.get_reg() for _ in range(n_train)]\n",
    "train_vecs = np.array([v.vectorize(x) for x in train_strs])\n",
    "val_strs = [g.get_reg() for _ in range(n_val)]\n",
    "val_strs = [x for x in val_strs if x not in set(train_strs)]  # sanity check\n",
    "val_vecs = np.array([v.vectorize(x) for x in val_strs])\n",
    "test_strs = [g.get_reg() for _ in range(n_test)]\n",
    "test_strs = [x for x in test_strs if x not in set(train_strs) | set(val_strs)]  # sanity check\n",
    "test_vecs = np.array([v.vectorize(x) for x in test_strs])\n",
    "\n",
    "vec_length = len(train_vecs[0])\n",
    "print('input vector length = ' + str(vec_length))\n",
    "print('actual number of validation samples = ' + str(len(val_strs)))\n",
    "print('actual number of test samples = ' + str(len(test_strs)))"
   ]
  },
  {
   "cell_type": "markdown",
   "metadata": {},
   "source": [
    "### Variational autoencoder\n",
    "\n",
    "Design the architecture"
   ]
  },
  {
   "cell_type": "code",
   "execution_count": 3,
   "metadata": {},
   "outputs": [],
   "source": [
    "latent_dim = 15\n",
    "\n",
    "### Define the encoder\n",
    "inputs = keras.Input(shape=(vec_length,))\n",
    "h = inputs\n",
    "h = layers.Dense(vec_length, activation='relu')(h)\n",
    "h = layers.Dense(50, activation='relu')(h)\n",
    "h = layers.Dense(25, activation='relu')(h)\n",
    "z_mean = layers.Dense(latent_dim)(h)\n",
    "z_log_sigma = layers.Dense(latent_dim)(h)\n",
    "\n",
    "def sampling(args):\n",
    "    z_mean, z_log_sigma = args\n",
    "    epsilon = backend.random_normal(shape=(backend.shape(z_mean)[0], latent_dim),\n",
    "                                    mean=0., stddev=0.1)\n",
    "    return z_mean + backend.exp(z_log_sigma) * epsilon\n",
    "\n",
    "z = layers.Lambda(sampling)([z_mean, z_log_sigma])\n",
    "\n",
    "encoder = keras.Model(inputs, [z_mean, z_log_sigma, z], name='encoder')\n",
    "\n",
    "### Define the decoder\n",
    "latent_inputs = keras.Input(shape=(latent_dim,), name='z_sampling')\n",
    "x = latent_inputs\n",
    "x = layers.Dense(25, activation='relu')(x)\n",
    "x = layers.Dense(50, activation='relu')(x)\n",
    "x = layers.Dense(vec_length, activation='relu')(x)\n",
    "x = layers.Dense(vec_length, activation='sigmoid')(x)\n",
    "outputs = x\n",
    "decoder = keras.Model(latent_inputs, outputs, name='decoder')\n",
    "\n",
    "outputs = decoder(encoder(inputs)[2])\n",
    "vae = keras.Model(inputs, outputs, name='vae_mlp')\n",
    "\n",
    "### Define the loss function\n",
    "reconstruction_loss = keras.losses.binary_crossentropy(inputs, outputs)\n",
    "reconstruction_loss *= vec_length\n",
    "kl_loss = 1 + z_log_sigma - backend.square(z_mean) - backend.exp(z_log_sigma)\n",
    "kl_loss = backend.sum(kl_loss, axis=-1)\n",
    "kl_loss *= -0.5\n",
    "vae_loss = backend.mean(reconstruction_loss + kl_loss)\n",
    "vae.add_loss(vae_loss)"
   ]
  },
  {
   "cell_type": "markdown",
   "metadata": {},
   "source": [
    "Do some training"
   ]
  },
  {
   "cell_type": "code",
   "execution_count": 29,
   "metadata": {
    "scrolled": true
   },
   "outputs": [
    {
     "name": "stdout",
     "output_type": "stream",
     "text": [
      "Epoch 1/200\n",
      "1250/1250 [==============================] - 1s 1ms/step - loss: 5.2654 - val_loss: 6.3100\n",
      "Epoch 2/200\n",
      "1250/1250 [==============================] - 1s 917us/step - loss: 5.1368 - val_loss: 6.2133\n",
      "Epoch 3/200\n",
      "1250/1250 [==============================] - 1s 916us/step - loss: 5.0848 - val_loss: 6.2406\n",
      "Epoch 4/200\n",
      "1250/1250 [==============================] - 1s 932us/step - loss: 5.0818 - val_loss: 6.2070\n",
      "Epoch 5/200\n",
      "1250/1250 [==============================] - 1s 930us/step - loss: 5.0522 - val_loss: 6.1792\n",
      "Epoch 6/200\n",
      "1250/1250 [==============================] - 1s 932us/step - loss: 5.0364 - val_loss: 6.3538\n",
      "Epoch 7/200\n",
      "1250/1250 [==============================] - 1s 930us/step - loss: 5.0107 - val_loss: 6.1280\n",
      "Epoch 8/200\n",
      "1250/1250 [==============================] - 1s 934us/step - loss: 4.9790 - val_loss: 6.3372\n",
      "Epoch 9/200\n",
      "1250/1250 [==============================] - 1s 934us/step - loss: 4.9800 - val_loss: 6.1396\n",
      "Epoch 10/200\n",
      "1250/1250 [==============================] - 1s 943us/step - loss: 4.9737 - val_loss: 6.0094\n",
      "Epoch 11/200\n",
      "1250/1250 [==============================] - 1s 947us/step - loss: 4.9717 - val_loss: 6.0712\n",
      "Epoch 12/200\n",
      "1250/1250 [==============================] - 1s 923us/step - loss: 4.9431 - val_loss: 6.0748\n",
      "Epoch 13/200\n",
      "1250/1250 [==============================] - 1s 929us/step - loss: 4.9655 - val_loss: 6.0182\n",
      "Epoch 14/200\n",
      "1250/1250 [==============================] - 1s 928us/step - loss: 4.9279 - val_loss: 6.1873\n",
      "Epoch 15/200\n",
      "1250/1250 [==============================] - 1s 948us/step - loss: 4.9483 - val_loss: 6.0822\n",
      "Epoch 16/200\n",
      "1250/1250 [==============================] - 1s 939us/step - loss: 4.9472 - val_loss: 6.2119\n",
      "Epoch 17/200\n",
      "1250/1250 [==============================] - 1s 946us/step - loss: 4.9288 - val_loss: 6.1176\n",
      "Epoch 18/200\n",
      "1250/1250 [==============================] - 1s 944us/step - loss: 4.9263 - val_loss: 6.1170\n",
      "Epoch 19/200\n",
      "1250/1250 [==============================] - 1s 939us/step - loss: 4.9072 - val_loss: 6.2046\n",
      "Epoch 20/200\n",
      "1250/1250 [==============================] - 1s 945us/step - loss: 4.9391 - val_loss: 6.0609\n",
      "Epoch 21/200\n",
      "1250/1250 [==============================] - 1s 943us/step - loss: 4.9038 - val_loss: 6.0235\n",
      "Epoch 22/200\n",
      "1250/1250 [==============================] - 1s 944us/step - loss: 4.8861 - val_loss: 6.0190\n",
      "Epoch 23/200\n",
      "1250/1250 [==============================] - 1s 935us/step - loss: 4.8700 - val_loss: 6.2178\n",
      "Epoch 24/200\n",
      "1250/1250 [==============================] - 1s 937us/step - loss: 4.8722 - val_loss: 6.3505\n",
      "Epoch 25/200\n",
      "1250/1250 [==============================] - 1s 938us/step - loss: 4.8694 - val_loss: 6.0723\n",
      "Epoch 26/200\n",
      "1250/1250 [==============================] - 1s 938us/step - loss: 4.8376 - val_loss: 6.0694\n",
      "Epoch 27/200\n",
      "1250/1250 [==============================] - 1s 951us/step - loss: 4.8805 - val_loss: 6.0332\n",
      "Epoch 28/200\n",
      "1250/1250 [==============================] - 1s 938us/step - loss: 4.8450 - val_loss: 6.1664\n",
      "Epoch 29/200\n",
      "1250/1250 [==============================] - 1s 940us/step - loss: 4.8517 - val_loss: 6.0930\n",
      "Epoch 30/200\n",
      "1250/1250 [==============================] - 1s 945us/step - loss: 4.8517 - val_loss: 6.0280\n",
      "Epoch 31/200\n",
      "1250/1250 [==============================] - 1s 951us/step - loss: 4.8437 - val_loss: 6.1674\n",
      "Epoch 32/200\n",
      "1250/1250 [==============================] - 1s 1ms/step - loss: 4.8377 - val_loss: 6.1099\n",
      "Epoch 33/200\n",
      "1250/1250 [==============================] - 1s 937us/step - loss: 4.8156 - val_loss: 5.9645\n",
      "Epoch 34/200\n",
      "1250/1250 [==============================] - 1s 951us/step - loss: 4.8531 - val_loss: 5.9718\n",
      "Epoch 35/200\n",
      "1250/1250 [==============================] - 1s 955us/step - loss: 4.8232 - val_loss: 5.9720\n",
      "Epoch 36/200\n",
      "1250/1250 [==============================] - 1s 965us/step - loss: 4.8199 - val_loss: 6.0241\n",
      "Epoch 37/200\n",
      "1250/1250 [==============================] - 1s 958us/step - loss: 4.7962 - val_loss: 6.0424\n",
      "Epoch 38/200\n",
      "1250/1250 [==============================] - 1s 956us/step - loss: 4.8267 - val_loss: 5.9361\n",
      "Epoch 39/200\n",
      "1250/1250 [==============================] - 1s 1ms/step - loss: 4.7966 - val_loss: 6.1614\n",
      "Epoch 40/200\n",
      "1250/1250 [==============================] - 1s 993us/step - loss: 4.7832 - val_loss: 5.9309\n",
      "Epoch 41/200\n",
      "1250/1250 [==============================] - 1s 947us/step - loss: 4.8012 - val_loss: 5.9768\n",
      "Epoch 42/200\n",
      "1250/1250 [==============================] - 1s 958us/step - loss: 4.7922 - val_loss: 5.9640\n",
      "Epoch 43/200\n",
      "1250/1250 [==============================] - 1s 949us/step - loss: 4.7827 - val_loss: 5.9733\n",
      "Epoch 44/200\n",
      "1250/1250 [==============================] - 1s 949us/step - loss: 4.7801 - val_loss: 5.8534\n",
      "Epoch 45/200\n",
      "1250/1250 [==============================] - 1s 957us/step - loss: 4.7823 - val_loss: 5.9822\n",
      "Epoch 46/200\n",
      "1250/1250 [==============================] - 1s 959us/step - loss: 4.7847 - val_loss: 6.0303\n",
      "Epoch 47/200\n",
      "1250/1250 [==============================] - 1s 952us/step - loss: 4.7757 - val_loss: 6.0194\n",
      "Epoch 48/200\n",
      "1250/1250 [==============================] - 1s 954us/step - loss: 4.7484 - val_loss: 6.0047\n",
      "Epoch 49/200\n",
      "1250/1250 [==============================] - 1s 945us/step - loss: 4.7461 - val_loss: 5.8712\n",
      "Epoch 50/200\n",
      "1250/1250 [==============================] - 1s 953us/step - loss: 4.7461 - val_loss: 6.1193\n",
      "Epoch 51/200\n",
      "1250/1250 [==============================] - 1s 953us/step - loss: 4.7461 - val_loss: 5.9323\n",
      "Epoch 52/200\n",
      "1250/1250 [==============================] - 1s 953us/step - loss: 4.7349 - val_loss: 5.8849\n",
      "Epoch 53/200\n",
      "1250/1250 [==============================] - 1s 937us/step - loss: 4.7460 - val_loss: 5.9494\n",
      "Epoch 54/200\n",
      "1250/1250 [==============================] - 1s 943us/step - loss: 4.7452 - val_loss: 5.7638\n",
      "Epoch 55/200\n",
      "1250/1250 [==============================] - 1s 946us/step - loss: 4.7508 - val_loss: 5.9466\n",
      "Epoch 56/200\n",
      "1250/1250 [==============================] - 1s 944us/step - loss: 4.7291 - val_loss: 6.0930\n",
      "Epoch 57/200\n",
      "1250/1250 [==============================] - 1s 954us/step - loss: 4.7284 - val_loss: 6.1470\n",
      "Epoch 58/200\n",
      "1250/1250 [==============================] - 1s 947us/step - loss: 4.7202 - val_loss: 6.0308\n",
      "Epoch 59/200\n",
      "1250/1250 [==============================] - 1s 955us/step - loss: 4.7272 - val_loss: 5.9402\n",
      "Epoch 60/200\n",
      "1250/1250 [==============================] - 1s 946us/step - loss: 4.7193 - val_loss: 5.8411\n",
      "Epoch 61/200\n",
      "1250/1250 [==============================] - 1s 952us/step - loss: 4.6983 - val_loss: 5.8330\n",
      "Epoch 62/200\n",
      "1250/1250 [==============================] - 1s 947us/step - loss: 4.6989 - val_loss: 6.0308\n",
      "Epoch 63/200\n",
      "1250/1250 [==============================] - 1s 952us/step - loss: 4.7142 - val_loss: 5.9317\n",
      "Epoch 64/200\n",
      "1250/1250 [==============================] - 1s 960us/step - loss: 4.6835 - val_loss: 5.8136\n",
      "Epoch 65/200\n",
      "1250/1250 [==============================] - 1s 948us/step - loss: 4.6974 - val_loss: 6.0880\n",
      "Epoch 66/200\n",
      "1250/1250 [==============================] - 1s 948us/step - loss: 4.6706 - val_loss: 5.8963\n",
      "Epoch 67/200\n",
      "1250/1250 [==============================] - 1s 943us/step - loss: 4.6813 - val_loss: 5.9409\n",
      "Epoch 68/200\n",
      "1250/1250 [==============================] - 1s 948us/step - loss: 4.7018 - val_loss: 5.8162\n",
      "Epoch 69/200\n",
      "1250/1250 [==============================] - 1s 944us/step - loss: 4.6943 - val_loss: 5.8028\n",
      "Epoch 70/200\n",
      "1250/1250 [==============================] - 1s 947us/step - loss: 4.6940 - val_loss: 5.8196\n",
      "Epoch 71/200\n",
      "1250/1250 [==============================] - 1s 955us/step - loss: 4.6683 - val_loss: 5.9222\n",
      "Epoch 72/200\n",
      "1250/1250 [==============================] - 1s 955us/step - loss: 4.6877 - val_loss: 5.8943\n",
      "Epoch 73/200\n",
      "1250/1250 [==============================] - 1s 949us/step - loss: 4.6592 - val_loss: 5.9097\n",
      "Epoch 74/200\n",
      "1250/1250 [==============================] - 1s 953us/step - loss: 4.6405 - val_loss: 5.8508\n",
      "Epoch 75/200\n",
      "1250/1250 [==============================] - 1s 958us/step - loss: 4.6679 - val_loss: 5.8426\n",
      "Epoch 76/200\n",
      "1250/1250 [==============================] - 1s 955us/step - loss: 4.6697 - val_loss: 5.9600\n",
      "Epoch 77/200\n",
      "1250/1250 [==============================] - 1s 952us/step - loss: 4.6782 - val_loss: 5.9233\n",
      "Epoch 78/200\n",
      "1250/1250 [==============================] - 1s 895us/step - loss: 4.6427 - val_loss: 5.7849\n",
      "Epoch 79/200\n",
      "1250/1250 [==============================] - 1s 889us/step - loss: 4.6542 - val_loss: 5.8151\n",
      "Epoch 80/200\n",
      "1250/1250 [==============================] - 1s 890us/step - loss: 4.6491 - val_loss: 5.9405\n",
      "Epoch 81/200\n",
      "1250/1250 [==============================] - 1s 896us/step - loss: 4.6223 - val_loss: 5.8337\n",
      "Epoch 82/200\n",
      "1250/1250 [==============================] - 1s 886us/step - loss: 4.6209 - val_loss: 5.7253\n",
      "Epoch 83/200\n",
      "1250/1250 [==============================] - 1s 890us/step - loss: 4.6441 - val_loss: 5.9031\n",
      "Epoch 84/200\n",
      "1250/1250 [==============================] - 1s 889us/step - loss: 4.6351 - val_loss: 5.8464\n",
      "Epoch 85/200\n",
      "1250/1250 [==============================] - 1s 891us/step - loss: 4.6247 - val_loss: 5.8272\n",
      "Epoch 86/200\n",
      "1250/1250 [==============================] - 1s 897us/step - loss: 4.6109 - val_loss: 5.7975\n",
      "Epoch 87/200\n",
      "1250/1250 [==============================] - 1s 898us/step - loss: 4.6430 - val_loss: 5.8817\n",
      "Epoch 88/200\n",
      "1250/1250 [==============================] - 1s 895us/step - loss: 4.6185 - val_loss: 5.8056\n",
      "Epoch 89/200\n",
      "1250/1250 [==============================] - 1s 887us/step - loss: 4.6310 - val_loss: 5.7295\n",
      "Epoch 90/200\n",
      "1250/1250 [==============================] - 1s 889us/step - loss: 4.6159 - val_loss: 5.8285\n",
      "Epoch 91/200\n",
      "1250/1250 [==============================] - 1s 888us/step - loss: 4.6202 - val_loss: 5.6868\n",
      "Epoch 92/200\n",
      "1250/1250 [==============================] - 1s 893us/step - loss: 4.6233 - val_loss: 5.6693\n",
      "Epoch 93/200\n",
      "1250/1250 [==============================] - 1s 892us/step - loss: 4.6088 - val_loss: 5.9453\n",
      "Epoch 94/200\n",
      "1250/1250 [==============================] - 1s 890us/step - loss: 4.6218 - val_loss: 5.8910\n",
      "Epoch 95/200\n",
      "1250/1250 [==============================] - 1s 890us/step - loss: 4.5934 - val_loss: 5.8574\n",
      "Epoch 96/200\n",
      "1250/1250 [==============================] - 1s 890us/step - loss: 4.5985 - val_loss: 5.8049\n",
      "Epoch 97/200\n",
      "1250/1250 [==============================] - 1s 893us/step - loss: 4.5992 - val_loss: 5.8489\n",
      "Epoch 98/200\n",
      "1250/1250 [==============================] - 1s 894us/step - loss: 4.6014 - val_loss: 5.8466\n",
      "Epoch 99/200\n",
      "1250/1250 [==============================] - 1s 895us/step - loss: 4.6003 - val_loss: 5.7995\n",
      "Epoch 100/200\n",
      "1250/1250 [==============================] - 1s 891us/step - loss: 4.5617 - val_loss: 5.8203\n",
      "Epoch 101/200\n",
      "1250/1250 [==============================] - 1s 888us/step - loss: 4.5826 - val_loss: 5.8106\n",
      "Epoch 102/200\n",
      "1250/1250 [==============================] - 1s 890us/step - loss: 4.5795 - val_loss: 5.7611\n",
      "Epoch 103/200\n",
      "1250/1250 [==============================] - 1s 896us/step - loss: 4.5852 - val_loss: 5.9517\n",
      "Epoch 104/200\n",
      "1250/1250 [==============================] - 1s 898us/step - loss: 4.5865 - val_loss: 6.0156\n",
      "Epoch 105/200\n",
      "1250/1250 [==============================] - 1s 895us/step - loss: 4.5680 - val_loss: 5.7233\n",
      "Epoch 106/200\n",
      "1250/1250 [==============================] - 1s 900us/step - loss: 4.5871 - val_loss: 5.8504\n",
      "Epoch 107/200\n",
      "1250/1250 [==============================] - 1s 893us/step - loss: 4.5915 - val_loss: 5.9194\n",
      "Epoch 108/200\n",
      "1250/1250 [==============================] - 1s 906us/step - loss: 4.5955 - val_loss: 5.8819\n",
      "Epoch 109/200\n",
      "1250/1250 [==============================] - 1s 899us/step - loss: 4.5582 - val_loss: 5.7675\n",
      "Epoch 110/200\n",
      "1250/1250 [==============================] - 1s 891us/step - loss: 4.5845 - val_loss: 5.6660\n",
      "Epoch 111/200\n",
      "1250/1250 [==============================] - 1s 893us/step - loss: 4.5467 - val_loss: 5.8438\n",
      "Epoch 112/200\n",
      "1250/1250 [==============================] - 1s 898us/step - loss: 4.5500 - val_loss: 5.7066\n",
      "Epoch 113/200\n",
      "1250/1250 [==============================] - 1s 892us/step - loss: 4.5567 - val_loss: 5.8930\n",
      "Epoch 114/200\n",
      "1250/1250 [==============================] - 1s 888us/step - loss: 4.5449 - val_loss: 5.8397\n",
      "Epoch 115/200\n",
      "1250/1250 [==============================] - 1s 893us/step - loss: 4.5238 - val_loss: 5.7328\n",
      "Epoch 116/200\n",
      "1250/1250 [==============================] - 1s 892us/step - loss: 4.5546 - val_loss: 5.8460\n",
      "Epoch 117/200\n",
      "1250/1250 [==============================] - 1s 895us/step - loss: 4.5438 - val_loss: 5.7765\n",
      "Epoch 118/200\n",
      "1250/1250 [==============================] - 1s 905us/step - loss: 4.5662 - val_loss: 5.8584\n",
      "Epoch 119/200\n",
      "1250/1250 [==============================] - 1s 892us/step - loss: 4.5480 - val_loss: 5.8885\n",
      "Epoch 120/200\n",
      "1250/1250 [==============================] - 1s 899us/step - loss: 4.5317 - val_loss: 5.7500\n",
      "Epoch 121/200\n",
      "1250/1250 [==============================] - 1s 895us/step - loss: 4.5360 - val_loss: 5.7474\n",
      "Epoch 122/200\n",
      "1250/1250 [==============================] - 1s 900us/step - loss: 4.5296 - val_loss: 5.6499\n",
      "Epoch 123/200\n",
      "1250/1250 [==============================] - 1s 891us/step - loss: 4.5399 - val_loss: 5.7255\n",
      "Epoch 124/200\n",
      "1250/1250 [==============================] - 1s 896us/step - loss: 4.5028 - val_loss: 5.7686\n",
      "Epoch 125/200\n",
      "1250/1250 [==============================] - 1s 894us/step - loss: 4.5197 - val_loss: 5.6705\n",
      "Epoch 126/200\n",
      "1250/1250 [==============================] - 1s 894us/step - loss: 4.4905 - val_loss: 5.9483\n",
      "Epoch 127/200\n",
      "1250/1250 [==============================] - 1s 892us/step - loss: 4.5121 - val_loss: 5.8344\n",
      "Epoch 128/200\n",
      "1250/1250 [==============================] - 1s 903us/step - loss: 4.5198 - val_loss: 5.6848\n",
      "Epoch 129/200\n",
      "1250/1250 [==============================] - 1s 895us/step - loss: 4.4880 - val_loss: 5.7346\n",
      "Epoch 130/200\n",
      "1250/1250 [==============================] - 1s 905us/step - loss: 4.5055 - val_loss: 5.6218\n",
      "Epoch 131/200\n",
      "1250/1250 [==============================] - 1s 892us/step - loss: 4.4767 - val_loss: 5.6191\n",
      "Epoch 132/200\n",
      "1250/1250 [==============================] - 1s 896us/step - loss: 4.5144 - val_loss: 5.6866\n",
      "Epoch 133/200\n",
      "1250/1250 [==============================] - 1s 891us/step - loss: 4.4961 - val_loss: 5.8597\n",
      "Epoch 134/200\n",
      "1250/1250 [==============================] - 1s 892us/step - loss: 4.5202 - val_loss: 5.7152\n",
      "Epoch 135/200\n",
      "1250/1250 [==============================] - 1s 898us/step - loss: 4.4767 - val_loss: 5.7583\n",
      "Epoch 136/200\n",
      "1250/1250 [==============================] - 1s 897us/step - loss: 4.5027 - val_loss: 5.7642\n",
      "Epoch 137/200\n",
      "1250/1250 [==============================] - 1s 899us/step - loss: 4.4963 - val_loss: 5.7686\n",
      "Epoch 138/200\n",
      "1250/1250 [==============================] - 1s 901us/step - loss: 4.4847 - val_loss: 5.7024\n",
      "Epoch 139/200\n",
      "1250/1250 [==============================] - 1s 910us/step - loss: 4.4795 - val_loss: 5.6131\n",
      "Epoch 140/200\n",
      "1250/1250 [==============================] - 1s 964us/step - loss: 4.5033 - val_loss: 5.6807\n",
      "Epoch 141/200\n",
      "1250/1250 [==============================] - 1s 1ms/step - loss: 4.4890 - val_loss: 5.7161\n",
      "Epoch 142/200\n",
      "1250/1250 [==============================] - 1s 954us/step - loss: 4.4516 - val_loss: 5.6125\n",
      "Epoch 143/200\n",
      "1250/1250 [==============================] - 1s 939us/step - loss: 4.4852 - val_loss: 5.6847\n",
      "Epoch 144/200\n",
      "1250/1250 [==============================] - 1s 951us/step - loss: 4.4878 - val_loss: 5.6640\n",
      "Epoch 145/200\n",
      "1250/1250 [==============================] - 1s 961us/step - loss: 4.4529 - val_loss: 5.6049\n",
      "Epoch 146/200\n",
      "1250/1250 [==============================] - 1s 932us/step - loss: 4.4757 - val_loss: 5.7674\n",
      "Epoch 147/200\n",
      "1250/1250 [==============================] - 1s 958us/step - loss: 4.4693 - val_loss: 5.6364\n",
      "Epoch 148/200\n",
      "1250/1250 [==============================] - 1s 952us/step - loss: 4.4697 - val_loss: 5.7291\n",
      "Epoch 149/200\n",
      "1250/1250 [==============================] - 1s 969us/step - loss: 4.4700 - val_loss: 5.7456\n",
      "Epoch 150/200\n",
      "1250/1250 [==============================] - 1s 955us/step - loss: 4.4308 - val_loss: 5.5965\n",
      "Epoch 151/200\n",
      "1250/1250 [==============================] - 1s 962us/step - loss: 4.4493 - val_loss: 5.6147\n",
      "Epoch 152/200\n",
      "1250/1250 [==============================] - 1s 958us/step - loss: 4.4724 - val_loss: 5.6246\n",
      "Epoch 153/200\n",
      "1250/1250 [==============================] - 1s 956us/step - loss: 4.4663 - val_loss: 5.6493\n",
      "Epoch 154/200\n",
      "1250/1250 [==============================] - 1s 959us/step - loss: 4.4650 - val_loss: 5.7044\n"
     ]
    },
    {
     "name": "stdout",
     "output_type": "stream",
     "text": [
      "Epoch 155/200\n",
      "1250/1250 [==============================] - 1s 902us/step - loss: 4.4443 - val_loss: 5.7474\n",
      "Epoch 156/200\n",
      "1250/1250 [==============================] - 1s 895us/step - loss: 4.4535 - val_loss: 5.6236\n",
      "Epoch 157/200\n",
      "1250/1250 [==============================] - 1s 902us/step - loss: 4.4463 - val_loss: 5.6123\n",
      "Epoch 158/200\n",
      "1250/1250 [==============================] - 1s 890us/step - loss: 4.4235 - val_loss: 5.8515\n",
      "Epoch 159/200\n",
      "1250/1250 [==============================] - 1s 898us/step - loss: 4.4697 - val_loss: 5.7172\n",
      "Epoch 160/200\n",
      "1250/1250 [==============================] - 1s 907us/step - loss: 4.4347 - val_loss: 5.6582\n",
      "Epoch 161/200\n",
      "1250/1250 [==============================] - 1s 903us/step - loss: 4.4376 - val_loss: 5.6362\n",
      "Epoch 162/200\n",
      "1250/1250 [==============================] - 1s 909us/step - loss: 4.4427 - val_loss: 5.7366\n",
      "Epoch 163/200\n",
      "1250/1250 [==============================] - 1s 892us/step - loss: 4.4230 - val_loss: 5.6201\n",
      "Epoch 164/200\n",
      "1250/1250 [==============================] - 1s 903us/step - loss: 4.4159 - val_loss: 5.7586\n",
      "Epoch 165/200\n",
      "1250/1250 [==============================] - 1s 901us/step - loss: 4.4338 - val_loss: 5.6775\n",
      "Epoch 166/200\n",
      "1250/1250 [==============================] - 1s 899us/step - loss: 4.4407 - val_loss: 5.6684\n",
      "Epoch 167/200\n",
      "1250/1250 [==============================] - 1s 896us/step - loss: 4.4326 - val_loss: 5.7602\n",
      "Epoch 168/200\n",
      "1250/1250 [==============================] - 1s 903us/step - loss: 4.4266 - val_loss: 5.7913\n",
      "Epoch 169/200\n",
      "1250/1250 [==============================] - 1s 898us/step - loss: 4.4155 - val_loss: 5.7161\n",
      "Epoch 170/200\n",
      "1250/1250 [==============================] - 1s 896us/step - loss: 4.4262 - val_loss: 5.7197\n",
      "Epoch 171/200\n",
      "1250/1250 [==============================] - 1s 895us/step - loss: 4.4028 - val_loss: 5.6881\n",
      "Epoch 172/200\n",
      "1250/1250 [==============================] - 1s 900us/step - loss: 4.4152 - val_loss: 5.6743\n",
      "Epoch 173/200\n",
      "1250/1250 [==============================] - 1s 897us/step - loss: 4.4188 - val_loss: 5.6594\n",
      "Epoch 174/200\n",
      "1250/1250 [==============================] - 1s 903us/step - loss: 4.3840 - val_loss: 5.6262\n",
      "Epoch 175/200\n",
      "1250/1250 [==============================] - 1s 900us/step - loss: 4.4073 - val_loss: 5.5822\n",
      "Epoch 176/200\n",
      "1250/1250 [==============================] - 1s 895us/step - loss: 4.4041 - val_loss: 5.5331\n",
      "Epoch 177/200\n",
      "1250/1250 [==============================] - 1s 899us/step - loss: 4.4087 - val_loss: 5.7754\n",
      "Epoch 178/200\n",
      "1250/1250 [==============================] - 1s 901us/step - loss: 4.4140 - val_loss: 5.6193\n",
      "Epoch 179/200\n",
      "1250/1250 [==============================] - 1s 903us/step - loss: 4.4160 - val_loss: 5.7019\n",
      "Epoch 180/200\n",
      "1250/1250 [==============================] - 1s 903us/step - loss: 4.4200 - val_loss: 5.6332\n",
      "Epoch 181/200\n",
      "1250/1250 [==============================] - 1s 903us/step - loss: 4.4110 - val_loss: 5.6280\n",
      "Epoch 182/200\n",
      "1250/1250 [==============================] - 1s 910us/step - loss: 4.3743 - val_loss: 5.7496\n",
      "Epoch 183/200\n",
      "1250/1250 [==============================] - 1s 899us/step - loss: 4.3790 - val_loss: 5.6094\n",
      "Epoch 184/200\n",
      "1250/1250 [==============================] - 1s 901us/step - loss: 4.3649 - val_loss: 5.6593\n",
      "Epoch 185/200\n",
      "1250/1250 [==============================] - 1s 898us/step - loss: 4.3756 - val_loss: 5.7691\n",
      "Epoch 186/200\n",
      "1250/1250 [==============================] - 1s 902us/step - loss: 4.3752 - val_loss: 5.7962\n",
      "Epoch 187/200\n",
      "1250/1250 [==============================] - 1s 896us/step - loss: 4.3925 - val_loss: 5.6765\n",
      "Epoch 188/200\n",
      "1250/1250 [==============================] - 1s 898us/step - loss: 4.3804 - val_loss: 5.6764\n",
      "Epoch 189/200\n",
      "1250/1250 [==============================] - 1s 905us/step - loss: 4.3796 - val_loss: 5.7070\n",
      "Epoch 190/200\n",
      "1250/1250 [==============================] - 1s 900us/step - loss: 4.3963 - val_loss: 5.6601\n",
      "Epoch 191/200\n",
      "1250/1250 [==============================] - 1s 907us/step - loss: 4.3721 - val_loss: 5.4534\n",
      "Epoch 192/200\n",
      "1250/1250 [==============================] - 1s 909us/step - loss: 4.3616 - val_loss: 5.4168\n",
      "Epoch 193/200\n",
      "1250/1250 [==============================] - 1s 907us/step - loss: 4.3649 - val_loss: 5.7890\n",
      "Epoch 194/200\n",
      "1250/1250 [==============================] - 1s 907us/step - loss: 4.4058 - val_loss: 5.7024\n",
      "Epoch 195/200\n",
      "1250/1250 [==============================] - 1s 905us/step - loss: 4.3565 - val_loss: 5.6163\n",
      "Epoch 196/200\n",
      "1250/1250 [==============================] - 1s 907us/step - loss: 4.3596 - val_loss: 5.4226\n",
      "Epoch 197/200\n",
      "1250/1250 [==============================] - 1s 909us/step - loss: 4.3523 - val_loss: 5.5034\n",
      "Epoch 198/200\n",
      "1250/1250 [==============================] - 1s 896us/step - loss: 4.3679 - val_loss: 5.8509\n",
      "Epoch 199/200\n",
      "1250/1250 [==============================] - 1s 905us/step - loss: 4.3573 - val_loss: 5.4616\n",
      "Epoch 200/200\n",
      "1250/1250 [==============================] - 1s 907us/step - loss: 4.3676 - val_loss: 5.5544\n"
     ]
    },
    {
     "data": {
      "text/plain": [
       "<tensorflow.python.keras.callbacks.History at 0x7f86841f5850>"
      ]
     },
     "execution_count": 29,
     "metadata": {},
     "output_type": "execute_result"
    }
   ],
   "source": [
    "opt = optimizers.Adamax(learning_rate=0.004)\n",
    "vae.compile(optimizer=opt, loss='binary_crossentropy')\n",
    "vae.fit(train_vecs, train_vecs,\n",
    "        epochs=200,\n",
    "        batch_size=8,\n",
    "        shuffle=True,\n",
    "        validation_data=(val_vecs, val_vecs))\n",
    "\n",
    "opt = optimizers.Adamax(learning_rate=0.001)\n",
    "vae.compile(optimizer=opt, loss='binary_crossentropy')\n",
    "vae.fit(train_vecs, train_vecs,\n",
    "        epochs=200,\n",
    "        batch_size=8,\n",
    "        shuffle=True,\n",
    "        validation_data=(val_vecs, val_vecs))"
   ]
  },
  {
   "cell_type": "markdown",
   "metadata": {},
   "source": [
    "Evaluation"
   ]
  },
  {
   "cell_type": "code",
   "execution_count": 36,
   "metadata": {
    "scrolled": true
   },
   "outputs": [
    {
     "name": "stdout",
     "output_type": "stream",
     "text": [
      "['MY33WSZ', 'WE83GXF', 'LU19JLV', 'KX41GVE', 'WP91NCV', 'SG47LFF', 'HB17WIY', 'CA89AXN', 'GT57AKA', 'CD77SJT']\n",
      "['MY33WSZ', 'DE83GXF', 'LU19JLV', 'KX41GVE', 'WP91NCV', 'SG47LFF', 'HB17WIY', 'CA89AXN', 'GT57AKA', 'CD77SJT']\n",
      "overall accuracy = 0.618\n",
      "by digit accuracy:\n",
      "    0.985\n",
      "    0.969\n",
      "    0.989\n",
      "    0.986\n",
      "    0.92\n",
      "    0.98\n",
      "    0.751\n"
     ]
    }
   ],
   "source": [
    "decoded_regs = vae.predict(test_vecs)\n",
    "print(test_strs[:10])\n",
    "recovered = [v.recover(x) for x in decoded_regs]\n",
    "print(recovered[:10])\n",
    "acc = np.sum([x == y for x, y in zip(recovered, test_strs)]) / len(test_strs)\n",
    "print('overall accuracy = ' + str(acc))\n",
    "print('by digit accuracy:')\n",
    "for i_digit in range(len(test_strs[0])):\n",
    "    acc = np.sum([x[i_digit] == y[i_digit] for x, y in zip(recovered, test_strs)]) / len(test_strs)\n",
    "    print('    ' + str(acc))"
   ]
  },
  {
   "cell_type": "markdown",
   "metadata": {},
   "source": [
    "### Use decoder as generator\n",
    "\n",
    "By directly sampling in the latent space, and running through the decoder, one effectively has a data generator."
   ]
  },
  {
   "cell_type": "code",
   "execution_count": 46,
   "metadata": {
    "scrolled": true
   },
   "outputs": [
    {
     "data": {
      "text/plain": [
       "['EW90YYO', 'BI04YDJ', 'BM90UKB', 'RI00UDJ', 'VA94YBB']"
      ]
     },
     "execution_count": 46,
     "metadata": {},
     "output_type": "execute_result"
    }
   ],
   "source": [
    "[v.recover(x) for x in decoder.predict(np.random.random((5, latent_dim)))]"
   ]
  },
  {
   "cell_type": "markdown",
   "metadata": {},
   "source": [
    "One can do some sampling and look at some stats to see what kind of data comes out. For instance, the number of reg numbers with pair of integers below 50 and above 50"
   ]
  },
  {
   "cell_type": "code",
   "execution_count": 52,
   "metadata": {},
   "outputs": [
    {
     "name": "stdout",
     "output_type": "stream",
     "text": [
      "reg numbers below 50 = 513\n",
      "reg numbers above 50 = 487\n"
     ]
    }
   ],
   "source": [
    "random_vectors = 10 * (np.random.random((1000, latent_dim)) - 0.5)\n",
    "generated_regs = [v.recover(x) for x in decoder.predict(random_vectors)]\n",
    "n_reg_below_50 = len({x for x in generated_regs if int(x[2:4]) < 50})\n",
    "n_reg_above_50 = len({x for x in generated_regs if int(x[2:4]) >= 50})\n",
    "print('reg numbers below 50 = ' + str(n_reg_below_50))\n",
    "print('reg numbers above 50 = ' + str(n_reg_above_50))"
   ]
  },
  {
   "cell_type": "markdown",
   "metadata": {},
   "source": [
    "### Avoid generating any training data\n",
    "\n",
    "There is a chance that a random generation of data might produce one of the actual registration numbers used in training. However, any input registrations are represented as a probability distribution in the latent space; so one could require that any sample vector used in the latent space to be 'sufficiently far' down the tails of all the recorded distributions.\n",
    "\n",
    "The distributions of the training data in the latent space are readily available:"
   ]
  },
  {
   "cell_type": "code",
   "execution_count": 53,
   "metadata": {
    "scrolled": false
   },
   "outputs": [
    {
     "data": {
      "text/plain": [
       "(array([-0.78045595,  0.6689708 ,  0.01360171,  0.01618406,  0.86150366,\n",
       "        -0.8979264 , -0.38878757, -0.7176368 , -0.7298499 , -0.5948149 ,\n",
       "        -0.41195926,  0.1127018 , -0.340842  ,  0.13974576, -0.2613104 ],\n",
       "       dtype=float32),\n",
       " array([0.5982543 , 0.5455288 , 0.58279663, 0.99274635, 0.5150628 ,\n",
       "        0.46606475, 0.6331187 , 0.5918072 , 0.64868414, 0.41233498,\n",
       "        0.6192983 , 0.9779963 , 0.9589769 , 0.6669466 , 0.55386484],\n",
       "       dtype=float32))"
      ]
     },
     "execution_count": 53,
     "metadata": {},
     "output_type": "execute_result"
    }
   ],
   "source": [
    "# Get the distributions for each reg number in the data\n",
    "all_strs = train_strs + val_strs + test_strs\n",
    "all_vecs = np.array([v.vectorize(x) for x in all_strs])\n",
    "means, log_sigmas, _ = encoder.predict(all_vecs)\n",
    "distn_dict = {x: (y,z) for x, y, z in zip(all_strs, means, np.exp(log_sigmas))}  # dict<reg no: (mean, sigma)>\n",
    "distn_dict['YK66BIQ']\n",
    "# for a multivariate distribution ~ N(mean, Var) valued in the latent space, \n",
    "# mean is the first vector below, and Var is a diagonal matrix, the square root\n",
    "# of the diagonal entries being given in the second vector.\n",
    "# If the KL loss function has done its job, the distributions should be close to N(0,1)"
   ]
  },
  {
   "cell_type": "markdown",
   "metadata": {},
   "source": [
    "One can access the distributions that contribute to the latent space, that represent numbers below 50:"
   ]
  },
  {
   "cell_type": "code",
   "execution_count": 57,
   "metadata": {
    "scrolled": true
   },
   "outputs": [
    {
     "name": "stdout",
     "output_type": "stream",
     "text": [
      "number of distributions with number below 50 = 6103\n"
     ]
    }
   ],
   "source": [
    "distns_below_50 = {k: v for k, v in distn_dict.items() if int(k[2:4]) < 50}\n",
    "print('number of distributions with number below 50 = ' + str(len(distns_below_50)))"
   ]
  },
  {
   "cell_type": "code",
   "execution_count": 68,
   "metadata": {},
   "outputs": [],
   "source": [
    "random_vectors = 10 * (np.random.random((1000, latent_dim)) - 0.5)\n",
    "min_mahalanobis_dists = [np.min([np.linalg.norm(np.abs(x-mu)/sigma) \n",
    "                                 for mu, sigma in distns_below_50.values()])\n",
    "                         for x in random_vectors]"
   ]
  },
  {
   "cell_type": "code",
   "execution_count": 83,
   "metadata": {},
   "outputs": [
    {
     "name": "stdout",
     "output_type": "stream",
     "text": [
      "number of filtered random vectors = 110\n"
     ]
    }
   ],
   "source": [
    "mahalanobis_threshold = 13.0\n",
    "filtered_random_vectors = [x for x, y in zip(random_vectors, min_mahalanobis_dists) \n",
    "                           if y < mahalanobis_threshold]\n",
    "print('number of filtered random vectors = ' + str(len(filtered_random_vectors)))"
   ]
  },
  {
   "cell_type": "code",
   "execution_count": 82,
   "metadata": {
    "scrolled": true
   },
   "outputs": [
    {
     "name": "stdout",
     "output_type": "stream",
     "text": [
      "filtered reg numbers below 50 = 61\n"
     ]
    }
   ],
   "source": [
    "filtered_generated_regs = [v.recover(x) for x in decoder.predict(np.array(filtered_random_vectors))]\n",
    "filtered_n_reg_below_50 = len({x for x in filtered_generated_regs if int(x[2:4]) < 50})\n",
    "print('filtered reg numbers below 50 = ' + str(filtered_n_reg_below_50))"
   ]
  }
 ],
 "metadata": {
  "kernelspec": {
   "display_name": "Python 3",
   "language": "python",
   "name": "python3"
  },
  "language_info": {
   "codemirror_mode": {
    "name": "ipython",
    "version": 3
   },
   "file_extension": ".py",
   "mimetype": "text/x-python",
   "name": "python",
   "nbconvert_exporter": "python",
   "pygments_lexer": "ipython3",
   "version": "3.7.9"
  }
 },
 "nbformat": 4,
 "nbformat_minor": 4
}
